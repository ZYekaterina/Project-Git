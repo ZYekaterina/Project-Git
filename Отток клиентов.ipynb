{
 "cells": [
  {
   "cell_type": "markdown",
   "metadata": {
    "toc": true
   },
   "source": [
    "<h1>Содержание<span class=\"tocSkip\"></span></h1>\n",
    "<div class=\"toc\"><ul class=\"toc-item\"><li><span><a href=\"#Подготовка-данных\" data-toc-modified-id=\"Подготовка-данных-1\"><span class=\"toc-item-num\">1&nbsp;&nbsp;</span>Подготовка данных</a></span><ul class=\"toc-item\"><li><span><a href=\"#Проверка-качества-данных\" data-toc-modified-id=\"Проверка-качества-данных-1.1\"><span class=\"toc-item-num\">1.1&nbsp;&nbsp;</span>Проверка качества данных</a></span></li><li><span><a href=\"#Подготовка-данных-для-машиннго-обучения\" data-toc-modified-id=\"Подготовка-данных-для-машиннго-обучения-1.2\"><span class=\"toc-item-num\">1.2&nbsp;&nbsp;</span>Подготовка данных для машиннго обучения</a></span></li><li><span><a href=\"#Формирование-выборок:-обучающая,-валидационная,-тестовая\" data-toc-modified-id=\"Формирование-выборок:-обучающая,-валидационная,-тестовая-1.3\"><span class=\"toc-item-num\">1.3&nbsp;&nbsp;</span>Формирование выборок: обучающая, валидационная, тестовая</a></span></li><li><span><a href=\"#Масштабирование-признаков\" data-toc-modified-id=\"Масштабирование-признаков-1.4\"><span class=\"toc-item-num\">1.4&nbsp;&nbsp;</span>Масштабирование признаков</a></span></li></ul></li><li><span><a href=\"#Исследование-задачи\" data-toc-modified-id=\"Исследование-задачи-2\"><span class=\"toc-item-num\">2&nbsp;&nbsp;</span>Исследование задачи</a></span><ul class=\"toc-item\"><li><span><a href=\"#Обучение-модели.-Определение-точности-разных-моделей.\" data-toc-modified-id=\"Обучение-модели.-Определение-точности-разных-моделей.-2.1\"><span class=\"toc-item-num\">2.1&nbsp;&nbsp;</span>Обучение модели. Определение точности разных моделей.</a></span></li><li><span><a href=\"#Проверка-баланса-классов-выборки\" data-toc-modified-id=\"Проверка-баланса-классов-выборки-2.2\"><span class=\"toc-item-num\">2.2&nbsp;&nbsp;</span>Проверка баланса классов выборки</a></span></li><li><span><a href=\"#Проверка-адекватности\" data-toc-modified-id=\"Проверка-адекватности-2.3\"><span class=\"toc-item-num\">2.3&nbsp;&nbsp;</span>Проверка адекватности</a></span></li></ul></li><li><span><a href=\"#Борьба-с-дисбалансом\" data-toc-modified-id=\"Борьба-с-дисбалансом-3\"><span class=\"toc-item-num\">3&nbsp;&nbsp;</span>Борьба с дисбалансом</a></span><ul class=\"toc-item\"><li><span><a href=\"#Матрица-ошибок-для-дерева-решений\" data-toc-modified-id=\"Матрица-ошибок-для-дерева-решений-3.1\"><span class=\"toc-item-num\">3.1&nbsp;&nbsp;</span>Матрица ошибок для дерева решений</a></span></li><li><span><a href=\"#Матрица-ошибок-для-случайного-леса\" data-toc-modified-id=\"Матрица-ошибок-для-случайного-леса-3.2\"><span class=\"toc-item-num\">3.2&nbsp;&nbsp;</span>Матрица ошибок для случайного леса</a></span></li><li><span><a href=\"#Матрица-ошибок-для-логистической-регрессии\" data-toc-modified-id=\"Матрица-ошибок-для-логистической-регрессии-3.3\"><span class=\"toc-item-num\">3.3&nbsp;&nbsp;</span>Матрица ошибок для логистической регрессии</a></span></li><li><span><a href=\"#Исследование-и-обучение-моделей-на-сбалансированной-выборке\" data-toc-modified-id=\"Исследование-и-обучение-моделей-на-сбалансированной-выборке-3.4\"><span class=\"toc-item-num\">3.4&nbsp;&nbsp;</span>Исследование и обучение моделей на сбалансированной выборке</a></span></li><li><span><a href=\"#Обучение-моделей-на-сбаланированных-выборках\" data-toc-modified-id=\"Обучение-моделей-на-сбаланированных-выборках-3.5\"><span class=\"toc-item-num\">3.5&nbsp;&nbsp;</span>Обучение моделей на сбаланированных выборках</a></span></li><li><span><a href=\"#Вывод-по-результатам-исследования\" data-toc-modified-id=\"Вывод-по-результатам-исследования-3.6\"><span class=\"toc-item-num\">3.6&nbsp;&nbsp;</span>Вывод по результатам исследования</a></span></li></ul></li><li><span><a href=\"#Тестирование-модели\" data-toc-modified-id=\"Тестирование-модели-4\"><span class=\"toc-item-num\">4&nbsp;&nbsp;</span>Тестирование модели</a></span></li><li><span><a href=\"#Общий-вывод\" data-toc-modified-id=\"Общий-вывод-5\"><span class=\"toc-item-num\">5&nbsp;&nbsp;</span>Общий вывод</a></span></li><li><span><a href=\"#Чек-лист-готовности-проекта\" data-toc-modified-id=\"Чек-лист-готовности-проекта-6\"><span class=\"toc-item-num\">6&nbsp;&nbsp;</span>Чек-лист готовности проекта</a></span></li></ul></div>"
   ]
  },
  {
   "cell_type": "markdown",
   "metadata": {},
   "source": [
    "# Отток клиентов"
   ]
  },
  {
   "cell_type": "markdown",
   "metadata": {},
   "source": [
    "**Заказчик:** Бета-Банк (Предоставил исторические данные о поведении клиентов и расторжении договоров с банком.)\n",
    "\n",
    "**Цель:**  Спрогнозировать, уйдёт клиент из банка в ближайшее время или нет. Построить модель с предельно большим значением F1-меры. Довести метрику до 0.59. Проверить F1-меру на тестовой выборке. Дополнительно измерить AUC-ROC, сравнить её значение с F1-мерой.\n",
    "\n",
    "**Описание проекта:** Данные находятся в файле /datasets/Churn.csv (англ. «отток клиентов»). \n",
    "\n",
    "**Признаки** \n",
    "\n",
    "*  RowNumber — индекс строки в данных\n",
    "*  CustomerId — уникальный идентификатор клиента\n",
    "*  Surname — фамилия\n",
    "*  CreditScore — кредитный рейтинг\n",
    "*  Geography — страна проживания\n",
    "*  Gender — пол\n",
    "*  Age — возраст\n",
    "*  Tenure — сколько лет человек является клиентом банка\n",
    "*  Balance — баланс на счёте\n",
    "*  NumOfProducts — количество продуктов банка, используемых клиентом\n",
    "*  HasCrCard — наличие кредитной карты\n",
    "*  sActiveMember — активность клиента\n",
    "*  EstimatedSalary — предполагаемая зарплата\n",
    "\n",
    "**Целевой признак**\n",
    "\n",
    "*  Exited — факт ухода клиента\n",
    "\n",
    "**План работы**\n",
    "1.\tЗагрузить и подготовить данные. Пояснить порядок действий.\n",
    "2.\tИсследовать баланс классов, обучить модель без учёта дисбаланса. Кратко опишисать выводы.\n",
    "3.\tУлучшить качество модели, учитывая дисбаланс классов. Обучить разные модели и найти лучшую. Кратко описать выводы.\n",
    "4.\tПровсти финальное тестирование.\n",
    "\n"
   ]
  },
  {
   "cell_type": "markdown",
   "metadata": {},
   "source": [
    "## Подготовка данных"
   ]
  },
  {
   "cell_type": "markdown",
   "metadata": {},
   "source": [
    "### Проверка качества данных"
   ]
  },
  {
   "cell_type": "markdown",
   "metadata": {},
   "source": [
    "Импортируем библиотеки необходимые для подготовки данных"
   ]
  },
  {
   "cell_type": "code",
   "execution_count": 1,
   "metadata": {},
   "outputs": [],
   "source": [
    "import pandas as pd\n",
    "import numpy as np\n",
    "import matplotlib.pyplot as plt\n",
    "from sklearn.model_selection import train_test_split\n",
    "from sklearn.preprocessing import StandardScaler\n",
    "from sklearn.tree import DecisionTreeClassifier\n",
    "from sklearn.ensemble import RandomForestClassifier\n",
    "from sklearn.linear_model import LogisticRegression\n",
    "from sklearn.metrics import accuracy_score\n",
    "from sklearn.metrics import confusion_matrix\n",
    "from sklearn.metrics import recall_score\n",
    "from sklearn.metrics import precision_score\n",
    "from sklearn.metrics import f1_score\n",
    "from sklearn.metrics import roc_auc_score\n",
    "from sklearn.metrics import roc_curve\n",
    "from sklearn.metrics import r2_score\n",
    "from sklearn.metrics import mean_absolute_error\n",
    "from sklearn.utils import shuffle\n",
    "from sklearn.linear_model import LinearRegression\n",
    "from sklearn.tree import DecisionTreeRegressor\n",
    "from sklearn.ensemble import RandomForestRegressor"
   ]
  },
  {
   "cell_type": "code",
   "execution_count": 2,
   "metadata": {},
   "outputs": [
    {
     "data": {
      "text/html": [
       "<div>\n",
       "<style scoped>\n",
       "    .dataframe tbody tr th:only-of-type {\n",
       "        vertical-align: middle;\n",
       "    }\n",
       "\n",
       "    .dataframe tbody tr th {\n",
       "        vertical-align: top;\n",
       "    }\n",
       "\n",
       "    .dataframe thead th {\n",
       "        text-align: right;\n",
       "    }\n",
       "</style>\n",
       "<table border=\"1\" class=\"dataframe\">\n",
       "  <thead>\n",
       "    <tr style=\"text-align: right;\">\n",
       "      <th></th>\n",
       "      <th>RowNumber</th>\n",
       "      <th>CustomerId</th>\n",
       "      <th>Surname</th>\n",
       "      <th>CreditScore</th>\n",
       "      <th>Geography</th>\n",
       "      <th>Gender</th>\n",
       "      <th>Age</th>\n",
       "      <th>Tenure</th>\n",
       "      <th>Balance</th>\n",
       "      <th>NumOfProducts</th>\n",
       "      <th>HasCrCard</th>\n",
       "      <th>IsActiveMember</th>\n",
       "      <th>EstimatedSalary</th>\n",
       "      <th>Exited</th>\n",
       "    </tr>\n",
       "  </thead>\n",
       "  <tbody>\n",
       "    <tr>\n",
       "      <th>0</th>\n",
       "      <td>1</td>\n",
       "      <td>15634602</td>\n",
       "      <td>Hargrave</td>\n",
       "      <td>619</td>\n",
       "      <td>France</td>\n",
       "      <td>Female</td>\n",
       "      <td>42</td>\n",
       "      <td>2.0</td>\n",
       "      <td>0.00</td>\n",
       "      <td>1</td>\n",
       "      <td>1</td>\n",
       "      <td>1</td>\n",
       "      <td>101348.88</td>\n",
       "      <td>1</td>\n",
       "    </tr>\n",
       "    <tr>\n",
       "      <th>1</th>\n",
       "      <td>2</td>\n",
       "      <td>15647311</td>\n",
       "      <td>Hill</td>\n",
       "      <td>608</td>\n",
       "      <td>Spain</td>\n",
       "      <td>Female</td>\n",
       "      <td>41</td>\n",
       "      <td>1.0</td>\n",
       "      <td>83807.86</td>\n",
       "      <td>1</td>\n",
       "      <td>0</td>\n",
       "      <td>1</td>\n",
       "      <td>112542.58</td>\n",
       "      <td>0</td>\n",
       "    </tr>\n",
       "    <tr>\n",
       "      <th>2</th>\n",
       "      <td>3</td>\n",
       "      <td>15619304</td>\n",
       "      <td>Onio</td>\n",
       "      <td>502</td>\n",
       "      <td>France</td>\n",
       "      <td>Female</td>\n",
       "      <td>42</td>\n",
       "      <td>8.0</td>\n",
       "      <td>159660.80</td>\n",
       "      <td>3</td>\n",
       "      <td>1</td>\n",
       "      <td>0</td>\n",
       "      <td>113931.57</td>\n",
       "      <td>1</td>\n",
       "    </tr>\n",
       "    <tr>\n",
       "      <th>3</th>\n",
       "      <td>4</td>\n",
       "      <td>15701354</td>\n",
       "      <td>Boni</td>\n",
       "      <td>699</td>\n",
       "      <td>France</td>\n",
       "      <td>Female</td>\n",
       "      <td>39</td>\n",
       "      <td>1.0</td>\n",
       "      <td>0.00</td>\n",
       "      <td>2</td>\n",
       "      <td>0</td>\n",
       "      <td>0</td>\n",
       "      <td>93826.63</td>\n",
       "      <td>0</td>\n",
       "    </tr>\n",
       "    <tr>\n",
       "      <th>4</th>\n",
       "      <td>5</td>\n",
       "      <td>15737888</td>\n",
       "      <td>Mitchell</td>\n",
       "      <td>850</td>\n",
       "      <td>Spain</td>\n",
       "      <td>Female</td>\n",
       "      <td>43</td>\n",
       "      <td>2.0</td>\n",
       "      <td>125510.82</td>\n",
       "      <td>1</td>\n",
       "      <td>1</td>\n",
       "      <td>1</td>\n",
       "      <td>79084.10</td>\n",
       "      <td>0</td>\n",
       "    </tr>\n",
       "  </tbody>\n",
       "</table>\n",
       "</div>"
      ],
      "text/plain": [
       "   RowNumber  CustomerId   Surname  CreditScore Geography  Gender  Age  \\\n",
       "0          1    15634602  Hargrave          619    France  Female   42   \n",
       "1          2    15647311      Hill          608     Spain  Female   41   \n",
       "2          3    15619304      Onio          502    France  Female   42   \n",
       "3          4    15701354      Boni          699    France  Female   39   \n",
       "4          5    15737888  Mitchell          850     Spain  Female   43   \n",
       "\n",
       "   Tenure    Balance  NumOfProducts  HasCrCard  IsActiveMember  \\\n",
       "0     2.0       0.00              1          1               1   \n",
       "1     1.0   83807.86              1          0               1   \n",
       "2     8.0  159660.80              3          1               0   \n",
       "3     1.0       0.00              2          0               0   \n",
       "4     2.0  125510.82              1          1               1   \n",
       "\n",
       "   EstimatedSalary  Exited  \n",
       "0        101348.88       1  \n",
       "1        112542.58       0  \n",
       "2        113931.57       1  \n",
       "3         93826.63       0  \n",
       "4         79084.10       0  "
      ]
     },
     "execution_count": 2,
     "metadata": {},
     "output_type": "execute_result"
    }
   ],
   "source": [
    "data = pd.read_csv('/datasets/Churn.csv')\n",
    "data.head()"
   ]
  },
  {
   "cell_type": "markdown",
   "metadata": {},
   "source": [
    "Целевой признак - категориальный. Задачу будем решать методами классификации."
   ]
  },
  {
   "cell_type": "code",
   "execution_count": 3,
   "metadata": {
    "scrolled": true
   },
   "outputs": [
    {
     "name": "stdout",
     "output_type": "stream",
     "text": [
      "<class 'pandas.core.frame.DataFrame'>\n",
      "RangeIndex: 10000 entries, 0 to 9999\n",
      "Data columns (total 14 columns):\n",
      " #   Column           Non-Null Count  Dtype  \n",
      "---  ------           --------------  -----  \n",
      " 0   RowNumber        10000 non-null  int64  \n",
      " 1   CustomerId       10000 non-null  int64  \n",
      " 2   Surname          10000 non-null  object \n",
      " 3   CreditScore      10000 non-null  int64  \n",
      " 4   Geography        10000 non-null  object \n",
      " 5   Gender           10000 non-null  object \n",
      " 6   Age              10000 non-null  int64  \n",
      " 7   Tenure           9091 non-null   float64\n",
      " 8   Balance          10000 non-null  float64\n",
      " 9   NumOfProducts    10000 non-null  int64  \n",
      " 10  HasCrCard        10000 non-null  int64  \n",
      " 11  IsActiveMember   10000 non-null  int64  \n",
      " 12  EstimatedSalary  10000 non-null  float64\n",
      " 13  Exited           10000 non-null  int64  \n",
      "dtypes: float64(3), int64(8), object(3)\n",
      "memory usage: 1.1+ MB\n"
     ]
    }
   ],
   "source": [
    "data.info()"
   ]
  },
  {
   "cell_type": "markdown",
   "metadata": {},
   "source": [
    "Датасет содержит 10000 строк.\n",
    "\n",
    "Tenure - столбец содержит пропуски. Заменим эти пропуски нулевыми значениями.\n",
    "\n",
    "RowNumber — столбец дублирует информацию стандартного датафрейма и не несетя ценности для обучения модели. Поэтому столбец можно удалить.\n",
    "\n",
    "CustomerId — является идентификатором пользователя (по данному столбцу значению необходимо проверить наличие дубликатов) и если отсутсвуют — стоблец также можно удалить.\n",
    "\n",
    "Surname — является идентифицирующей пользователя информацией. Не несет ценности для качества будущей модели — столбец можно удалить.\n",
    "\n",
    "CreditScore — следует проверить распределение и сохранить данный столбец.\n",
    "\n",
    "Geography — проверить на уникальность значений, выполнить преобразование OHE / ordinal encoding\n",
    "\n",
    "Gender — значение преобразовать — OHE / ordinal encoding.\n",
    "\n",
    "Age — Exited — тип данных верны, требуется проработка OHE."
   ]
  },
  {
   "cell_type": "code",
   "execution_count": 4,
   "metadata": {
    "scrolled": true
   },
   "outputs": [
    {
     "name": "stdout",
     "output_type": "stream",
     "text": [
      "<class 'pandas.core.frame.DataFrame'>\n",
      "RangeIndex: 10000 entries, 0 to 9999\n",
      "Data columns (total 14 columns):\n",
      " #   Column           Non-Null Count  Dtype  \n",
      "---  ------           --------------  -----  \n",
      " 0   RowNumber        10000 non-null  int64  \n",
      " 1   CustomerId       10000 non-null  int64  \n",
      " 2   Surname          10000 non-null  object \n",
      " 3   CreditScore      10000 non-null  int64  \n",
      " 4   Geography        10000 non-null  object \n",
      " 5   Gender           10000 non-null  object \n",
      " 6   Age              10000 non-null  int64  \n",
      " 7   Tenure           10000 non-null  float64\n",
      " 8   Balance          10000 non-null  float64\n",
      " 9   NumOfProducts    10000 non-null  int64  \n",
      " 10  HasCrCard        10000 non-null  int64  \n",
      " 11  IsActiveMember   10000 non-null  int64  \n",
      " 12  EstimatedSalary  10000 non-null  float64\n",
      " 13  Exited           10000 non-null  int64  \n",
      "dtypes: float64(3), int64(8), object(3)\n",
      "memory usage: 1.1+ MB\n"
     ]
    }
   ],
   "source": [
    "data['Tenure'] = data['Tenure'].fillna(0)\n",
    "data.info()"
   ]
  },
  {
   "cell_type": "code",
   "execution_count": 5,
   "metadata": {},
   "outputs": [
    {
     "data": {
      "text/plain": [
       "0"
      ]
     },
     "execution_count": 5,
     "metadata": {},
     "output_type": "execute_result"
    }
   ],
   "source": [
    "data.duplicated().sum()"
   ]
  },
  {
   "cell_type": "code",
   "execution_count": 6,
   "metadata": {},
   "outputs": [
    {
     "data": {
      "text/plain": [
       "10000"
      ]
     },
     "execution_count": 6,
     "metadata": {},
     "output_type": "execute_result"
    }
   ],
   "source": [
    "data['CustomerId'].value_counts().sum()"
   ]
  },
  {
   "cell_type": "markdown",
   "metadata": {},
   "source": [
    "Дупликатов в данных не обнаружено.\n",
    "Приступим к изменению оптимизации всего датафрейма. Сначала уберем лишние столбцы."
   ]
  },
  {
   "cell_type": "markdown",
   "metadata": {},
   "source": [
    "### Подготовка данных для машиннго обучения"
   ]
  },
  {
   "cell_type": "markdown",
   "metadata": {},
   "source": [
    "Обозначим новый датафрейм \"data_ml\" — данные для машинного обучения. Удалим столбцы-идентификаторы, не представляющие ценностия для алгоритма. "
   ]
  },
  {
   "cell_type": "code",
   "execution_count": 7,
   "metadata": {},
   "outputs": [
    {
     "data": {
      "text/html": [
       "<div>\n",
       "<style scoped>\n",
       "    .dataframe tbody tr th:only-of-type {\n",
       "        vertical-align: middle;\n",
       "    }\n",
       "\n",
       "    .dataframe tbody tr th {\n",
       "        vertical-align: top;\n",
       "    }\n",
       "\n",
       "    .dataframe thead th {\n",
       "        text-align: right;\n",
       "    }\n",
       "</style>\n",
       "<table border=\"1\" class=\"dataframe\">\n",
       "  <thead>\n",
       "    <tr style=\"text-align: right;\">\n",
       "      <th></th>\n",
       "      <th>CreditScore</th>\n",
       "      <th>Geography</th>\n",
       "      <th>Gender</th>\n",
       "      <th>Age</th>\n",
       "      <th>Tenure</th>\n",
       "      <th>Balance</th>\n",
       "      <th>NumOfProducts</th>\n",
       "      <th>HasCrCard</th>\n",
       "      <th>IsActiveMember</th>\n",
       "      <th>EstimatedSalary</th>\n",
       "      <th>Exited</th>\n",
       "    </tr>\n",
       "  </thead>\n",
       "  <tbody>\n",
       "    <tr>\n",
       "      <th>0</th>\n",
       "      <td>619</td>\n",
       "      <td>France</td>\n",
       "      <td>Female</td>\n",
       "      <td>42</td>\n",
       "      <td>2.0</td>\n",
       "      <td>0.00</td>\n",
       "      <td>1</td>\n",
       "      <td>1</td>\n",
       "      <td>1</td>\n",
       "      <td>101348.88</td>\n",
       "      <td>1</td>\n",
       "    </tr>\n",
       "    <tr>\n",
       "      <th>1</th>\n",
       "      <td>608</td>\n",
       "      <td>Spain</td>\n",
       "      <td>Female</td>\n",
       "      <td>41</td>\n",
       "      <td>1.0</td>\n",
       "      <td>83807.86</td>\n",
       "      <td>1</td>\n",
       "      <td>0</td>\n",
       "      <td>1</td>\n",
       "      <td>112542.58</td>\n",
       "      <td>0</td>\n",
       "    </tr>\n",
       "    <tr>\n",
       "      <th>2</th>\n",
       "      <td>502</td>\n",
       "      <td>France</td>\n",
       "      <td>Female</td>\n",
       "      <td>42</td>\n",
       "      <td>8.0</td>\n",
       "      <td>159660.80</td>\n",
       "      <td>3</td>\n",
       "      <td>1</td>\n",
       "      <td>0</td>\n",
       "      <td>113931.57</td>\n",
       "      <td>1</td>\n",
       "    </tr>\n",
       "    <tr>\n",
       "      <th>3</th>\n",
       "      <td>699</td>\n",
       "      <td>France</td>\n",
       "      <td>Female</td>\n",
       "      <td>39</td>\n",
       "      <td>1.0</td>\n",
       "      <td>0.00</td>\n",
       "      <td>2</td>\n",
       "      <td>0</td>\n",
       "      <td>0</td>\n",
       "      <td>93826.63</td>\n",
       "      <td>0</td>\n",
       "    </tr>\n",
       "    <tr>\n",
       "      <th>4</th>\n",
       "      <td>850</td>\n",
       "      <td>Spain</td>\n",
       "      <td>Female</td>\n",
       "      <td>43</td>\n",
       "      <td>2.0</td>\n",
       "      <td>125510.82</td>\n",
       "      <td>1</td>\n",
       "      <td>1</td>\n",
       "      <td>1</td>\n",
       "      <td>79084.10</td>\n",
       "      <td>0</td>\n",
       "    </tr>\n",
       "  </tbody>\n",
       "</table>\n",
       "</div>"
      ],
      "text/plain": [
       "   CreditScore Geography  Gender  Age  Tenure    Balance  NumOfProducts  \\\n",
       "0          619    France  Female   42     2.0       0.00              1   \n",
       "1          608     Spain  Female   41     1.0   83807.86              1   \n",
       "2          502    France  Female   42     8.0  159660.80              3   \n",
       "3          699    France  Female   39     1.0       0.00              2   \n",
       "4          850     Spain  Female   43     2.0  125510.82              1   \n",
       "\n",
       "   HasCrCard  IsActiveMember  EstimatedSalary  Exited  \n",
       "0          1               1        101348.88       1  \n",
       "1          0               1        112542.58       0  \n",
       "2          1               0        113931.57       1  \n",
       "3          0               0         93826.63       0  \n",
       "4          1               1         79084.10       0  "
      ]
     },
     "execution_count": 7,
     "metadata": {},
     "output_type": "execute_result"
    }
   ],
   "source": [
    "for_drop = ['RowNumber','CustomerId', 'Surname']\n",
    "data_ml = data.drop(for_drop, axis=1)\n",
    "data_ml.head()"
   ]
  },
  {
   "cell_type": "code",
   "execution_count": 8,
   "metadata": {},
   "outputs": [
    {
     "data": {
      "text/plain": [
       "(10000, 11)"
      ]
     },
     "execution_count": 8,
     "metadata": {},
     "output_type": "execute_result"
    }
   ],
   "source": [
    "data_ml.shape"
   ]
  },
  {
   "cell_type": "code",
   "execution_count": 9,
   "metadata": {},
   "outputs": [
    {
     "data": {
      "text/plain": [
       "array(['France', 'Spain', 'Germany'], dtype=object)"
      ]
     },
     "execution_count": 9,
     "metadata": {},
     "output_type": "execute_result"
    }
   ],
   "source": [
    "data['Geography'].unique()"
   ]
  },
  {
   "cell_type": "markdown",
   "metadata": {},
   "source": [
    "Данные подготовим методом OHE, что позволит нам использовать модели - дерево решений, случайный лес и логистическую регрессию."
   ]
  },
  {
   "cell_type": "code",
   "execution_count": 10,
   "metadata": {},
   "outputs": [
    {
     "data": {
      "text/html": [
       "<div>\n",
       "<style scoped>\n",
       "    .dataframe tbody tr th:only-of-type {\n",
       "        vertical-align: middle;\n",
       "    }\n",
       "\n",
       "    .dataframe tbody tr th {\n",
       "        vertical-align: top;\n",
       "    }\n",
       "\n",
       "    .dataframe thead th {\n",
       "        text-align: right;\n",
       "    }\n",
       "</style>\n",
       "<table border=\"1\" class=\"dataframe\">\n",
       "  <thead>\n",
       "    <tr style=\"text-align: right;\">\n",
       "      <th></th>\n",
       "      <th>CreditScore</th>\n",
       "      <th>Age</th>\n",
       "      <th>Tenure</th>\n",
       "      <th>Balance</th>\n",
       "      <th>NumOfProducts</th>\n",
       "      <th>HasCrCard</th>\n",
       "      <th>IsActiveMember</th>\n",
       "      <th>EstimatedSalary</th>\n",
       "      <th>Exited</th>\n",
       "      <th>Geography_Germany</th>\n",
       "      <th>Geography_Spain</th>\n",
       "      <th>Gender_Male</th>\n",
       "    </tr>\n",
       "  </thead>\n",
       "  <tbody>\n",
       "    <tr>\n",
       "      <th>0</th>\n",
       "      <td>619</td>\n",
       "      <td>42</td>\n",
       "      <td>2.0</td>\n",
       "      <td>0.00</td>\n",
       "      <td>1</td>\n",
       "      <td>1</td>\n",
       "      <td>1</td>\n",
       "      <td>101348.88</td>\n",
       "      <td>1</td>\n",
       "      <td>0</td>\n",
       "      <td>0</td>\n",
       "      <td>0</td>\n",
       "    </tr>\n",
       "    <tr>\n",
       "      <th>1</th>\n",
       "      <td>608</td>\n",
       "      <td>41</td>\n",
       "      <td>1.0</td>\n",
       "      <td>83807.86</td>\n",
       "      <td>1</td>\n",
       "      <td>0</td>\n",
       "      <td>1</td>\n",
       "      <td>112542.58</td>\n",
       "      <td>0</td>\n",
       "      <td>0</td>\n",
       "      <td>1</td>\n",
       "      <td>0</td>\n",
       "    </tr>\n",
       "    <tr>\n",
       "      <th>2</th>\n",
       "      <td>502</td>\n",
       "      <td>42</td>\n",
       "      <td>8.0</td>\n",
       "      <td>159660.80</td>\n",
       "      <td>3</td>\n",
       "      <td>1</td>\n",
       "      <td>0</td>\n",
       "      <td>113931.57</td>\n",
       "      <td>1</td>\n",
       "      <td>0</td>\n",
       "      <td>0</td>\n",
       "      <td>0</td>\n",
       "    </tr>\n",
       "    <tr>\n",
       "      <th>3</th>\n",
       "      <td>699</td>\n",
       "      <td>39</td>\n",
       "      <td>1.0</td>\n",
       "      <td>0.00</td>\n",
       "      <td>2</td>\n",
       "      <td>0</td>\n",
       "      <td>0</td>\n",
       "      <td>93826.63</td>\n",
       "      <td>0</td>\n",
       "      <td>0</td>\n",
       "      <td>0</td>\n",
       "      <td>0</td>\n",
       "    </tr>\n",
       "    <tr>\n",
       "      <th>4</th>\n",
       "      <td>850</td>\n",
       "      <td>43</td>\n",
       "      <td>2.0</td>\n",
       "      <td>125510.82</td>\n",
       "      <td>1</td>\n",
       "      <td>1</td>\n",
       "      <td>1</td>\n",
       "      <td>79084.10</td>\n",
       "      <td>0</td>\n",
       "      <td>0</td>\n",
       "      <td>1</td>\n",
       "      <td>0</td>\n",
       "    </tr>\n",
       "  </tbody>\n",
       "</table>\n",
       "</div>"
      ],
      "text/plain": [
       "   CreditScore  Age  Tenure    Balance  NumOfProducts  HasCrCard  \\\n",
       "0          619   42     2.0       0.00              1          1   \n",
       "1          608   41     1.0   83807.86              1          0   \n",
       "2          502   42     8.0  159660.80              3          1   \n",
       "3          699   39     1.0       0.00              2          0   \n",
       "4          850   43     2.0  125510.82              1          1   \n",
       "\n",
       "   IsActiveMember  EstimatedSalary  Exited  Geography_Germany  \\\n",
       "0               1        101348.88       1                  0   \n",
       "1               1        112542.58       0                  0   \n",
       "2               0        113931.57       1                  0   \n",
       "3               0         93826.63       0                  0   \n",
       "4               1         79084.10       0                  0   \n",
       "\n",
       "   Geography_Spain  Gender_Male  \n",
       "0                0            0  \n",
       "1                1            0  \n",
       "2                0            0  \n",
       "3                0            0  \n",
       "4                1            0  "
      ]
     },
     "execution_count": 10,
     "metadata": {},
     "output_type": "execute_result"
    }
   ],
   "source": [
    "data_ml = pd.get_dummies(data_ml, drop_first=True)\n",
    "data_ml.head()"
   ]
  },
  {
   "cell_type": "code",
   "execution_count": 11,
   "metadata": {},
   "outputs": [
    {
     "data": {
      "text/plain": [
       "(10000, 12)"
      ]
     },
     "execution_count": 11,
     "metadata": {},
     "output_type": "execute_result"
    }
   ],
   "source": [
    "data_ml.shape"
   ]
  },
  {
   "cell_type": "markdown",
   "metadata": {},
   "source": [
    "В новом датафрейме мы получили 12 столбцов. Столбец Geography содержал 3 класса, Gender_Male - 2 класса. В результате преобразования мы получили 2 в превом случае и 1 класс во втором. Это преобразование позволяет избежать дами-ловушки фиктивных признаков."
   ]
  },
  {
   "cell_type": "markdown",
   "metadata": {},
   "source": [
    "### Формирование выборок: обучающая, валидационная, тестовая"
   ]
  },
  {
   "cell_type": "markdown",
   "metadata": {},
   "source": [
    "У нас нет отдельно выделенной тестовой выборки, поэтому существющие данные мы делим на три выборки:\n",
    "\n",
    "*  обучающющую 50% -  для обучения модели\n",
    "*  валидационнную 25% - для выбора лучшего алгоритма и оптимальных параметров\n",
    "*  тестовую 25% - для финального теста лучшей модели."
   ]
  },
  {
   "cell_type": "markdown",
   "metadata": {},
   "source": [
    "Разделим на признаки и целевой признак."
   ]
  },
  {
   "cell_type": "code",
   "execution_count": 12,
   "metadata": {},
   "outputs": [],
   "source": [
    "features = data_ml.drop('Exited', axis=1)\n",
    "target = data_ml['Exited']"
   ]
  },
  {
   "cell_type": "code",
   "execution_count": 13,
   "metadata": {},
   "outputs": [
    {
     "data": {
      "text/html": [
       "<div>\n",
       "<style scoped>\n",
       "    .dataframe tbody tr th:only-of-type {\n",
       "        vertical-align: middle;\n",
       "    }\n",
       "\n",
       "    .dataframe tbody tr th {\n",
       "        vertical-align: top;\n",
       "    }\n",
       "\n",
       "    .dataframe thead th {\n",
       "        text-align: right;\n",
       "    }\n",
       "</style>\n",
       "<table border=\"1\" class=\"dataframe\">\n",
       "  <thead>\n",
       "    <tr style=\"text-align: right;\">\n",
       "      <th></th>\n",
       "      <th>CreditScore</th>\n",
       "      <th>Age</th>\n",
       "      <th>Tenure</th>\n",
       "      <th>Balance</th>\n",
       "      <th>NumOfProducts</th>\n",
       "      <th>HasCrCard</th>\n",
       "      <th>IsActiveMember</th>\n",
       "      <th>EstimatedSalary</th>\n",
       "      <th>Geography_Germany</th>\n",
       "      <th>Geography_Spain</th>\n",
       "      <th>Gender_Male</th>\n",
       "    </tr>\n",
       "  </thead>\n",
       "  <tbody>\n",
       "    <tr>\n",
       "      <th>0</th>\n",
       "      <td>619</td>\n",
       "      <td>42</td>\n",
       "      <td>2.0</td>\n",
       "      <td>0.00</td>\n",
       "      <td>1</td>\n",
       "      <td>1</td>\n",
       "      <td>1</td>\n",
       "      <td>101348.88</td>\n",
       "      <td>0</td>\n",
       "      <td>0</td>\n",
       "      <td>0</td>\n",
       "    </tr>\n",
       "    <tr>\n",
       "      <th>1</th>\n",
       "      <td>608</td>\n",
       "      <td>41</td>\n",
       "      <td>1.0</td>\n",
       "      <td>83807.86</td>\n",
       "      <td>1</td>\n",
       "      <td>0</td>\n",
       "      <td>1</td>\n",
       "      <td>112542.58</td>\n",
       "      <td>0</td>\n",
       "      <td>1</td>\n",
       "      <td>0</td>\n",
       "    </tr>\n",
       "    <tr>\n",
       "      <th>2</th>\n",
       "      <td>502</td>\n",
       "      <td>42</td>\n",
       "      <td>8.0</td>\n",
       "      <td>159660.80</td>\n",
       "      <td>3</td>\n",
       "      <td>1</td>\n",
       "      <td>0</td>\n",
       "      <td>113931.57</td>\n",
       "      <td>0</td>\n",
       "      <td>0</td>\n",
       "      <td>0</td>\n",
       "    </tr>\n",
       "    <tr>\n",
       "      <th>3</th>\n",
       "      <td>699</td>\n",
       "      <td>39</td>\n",
       "      <td>1.0</td>\n",
       "      <td>0.00</td>\n",
       "      <td>2</td>\n",
       "      <td>0</td>\n",
       "      <td>0</td>\n",
       "      <td>93826.63</td>\n",
       "      <td>0</td>\n",
       "      <td>0</td>\n",
       "      <td>0</td>\n",
       "    </tr>\n",
       "    <tr>\n",
       "      <th>4</th>\n",
       "      <td>850</td>\n",
       "      <td>43</td>\n",
       "      <td>2.0</td>\n",
       "      <td>125510.82</td>\n",
       "      <td>1</td>\n",
       "      <td>1</td>\n",
       "      <td>1</td>\n",
       "      <td>79084.10</td>\n",
       "      <td>0</td>\n",
       "      <td>1</td>\n",
       "      <td>0</td>\n",
       "    </tr>\n",
       "  </tbody>\n",
       "</table>\n",
       "</div>"
      ],
      "text/plain": [
       "   CreditScore  Age  Tenure    Balance  NumOfProducts  HasCrCard  \\\n",
       "0          619   42     2.0       0.00              1          1   \n",
       "1          608   41     1.0   83807.86              1          0   \n",
       "2          502   42     8.0  159660.80              3          1   \n",
       "3          699   39     1.0       0.00              2          0   \n",
       "4          850   43     2.0  125510.82              1          1   \n",
       "\n",
       "   IsActiveMember  EstimatedSalary  Geography_Germany  Geography_Spain  \\\n",
       "0               1        101348.88                  0                0   \n",
       "1               1        112542.58                  0                1   \n",
       "2               0        113931.57                  0                0   \n",
       "3               0         93826.63                  0                0   \n",
       "4               1         79084.10                  0                1   \n",
       "\n",
       "   Gender_Male  \n",
       "0            0  \n",
       "1            0  \n",
       "2            0  \n",
       "3            0  \n",
       "4            0  "
      ]
     },
     "execution_count": 13,
     "metadata": {},
     "output_type": "execute_result"
    }
   ],
   "source": [
    "features.head()"
   ]
  },
  {
   "cell_type": "code",
   "execution_count": 14,
   "metadata": {},
   "outputs": [
    {
     "data": {
      "text/plain": [
       "0    1\n",
       "1    0\n",
       "2    1\n",
       "3    0\n",
       "4    0\n",
       "Name: Exited, dtype: int64"
      ]
     },
     "execution_count": 14,
     "metadata": {},
     "output_type": "execute_result"
    }
   ],
   "source": [
    "target.head()"
   ]
  },
  {
   "cell_type": "markdown",
   "metadata": {},
   "source": [
    "Разделение выборки произведем в 2 этапа:\n",
    "\n",
    "1. Выделим валидационную 50%\n",
    "2. Разделим оставшиеся 25% на 2 равные части (валидационная и тестовая)"
   ]
  },
  {
   "cell_type": "code",
   "execution_count": 15,
   "metadata": {},
   "outputs": [
    {
     "name": "stdout",
     "output_type": "stream",
     "text": [
      "Признаки обучающей выборки: (5000, 11)\n",
      "Целевой признак обучающей выборки: (5000,)\n",
      "Валидационная и тестовая вместе (5000, 11) (5000,)\n"
     ]
    }
   ],
   "source": [
    "features_train, features_validtest, target_train, target_validtest = train_test_split(features,\n",
    "                                                    target,\n",
    "                                                    train_size=0.5,\n",
    "                                                    random_state=12345, \n",
    "                                                    stratify=target)\n",
    "print('Признаки обучающей выборки:',features_train.shape)\n",
    "print('Целевой признак обучающей выборки:', target_train.shape)\n",
    "print('Валидационная и тестовая вместе', features_validtest.shape, target_validtest.shape)"
   ]
  },
  {
   "cell_type": "code",
   "execution_count": 16,
   "metadata": {},
   "outputs": [
    {
     "name": "stdout",
     "output_type": "stream",
     "text": [
      "Обучающие признаки валидационной выборки: (2500, 11)\n",
      "Целевой признак валидационной выборки: (2500,)\n",
      "Обучающие признаки тестовой выборки: (2500, 11)\n",
      "Целевой признак тестовой выборки: (2500,)\n"
     ]
    }
   ],
   "source": [
    "features_valid, features_test, target_valid, target_test = train_test_split(features_validtest,\n",
    "                                                    target_validtest,\n",
    "                                                    train_size=0.5,\n",
    "                                                    random_state=12345, \n",
    "                                                    stratify=target_validtest)\n",
    "print('Обучающие признаки валидационной выборки:', features_valid.shape)\n",
    "print('Целевой признак валидационной выборки:', target_valid.shape)\n",
    "print('Обучающие признаки тестовой выборки:', features_test.shape)\n",
    "print('Целевой признак тестовой выборки:' , target_test.shape)"
   ]
  },
  {
   "cell_type": "markdown",
   "metadata": {},
   "source": [
    "Полученые выбрки:\n",
    "\n",
    "**Обучающая:** features_train, target_train\n",
    "\n",
    "**Валидационная:** features_valid, target_valid\n",
    "\n",
    "**Тестовая:** features_test, target_test"
   ]
  },
  {
   "cell_type": "markdown",
   "metadata": {},
   "source": [
    "### Масштабирование признаков"
   ]
  },
  {
   "cell_type": "markdown",
   "metadata": {},
   "source": [
    "Выделим численные признаки,создадим объект этой структуры и настроим его на обучающих данных."
   ]
  },
  {
   "cell_type": "code",
   "execution_count": 17,
   "metadata": {},
   "outputs": [
    {
     "name": "stderr",
     "output_type": "stream",
     "text": [
      "/tmp/ipykernel_86/3878559390.py:4: SettingWithCopyWarning: \n",
      "A value is trying to be set on a copy of a slice from a DataFrame.\n",
      "Try using .loc[row_indexer,col_indexer] = value instead\n",
      "\n",
      "See the caveats in the documentation: https://pandas.pydata.org/pandas-docs/stable/user_guide/indexing.html#returning-a-view-versus-a-copy\n",
      "  features_train[numeric] = scaler.transform(features_train[numeric])\n",
      "/opt/conda/lib/python3.9/site-packages/pandas/core/indexing.py:1738: SettingWithCopyWarning: \n",
      "A value is trying to be set on a copy of a slice from a DataFrame.\n",
      "Try using .loc[row_indexer,col_indexer] = value instead\n",
      "\n",
      "See the caveats in the documentation: https://pandas.pydata.org/pandas-docs/stable/user_guide/indexing.html#returning-a-view-versus-a-copy\n",
      "  self._setitem_single_column(loc, value[:, i].tolist(), pi)\n"
     ]
    },
    {
     "data": {
      "text/html": [
       "<div>\n",
       "<style scoped>\n",
       "    .dataframe tbody tr th:only-of-type {\n",
       "        vertical-align: middle;\n",
       "    }\n",
       "\n",
       "    .dataframe tbody tr th {\n",
       "        vertical-align: top;\n",
       "    }\n",
       "\n",
       "    .dataframe thead th {\n",
       "        text-align: right;\n",
       "    }\n",
       "</style>\n",
       "<table border=\"1\" class=\"dataframe\">\n",
       "  <thead>\n",
       "    <tr style=\"text-align: right;\">\n",
       "      <th></th>\n",
       "      <th>CreditScore</th>\n",
       "      <th>Age</th>\n",
       "      <th>Tenure</th>\n",
       "      <th>Balance</th>\n",
       "      <th>NumOfProducts</th>\n",
       "      <th>HasCrCard</th>\n",
       "      <th>IsActiveMember</th>\n",
       "      <th>EstimatedSalary</th>\n",
       "      <th>Geography_Germany</th>\n",
       "      <th>Geography_Spain</th>\n",
       "      <th>Gender_Male</th>\n",
       "    </tr>\n",
       "  </thead>\n",
       "  <tbody>\n",
       "    <tr>\n",
       "      <th>5460</th>\n",
       "      <td>0.111187</td>\n",
       "      <td>0.193128</td>\n",
       "      <td>0.153246</td>\n",
       "      <td>0.740076</td>\n",
       "      <td>0.809174</td>\n",
       "      <td>0</td>\n",
       "      <td>1</td>\n",
       "      <td>0.368972</td>\n",
       "      <td>1</td>\n",
       "      <td>0</td>\n",
       "      <td>1</td>\n",
       "    </tr>\n",
       "    <tr>\n",
       "      <th>3610</th>\n",
       "      <td>-0.726970</td>\n",
       "      <td>1.626818</td>\n",
       "      <td>-1.135616</td>\n",
       "      <td>0.880243</td>\n",
       "      <td>-0.929489</td>\n",
       "      <td>1</td>\n",
       "      <td>0</td>\n",
       "      <td>0.129920</td>\n",
       "      <td>0</td>\n",
       "      <td>0</td>\n",
       "      <td>0</td>\n",
       "    </tr>\n",
       "    <tr>\n",
       "      <th>3892</th>\n",
       "      <td>-1.047746</td>\n",
       "      <td>0.575445</td>\n",
       "      <td>0.475461</td>\n",
       "      <td>0.766921</td>\n",
       "      <td>-0.929489</td>\n",
       "      <td>1</td>\n",
       "      <td>1</td>\n",
       "      <td>0.816963</td>\n",
       "      <td>1</td>\n",
       "      <td>0</td>\n",
       "      <td>1</td>\n",
       "    </tr>\n",
       "    <tr>\n",
       "      <th>4734</th>\n",
       "      <td>-0.623494</td>\n",
       "      <td>1.435659</td>\n",
       "      <td>-0.168970</td>\n",
       "      <td>-1.208445</td>\n",
       "      <td>0.809174</td>\n",
       "      <td>1</td>\n",
       "      <td>1</td>\n",
       "      <td>-0.098170</td>\n",
       "      <td>0</td>\n",
       "      <td>0</td>\n",
       "      <td>0</td>\n",
       "    </tr>\n",
       "    <tr>\n",
       "      <th>6102</th>\n",
       "      <td>-0.085418</td>\n",
       "      <td>-0.284769</td>\n",
       "      <td>0.475461</td>\n",
       "      <td>-1.208445</td>\n",
       "      <td>0.809174</td>\n",
       "      <td>1</td>\n",
       "      <td>1</td>\n",
       "      <td>-0.026458</td>\n",
       "      <td>0</td>\n",
       "      <td>1</td>\n",
       "      <td>0</td>\n",
       "    </tr>\n",
       "  </tbody>\n",
       "</table>\n",
       "</div>"
      ],
      "text/plain": [
       "      CreditScore       Age    Tenure   Balance  NumOfProducts  HasCrCard  \\\n",
       "5460     0.111187  0.193128  0.153246  0.740076       0.809174          0   \n",
       "3610    -0.726970  1.626818 -1.135616  0.880243      -0.929489          1   \n",
       "3892    -1.047746  0.575445  0.475461  0.766921      -0.929489          1   \n",
       "4734    -0.623494  1.435659 -0.168970 -1.208445       0.809174          1   \n",
       "6102    -0.085418 -0.284769  0.475461 -1.208445       0.809174          1   \n",
       "\n",
       "      IsActiveMember  EstimatedSalary  Geography_Germany  Geography_Spain  \\\n",
       "5460               1         0.368972                  1                0   \n",
       "3610               0         0.129920                  0                0   \n",
       "3892               1         0.816963                  1                0   \n",
       "4734               1        -0.098170                  0                0   \n",
       "6102               1        -0.026458                  0                1   \n",
       "\n",
       "      Gender_Male  \n",
       "5460            1  \n",
       "3610            0  \n",
       "3892            1  \n",
       "4734            0  \n",
       "6102            0  "
      ]
     },
     "execution_count": 17,
     "metadata": {},
     "output_type": "execute_result"
    }
   ],
   "source": [
    "numeric = ['CreditScore', 'Age', 'Tenure', 'Balance', 'NumOfProducts', 'EstimatedSalary']\n",
    "scaler = StandardScaler()\n",
    "scaler.fit(features_train[numeric])\n",
    "features_train[numeric] = scaler.transform(features_train[numeric])\n",
    "features_train.head()"
   ]
  },
  {
   "cell_type": "markdown",
   "metadata": {},
   "source": [
    "Масштабируем численные признаки валидационной выборки "
   ]
  },
  {
   "cell_type": "code",
   "execution_count": 18,
   "metadata": {},
   "outputs": [
    {
     "name": "stderr",
     "output_type": "stream",
     "text": [
      "/tmp/ipykernel_86/3568182040.py:1: SettingWithCopyWarning: \n",
      "A value is trying to be set on a copy of a slice from a DataFrame.\n",
      "Try using .loc[row_indexer,col_indexer] = value instead\n",
      "\n",
      "See the caveats in the documentation: https://pandas.pydata.org/pandas-docs/stable/user_guide/indexing.html#returning-a-view-versus-a-copy\n",
      "  features_valid[numeric] = scaler.transform(features_valid[numeric])\n",
      "/opt/conda/lib/python3.9/site-packages/pandas/core/indexing.py:1738: SettingWithCopyWarning: \n",
      "A value is trying to be set on a copy of a slice from a DataFrame.\n",
      "Try using .loc[row_indexer,col_indexer] = value instead\n",
      "\n",
      "See the caveats in the documentation: https://pandas.pydata.org/pandas-docs/stable/user_guide/indexing.html#returning-a-view-versus-a-copy\n",
      "  self._setitem_single_column(loc, value[:, i].tolist(), pi)\n"
     ]
    },
    {
     "data": {
      "text/html": [
       "<div>\n",
       "<style scoped>\n",
       "    .dataframe tbody tr th:only-of-type {\n",
       "        vertical-align: middle;\n",
       "    }\n",
       "\n",
       "    .dataframe tbody tr th {\n",
       "        vertical-align: top;\n",
       "    }\n",
       "\n",
       "    .dataframe thead th {\n",
       "        text-align: right;\n",
       "    }\n",
       "</style>\n",
       "<table border=\"1\" class=\"dataframe\">\n",
       "  <thead>\n",
       "    <tr style=\"text-align: right;\">\n",
       "      <th></th>\n",
       "      <th>CreditScore</th>\n",
       "      <th>Age</th>\n",
       "      <th>Tenure</th>\n",
       "      <th>Balance</th>\n",
       "      <th>NumOfProducts</th>\n",
       "      <th>HasCrCard</th>\n",
       "      <th>IsActiveMember</th>\n",
       "      <th>EstimatedSalary</th>\n",
       "      <th>Geography_Germany</th>\n",
       "      <th>Geography_Spain</th>\n",
       "      <th>Gender_Male</th>\n",
       "    </tr>\n",
       "  </thead>\n",
       "  <tbody>\n",
       "    <tr>\n",
       "      <th>4492</th>\n",
       "      <td>-0.623494</td>\n",
       "      <td>-0.667086</td>\n",
       "      <td>-1.457831</td>\n",
       "      <td>0.822924</td>\n",
       "      <td>-0.929489</td>\n",
       "      <td>1</td>\n",
       "      <td>0</td>\n",
       "      <td>0.021934</td>\n",
       "      <td>0</td>\n",
       "      <td>0</td>\n",
       "      <td>0</td>\n",
       "    </tr>\n",
       "    <tr>\n",
       "      <th>5970</th>\n",
       "      <td>-1.865208</td>\n",
       "      <td>-0.380348</td>\n",
       "      <td>-1.135616</td>\n",
       "      <td>0.325435</td>\n",
       "      <td>-0.929489</td>\n",
       "      <td>0</td>\n",
       "      <td>0</td>\n",
       "      <td>-1.628119</td>\n",
       "      <td>0</td>\n",
       "      <td>0</td>\n",
       "      <td>1</td>\n",
       "    </tr>\n",
       "    <tr>\n",
       "      <th>7940</th>\n",
       "      <td>1.352902</td>\n",
       "      <td>-0.953824</td>\n",
       "      <td>0.475461</td>\n",
       "      <td>0.361786</td>\n",
       "      <td>-0.929489</td>\n",
       "      <td>0</td>\n",
       "      <td>0</td>\n",
       "      <td>0.221934</td>\n",
       "      <td>0</td>\n",
       "      <td>1</td>\n",
       "      <td>0</td>\n",
       "    </tr>\n",
       "    <tr>\n",
       "      <th>9789</th>\n",
       "      <td>-0.416541</td>\n",
       "      <td>0.575445</td>\n",
       "      <td>-1.135616</td>\n",
       "      <td>-1.208445</td>\n",
       "      <td>0.809174</td>\n",
       "      <td>1</td>\n",
       "      <td>1</td>\n",
       "      <td>1.744859</td>\n",
       "      <td>0</td>\n",
       "      <td>0</td>\n",
       "      <td>0</td>\n",
       "    </tr>\n",
       "    <tr>\n",
       "      <th>4903</th>\n",
       "      <td>0.452659</td>\n",
       "      <td>0.288707</td>\n",
       "      <td>-0.491185</td>\n",
       "      <td>1.285614</td>\n",
       "      <td>0.809174</td>\n",
       "      <td>0</td>\n",
       "      <td>0</td>\n",
       "      <td>-0.184016</td>\n",
       "      <td>0</td>\n",
       "      <td>0</td>\n",
       "      <td>1</td>\n",
       "    </tr>\n",
       "  </tbody>\n",
       "</table>\n",
       "</div>"
      ],
      "text/plain": [
       "      CreditScore       Age    Tenure   Balance  NumOfProducts  HasCrCard  \\\n",
       "4492    -0.623494 -0.667086 -1.457831  0.822924      -0.929489          1   \n",
       "5970    -1.865208 -0.380348 -1.135616  0.325435      -0.929489          0   \n",
       "7940     1.352902 -0.953824  0.475461  0.361786      -0.929489          0   \n",
       "9789    -0.416541  0.575445 -1.135616 -1.208445       0.809174          1   \n",
       "4903     0.452659  0.288707 -0.491185  1.285614       0.809174          0   \n",
       "\n",
       "      IsActiveMember  EstimatedSalary  Geography_Germany  Geography_Spain  \\\n",
       "4492               0         0.021934                  0                0   \n",
       "5970               0        -1.628119                  0                0   \n",
       "7940               0         0.221934                  0                1   \n",
       "9789               1         1.744859                  0                0   \n",
       "4903               0        -0.184016                  0                0   \n",
       "\n",
       "      Gender_Male  \n",
       "4492            0  \n",
       "5970            1  \n",
       "7940            0  \n",
       "9789            0  \n",
       "4903            1  "
      ]
     },
     "execution_count": 18,
     "metadata": {},
     "output_type": "execute_result"
    }
   ],
   "source": [
    "features_valid[numeric] = scaler.transform(features_valid[numeric])\n",
    "features_valid.head()"
   ]
  },
  {
   "cell_type": "markdown",
   "metadata": {},
   "source": [
    "Масштабируем численные признаки тестовой выборки "
   ]
  },
  {
   "cell_type": "code",
   "execution_count": 19,
   "metadata": {
    "scrolled": true
   },
   "outputs": [
    {
     "name": "stderr",
     "output_type": "stream",
     "text": [
      "/tmp/ipykernel_86/2409317702.py:1: SettingWithCopyWarning: \n",
      "A value is trying to be set on a copy of a slice from a DataFrame.\n",
      "Try using .loc[row_indexer,col_indexer] = value instead\n",
      "\n",
      "See the caveats in the documentation: https://pandas.pydata.org/pandas-docs/stable/user_guide/indexing.html#returning-a-view-versus-a-copy\n",
      "  features_test[numeric] = scaler.transform(features_test[numeric])\n",
      "/opt/conda/lib/python3.9/site-packages/pandas/core/indexing.py:1738: SettingWithCopyWarning: \n",
      "A value is trying to be set on a copy of a slice from a DataFrame.\n",
      "Try using .loc[row_indexer,col_indexer] = value instead\n",
      "\n",
      "See the caveats in the documentation: https://pandas.pydata.org/pandas-docs/stable/user_guide/indexing.html#returning-a-view-versus-a-copy\n",
      "  self._setitem_single_column(loc, value[:, i].tolist(), pi)\n"
     ]
    },
    {
     "data": {
      "text/html": [
       "<div>\n",
       "<style scoped>\n",
       "    .dataframe tbody tr th:only-of-type {\n",
       "        vertical-align: middle;\n",
       "    }\n",
       "\n",
       "    .dataframe tbody tr th {\n",
       "        vertical-align: top;\n",
       "    }\n",
       "\n",
       "    .dataframe thead th {\n",
       "        text-align: right;\n",
       "    }\n",
       "</style>\n",
       "<table border=\"1\" class=\"dataframe\">\n",
       "  <thead>\n",
       "    <tr style=\"text-align: right;\">\n",
       "      <th></th>\n",
       "      <th>CreditScore</th>\n",
       "      <th>Age</th>\n",
       "      <th>Tenure</th>\n",
       "      <th>Balance</th>\n",
       "      <th>NumOfProducts</th>\n",
       "      <th>HasCrCard</th>\n",
       "      <th>IsActiveMember</th>\n",
       "      <th>EstimatedSalary</th>\n",
       "      <th>Geography_Germany</th>\n",
       "      <th>Geography_Spain</th>\n",
       "      <th>Gender_Male</th>\n",
       "    </tr>\n",
       "  </thead>\n",
       "  <tbody>\n",
       "    <tr>\n",
       "      <th>6120</th>\n",
       "      <td>0.669959</td>\n",
       "      <td>0.097548</td>\n",
       "      <td>0.797676</td>\n",
       "      <td>-1.208445</td>\n",
       "      <td>-0.929489</td>\n",
       "      <td>1</td>\n",
       "      <td>1</td>\n",
       "      <td>0.729660</td>\n",
       "      <td>0</td>\n",
       "      <td>0</td>\n",
       "      <td>1</td>\n",
       "    </tr>\n",
       "    <tr>\n",
       "      <th>3673</th>\n",
       "      <td>1.176992</td>\n",
       "      <td>-1.431721</td>\n",
       "      <td>0.797676</td>\n",
       "      <td>0.352067</td>\n",
       "      <td>-0.929489</td>\n",
       "      <td>1</td>\n",
       "      <td>0</td>\n",
       "      <td>-1.264493</td>\n",
       "      <td>0</td>\n",
       "      <td>0</td>\n",
       "      <td>1</td>\n",
       "    </tr>\n",
       "    <tr>\n",
       "      <th>4835</th>\n",
       "      <td>-0.923575</td>\n",
       "      <td>-0.475928</td>\n",
       "      <td>-0.168970</td>\n",
       "      <td>0.145265</td>\n",
       "      <td>0.809174</td>\n",
       "      <td>1</td>\n",
       "      <td>1</td>\n",
       "      <td>-1.223159</td>\n",
       "      <td>0</td>\n",
       "      <td>1</td>\n",
       "      <td>1</td>\n",
       "    </tr>\n",
       "    <tr>\n",
       "      <th>7247</th>\n",
       "      <td>-0.706275</td>\n",
       "      <td>0.097548</td>\n",
       "      <td>-0.491185</td>\n",
       "      <td>0.542889</td>\n",
       "      <td>-0.929489</td>\n",
       "      <td>1</td>\n",
       "      <td>1</td>\n",
       "      <td>1.607293</td>\n",
       "      <td>1</td>\n",
       "      <td>0</td>\n",
       "      <td>0</td>\n",
       "    </tr>\n",
       "    <tr>\n",
       "      <th>4943</th>\n",
       "      <td>-1.265046</td>\n",
       "      <td>0.384286</td>\n",
       "      <td>0.797676</td>\n",
       "      <td>0.341339</td>\n",
       "      <td>0.809174</td>\n",
       "      <td>1</td>\n",
       "      <td>1</td>\n",
       "      <td>1.051191</td>\n",
       "      <td>0</td>\n",
       "      <td>1</td>\n",
       "      <td>1</td>\n",
       "    </tr>\n",
       "  </tbody>\n",
       "</table>\n",
       "</div>"
      ],
      "text/plain": [
       "      CreditScore       Age    Tenure   Balance  NumOfProducts  HasCrCard  \\\n",
       "6120     0.669959  0.097548  0.797676 -1.208445      -0.929489          1   \n",
       "3673     1.176992 -1.431721  0.797676  0.352067      -0.929489          1   \n",
       "4835    -0.923575 -0.475928 -0.168970  0.145265       0.809174          1   \n",
       "7247    -0.706275  0.097548 -0.491185  0.542889      -0.929489          1   \n",
       "4943    -1.265046  0.384286  0.797676  0.341339       0.809174          1   \n",
       "\n",
       "      IsActiveMember  EstimatedSalary  Geography_Germany  Geography_Spain  \\\n",
       "6120               1         0.729660                  0                0   \n",
       "3673               0        -1.264493                  0                0   \n",
       "4835               1        -1.223159                  0                1   \n",
       "7247               1         1.607293                  1                0   \n",
       "4943               1         1.051191                  0                1   \n",
       "\n",
       "      Gender_Male  \n",
       "6120            1  \n",
       "3673            1  \n",
       "4835            1  \n",
       "7247            0  \n",
       "4943            1  "
      ]
     },
     "execution_count": 19,
     "metadata": {},
     "output_type": "execute_result"
    }
   ],
   "source": [
    "features_test[numeric] = scaler.transform(features_test[numeric])\n",
    "features_test.head()"
   ]
  },
  {
   "cell_type": "markdown",
   "metadata": {},
   "source": [
    "Мы получили масштабированные признаки для трех выборок. Перейдем к исследованию задачим моделями машинного обучения."
   ]
  },
  {
   "cell_type": "markdown",
   "metadata": {},
   "source": [
    "## Исследование задачи"
   ]
  },
  {
   "cell_type": "markdown",
   "metadata": {},
   "source": [
    "Для исследовательского обучения используем три модели: Логистическая регрессия, Дерево решений, Случайный лес."
   ]
  },
  {
   "cell_type": "markdown",
   "metadata": {},
   "source": [
    "### Обучение модели. Определение точности разных моделей."
   ]
  },
  {
   "cell_type": "code",
   "execution_count": 20,
   "metadata": {},
   "outputs": [
    {
     "name": "stdout",
     "output_type": "stream",
     "text": [
      "Точность разных моделей:\n",
      "Дерево решений 0.794\n",
      "Случайный лес  0.8624\n",
      "Логистческая регрессия 0.8036\n"
     ]
    }
   ],
   "source": [
    "def all_models_accuracy(features_train, target_train, features_valid, target_valid):\n",
    "    model_DTC = DecisionTreeClassifier(random_state=123)\n",
    "    DTC_score = model_DTC.fit(features_train, target_train).score(features_valid, target_valid)\n",
    "    \n",
    "    model_RFC = RandomForestClassifier(random_state=12345, n_estimators = 100, max_depth=15)\n",
    "    RFC_score = model_RFC.fit(features_train, target_train).score(features_valid, target_valid)\n",
    "    \n",
    "    model_LgR = LogisticRegression(solver = 'liblinear')\n",
    "    LgR_score = model_LgR.fit(features_train, target_train).score(features_valid, target_valid)\n",
    "    print(\"Точность разных моделей:\")\n",
    "    print(\"Дерево решений\", DTC_score)\n",
    "    print(\"Случайный лес \", RFC_score) \n",
    "    print(\"Логистческая регрессия\", LgR_score)\n",
    "    \n",
    "all_models_accuracy(features_train, target_train, features_valid, target_valid)    "
   ]
  },
  {
   "cell_type": "markdown",
   "metadata": {},
   "source": [
    "### Проверка баланса классов выборки"
   ]
  },
  {
   "cell_type": "code",
   "execution_count": 21,
   "metadata": {},
   "outputs": [
    {
     "data": {
      "text/plain": [
       "0    0.7962\n",
       "1    0.2038\n",
       "Name: Exited, dtype: float64"
      ]
     },
     "execution_count": 21,
     "metadata": {},
     "output_type": "execute_result"
    }
   ],
   "source": [
    "target_train.value_counts(normalize = 1)"
   ]
  },
  {
   "cell_type": "code",
   "execution_count": 22,
   "metadata": {},
   "outputs": [
    {
     "data": {
      "text/plain": [
       "0    0.7964\n",
       "1    0.2036\n",
       "Name: Exited, dtype: float64"
      ]
     },
     "execution_count": 22,
     "metadata": {},
     "output_type": "execute_result"
    }
   ],
   "source": [
    "target_valid.value_counts(normalize = 1)"
   ]
  },
  {
   "cell_type": "markdown",
   "metadata": {},
   "source": [
    "У обучающией и валидационной выборок наблюдается заметный дисбаланс класов. Ответы 0 ≈80% , 1 ≈ 20%\n",
    "Можно ожидать, что результаты предсказаний моделей будут сильно склоняться к одному варианту ответов."
   ]
  },
  {
   "cell_type": "markdown",
   "metadata": {},
   "source": [
    "### Проверка адекватности "
   ]
  },
  {
   "cell_type": "markdown",
   "metadata": {},
   "source": [
    "Проверим какое соотношение ответов выдает каждая модель."
   ]
  },
  {
   "cell_type": "code",
   "execution_count": 23,
   "metadata": {},
   "outputs": [
    {
     "name": "stdout",
     "output_type": "stream",
     "text": [
      "Доли ответов:\n",
      "Дерево решений 0    0.788\n",
      "1    0.212\n",
      "dtype: float64\n",
      "Случайный лес  0    0.8804\n",
      "1    0.1196\n",
      "dtype: float64\n",
      "Логистческая регрессия 0    0.9344\n",
      "1    0.0656\n",
      "dtype: float64\n"
     ]
    }
   ],
   "source": [
    "def all_models_share(features_train, target_train, features_valid, target_valid):\n",
    "    model_DTC = DecisionTreeClassifier(random_state=123)\n",
    "    model_DTC.fit(features_train, target_train)\n",
    "    DTC_share = pd.Series(model_DTC.predict(features_valid)).value_counts(normalize = 1)\n",
    "    \n",
    "    model_RFC = RandomForestClassifier(random_state=12345, n_estimators = 100, max_depth=15)\n",
    "    model_RFC.fit(features_train, target_train)\n",
    "    RFC_share = pd.Series(model_RFC.predict(features_valid)).value_counts(normalize = 1)\n",
    "    \n",
    "    model_LgR = LogisticRegression(solver = 'liblinear')\n",
    "    model_LgR.fit(features_train, target_train)\n",
    "    LgR_share = pd.Series(model_LgR.predict(features_valid)).value_counts(normalize = 1)\n",
    "    \n",
    "    print(\"Доли ответов:\")\n",
    "    print(\"Дерево решений\", DTC_share)\n",
    "    print(\"Случайный лес \", RFC_share)\n",
    "    print(\"Логистческая регрессия\", LgR_share)\n",
    "    \n",
    "    \n",
    "all_models_share(features_train, target_train, features_valid, target_valid)    \n",
    "    "
   ]
  },
  {
   "cell_type": "markdown",
   "metadata": {},
   "source": [
    "Логистичесая регрессия показывала самую высокую точность, но данная модель выдает почти 100% одинаковый результат = 0\n",
    "\n",
    "Сравним качество предсказаний с константной моделью. За константу примем пример 0, так как это значение встречается 80% случаев"
   ]
  },
  {
   "cell_type": "markdown",
   "metadata": {},
   "source": [
    "Создаем константную модель"
   ]
  },
  {
   "cell_type": "code",
   "execution_count": 24,
   "metadata": {},
   "outputs": [
    {
     "data": {
      "text/plain": [
       "(2500,)"
      ]
     },
     "execution_count": 24,
     "metadata": {},
     "output_type": "execute_result"
    }
   ],
   "source": [
    "target_predict_constant = pd.Series([0]*len(target_valid))\n",
    "target_predict_constant.shape"
   ]
  },
  {
   "cell_type": "code",
   "execution_count": 25,
   "metadata": {},
   "outputs": [
    {
     "name": "stdout",
     "output_type": "stream",
     "text": [
      "Точность кончтантной модели: 0.7964\n"
     ]
    }
   ],
   "source": [
    "accuracy_score_constant = accuracy_score(target_valid, target_predict_constant)\n",
    "print('Точность кончтантной модели:', accuracy_score_constant)"
   ]
  },
  {
   "cell_type": "markdown",
   "metadata": {},
   "source": [
    "Вероятно проблема кроется в дисбалансе классов.\n",
    "\n",
    "Чтобы разобраться подбробнее ознакомися с матрицой ошибок для каждой модели."
   ]
  },
  {
   "cell_type": "markdown",
   "metadata": {},
   "source": [
    "## Борьба с дисбалансом"
   ]
  },
  {
   "cell_type": "markdown",
   "metadata": {},
   "source": [
    "### Матрица ошибок для дерева решений"
   ]
  },
  {
   "cell_type": "code",
   "execution_count": 26,
   "metadata": {},
   "outputs": [
    {
     "data": {
      "text/plain": [
       "array([[1745,  246],\n",
       "       [ 240,  269]])"
      ]
     },
     "execution_count": 26,
     "metadata": {},
     "output_type": "execute_result"
    }
   ],
   "source": [
    "model_DTC = DecisionTreeClassifier(random_state=123, max_depth=15)\n",
    "model_DTC.fit(features_train, target_train)\n",
    "DTC_prediction = model_DTC.predict(features_valid)\n",
    "confusion_matrix(target_valid, DTC_prediction)"
   ]
  },
  {
   "cell_type": "markdown",
   "metadata": {},
   "source": [
    "Дерево решений склонно выдавать позитивные предсказания, очень высокое количество ложных позитивных предсказаний (FP)\n",
    "\n",
    "Изучим полноту, точность, F1-меру, R2(долю средней квадратичной ошибки) и МАЕ(срелнее абсолютное отклонение)"
   ]
  },
  {
   "cell_type": "code",
   "execution_count": 27,
   "metadata": {},
   "outputs": [],
   "source": [
    "def rec_prec_f1(target_valid, prediction):\n",
    "    print(\"Полнота\" , recall_score(target_valid, prediction))\n",
    "    print(\"Точность\", precision_score(target_valid, prediction))\n",
    "    print(\"F1-мера\", f1_score(target_valid, prediction))\n",
    "    print(\"AUC-ROC\", roc_auc_score(target_valid, prediction))\n",
    "    print(\"R2:\", r2_score(target_valid, prediction))\n",
    "    print(\"MAE:\", mean_absolute_error(target_valid, prediction))"
   ]
  },
  {
   "cell_type": "code",
   "execution_count": 28,
   "metadata": {},
   "outputs": [
    {
     "name": "stdout",
     "output_type": "stream",
     "text": [
      "Полнота 0.5284872298624754\n",
      "Точность 0.5223300970873787\n",
      "F1-мера 0.5253906249999999\n",
      "AUC-ROC 0.7024656139267174\n",
      "R2: -0.19891180252195806\n",
      "MAE: 0.1944\n"
     ]
    }
   ],
   "source": [
    "rec_prec_f1(target_valid, DTC_prediction)"
   ]
  },
  {
   "cell_type": "markdown",
   "metadata": {},
   "source": [
    "Низкое значние F1- меры и отрецательное R2 свидетельствуют о низком качестве модели, проблема в точности. Много ошибок."
   ]
  },
  {
   "cell_type": "markdown",
   "metadata": {},
   "source": [
    "### Матрица ошибок для случайного леса"
   ]
  },
  {
   "cell_type": "code",
   "execution_count": 29,
   "metadata": {},
   "outputs": [
    {
     "data": {
      "text/plain": [
       "array([[1917,   74],\n",
       "       [ 276,  233]])"
      ]
     },
     "execution_count": 29,
     "metadata": {},
     "output_type": "execute_result"
    }
   ],
   "source": [
    "model_RFC = RandomForestClassifier(random_state=12345, n_estimators = 100, max_depth=20)\n",
    "model_RFC.fit(features_train, target_train)\n",
    "RFC_prediction = model_RFC.predict(features_valid)\n",
    "confusion_matrix(target_valid, RFC_prediction)"
   ]
  },
  {
   "cell_type": "markdown",
   "metadata": {},
   "source": [
    "Случайный лес примерно равную пропорцию позитивных и негативных предсказаний, выдает заметно больше качественных предсказаний, но также сильно склоняется к ложно позитивным предсказаниям (FP)\n",
    "\n",
    "Изучим полноту, точность, F1-меру, R2(долю средней квадратичной ошибки) и МАЕ(срелнее абсолютное отклонение)"
   ]
  },
  {
   "cell_type": "code",
   "execution_count": 30,
   "metadata": {},
   "outputs": [
    {
     "name": "stdout",
     "output_type": "stream",
     "text": [
      "Полнота 0.4577603143418468\n",
      "Точность 0.758957654723127\n",
      "F1-мера 0.571078431372549\n",
      "AUC-ROC 0.7102965308524903\n",
      "R2: 0.1365861504471495\n",
      "MAE: 0.14\n"
     ]
    }
   ],
   "source": [
    "rec_prec_f1(target_valid, RFC_prediction)"
   ]
  },
  {
   "cell_type": "markdown",
   "metadata": {},
   "source": [
    "В данной модели мы наблюдаем улучшение качества и точности, также снизились количество ошибок."
   ]
  },
  {
   "cell_type": "markdown",
   "metadata": {},
   "source": [
    "Пробуем подобрать гиперпараметры с помощью цикла."
   ]
  },
  {
   "cell_type": "code",
   "execution_count": 31,
   "metadata": {},
   "outputs": [
    {
     "name": "stdout",
     "output_type": "stream",
     "text": [
      "R2: 0.13292856374989837\n"
     ]
    }
   ],
   "source": [
    "model = LinearRegression()\n",
    "model.fit(features_train, target_train)\n",
    "print('R2:', model.score(features_valid, target_valid))\n"
   ]
  },
  {
   "cell_type": "code",
   "execution_count": 32,
   "metadata": {
    "scrolled": true
   },
   "outputs": [],
   "source": [
    "for depth in range(1, 16, 1):\n",
    "    model = RandomForestRegressor(n_estimators=20, max_depth=depth, random_state=12345)\n",
    "    model.fit(features_train, target_train)\n"
   ]
  },
  {
   "cell_type": "code",
   "execution_count": 33,
   "metadata": {},
   "outputs": [
    {
     "name": "stdout",
     "output_type": "stream",
     "text": [
      "R2 на обучающей выборке: 0.8571883738079198\n",
      "R2 на валидационной выборке: 0.2978146360817501\n",
      "R2 на тестовой выборке: 0.2882643342975387\n"
     ]
    }
   ],
   "source": [
    "print('R2 на обучающей выборке:', model.score(features_train, target_train))\n",
    "print('R2 на валидационной выборке:', model.score(features_valid, target_valid))\n",
    "print('R2 на тестовой выборке:', model.score(features_test, target_test))\n"
   ]
  },
  {
   "cell_type": "code",
   "execution_count": 34,
   "metadata": {},
   "outputs": [
    {
     "name": "stdout",
     "output_type": "stream",
     "text": [
      "R2 на обучающей выборке: 0.2828389068562641\n",
      "R2 на валидационной выборке: 0.26002795962760705\n",
      "R2 на тестовой выборке: 0.2952325466787128\n"
     ]
    }
   ],
   "source": [
    "model = RandomForestRegressor(n_estimators=60, \n",
    "    max_depth=3, random_state=12345)\n",
    "model.fit(features_train, target_train)\n",
    "print('R2 на обучающей выборке:', model.score(features_train, target_train))\n",
    "print('R2 на валидационной выборке:', model.score(features_valid, target_valid))\n",
    "print('R2 на тестовой выборке:', model.score(features_test, target_test))\n"
   ]
  },
  {
   "cell_type": "code",
   "execution_count": 35,
   "metadata": {},
   "outputs": [
    {
     "name": "stdout",
     "output_type": "stream",
     "text": [
      "R2 на обучающей выборке: 0.903830176942866\n",
      "R2 на валидационной выборке: 0.32855176828048493\n",
      "R2 на тестовой выборке: 0.305162560510539\n",
      "CPU times: user 1.51 s, sys: 0 ns, total: 1.51 s\n",
      "Wall time: 1.51 s\n"
     ]
    }
   ],
   "source": [
    "%%time\n",
    "\n",
    "model = RandomForestRegressor(n_estimators=100, max_depth=20, random_state=12345)\n",
    "model.fit(features_train, target_train) \n",
    "print('R2 на обучающей выборке:', model.score(features_train, target_train))\n",
    "print('R2 на валидационной выборке:', model.score(features_valid, target_valid))\n",
    "print('R2 на тестовой выборке:', model.score(features_test, target_test))\n"
   ]
  },
  {
   "cell_type": "markdown",
   "metadata": {},
   "source": [
    "Гиперпараметры подобранны, R2 на тестовой выборке показывает хорошие результаты."
   ]
  },
  {
   "cell_type": "markdown",
   "metadata": {},
   "source": [
    "Так же попробуем воспользоваться функцией GridSearchCV"
   ]
  },
  {
   "cell_type": "code",
   "execution_count": 36,
   "metadata": {},
   "outputs": [],
   "source": [
    "#from sklearn.ensemble import RandomForestClassifier\n",
    "#from sklearn.model_selection import GridSearchCV\n",
    "#clf = RandomForestClassifier()"
   ]
  },
  {
   "cell_type": "code",
   "execution_count": 37,
   "metadata": {},
   "outputs": [],
   "source": [
    "#parametrs = { 'n_estimators': range (10, 101, 10),\n",
    "              #'max_depth': range (1,21, 2),\n",
    "              #'min_samples_leaf': range (1,8),\n",
    "              #'min_samples_split': range (2,10,2) }"
   ]
  },
  {
   "cell_type": "code",
   "execution_count": 38,
   "metadata": {},
   "outputs": [],
   "source": [
    "#grid = GridSearchCV(clf, parametrs, cv=5)\n",
    "#grid.fit(features_train, target_train)\n",
    "#grid.best_params_"
   ]
  },
  {
   "cell_type": "markdown",
   "metadata": {},
   "source": [
    "### Матрица ошибок для логистической регрессии"
   ]
  },
  {
   "cell_type": "code",
   "execution_count": 39,
   "metadata": {},
   "outputs": [
    {
     "data": {
      "text/plain": [
       "array([[1918,   73],\n",
       "       [ 418,   91]])"
      ]
     },
     "execution_count": 39,
     "metadata": {},
     "output_type": "execute_result"
    }
   ],
   "source": [
    "model_LgR = LogisticRegression(solver = 'liblinear', max_iter = 1000)\n",
    "model_LgR.fit(features_train, target_train)\n",
    "LgR_prediction = model_LgR.predict(features_valid)\n",
    "confusion_matrix(target_valid, LgR_prediction)"
   ]
  },
  {
   "cell_type": "markdown",
   "metadata": {},
   "source": [
    "Логистическая регрессия склонна выдавать негативные предсказания, очень высокое количество ложных негативных предсказаний (FN)\n",
    "\n",
    "Изучим полноту, точность, F1-меру, R2(долю средней квадратичной ошибки) и МАЕ(срелнее абсолютное отклонение)"
   ]
  },
  {
   "cell_type": "code",
   "execution_count": 40,
   "metadata": {
    "scrolled": true
   },
   "outputs": [
    {
     "name": "stdout",
     "output_type": "stream",
     "text": [
      "Полнота 0.1787819253438114\n",
      "Точность 0.5548780487804879\n",
      "F1-мера 0.2704309063893016\n",
      "AUC-ROC 0.571058466438857\n",
      "R2: -0.2112462860869988\n",
      "MAE: 0.1964\n"
     ]
    }
   ],
   "source": [
    "rec_prec_f1(target_valid, LgR_prediction)"
   ]
  },
  {
   "cell_type": "markdown",
   "metadata": {},
   "source": [
    "Низкое значние F1- меры и отрецательное R2 свидетельствуют о низком качестве модели, хотя точность выше. Много ошибок."
   ]
  },
  {
   "cell_type": "markdown",
   "metadata": {},
   "source": [
    "Попробуем изменим порог для модели показавшей лучшие значения - RandomForestClassifier. Определим AUC-ROC по новым данным. Построим график - ROC-кривая."
   ]
  },
  {
   "cell_type": "code",
   "execution_count": 41,
   "metadata": {
    "scrolled": true
   },
   "outputs": [
    {
     "name": "stdout",
     "output_type": "stream",
     "text": [
      "AUC-ROC: 0.855977142721816\n"
     ]
    }
   ],
   "source": [
    "RFC_probabilities_one_valid = model_RFC.predict_proba(features_valid)[:, 1]\n",
    "auc_roc_RFC = roc_auc_score(target_valid, RFC_probabilities_one_valid)\n",
    "print(\"AUC-ROC:\", auc_roc_RFC)\n"
   ]
  },
  {
   "cell_type": "code",
   "execution_count": 42,
   "metadata": {},
   "outputs": [
    {
     "data": {
      "image/png": "[encoded data removed]",
      "text/plain": [
       "<Figure size 432x288 with 1 Axes>"
      ]
     },
     "metadata": {
      "needs_background": "light"
     },
     "output_type": "display_data"
    }
   ],
   "source": [
    "fpr, tpr, thresholds = roc_curve(target_valid, RFC_probabilities_one_valid) \n",
    "\n",
    "plt.figure()\n",
    "plt.plot(fpr, tpr)\n",
    "plt.plot([0, 1], [0, 1], linestyle='--')\n",
    "plt.xlim([0.0, 1.0])\n",
    "plt.ylim([0.0, 1.0])\n",
    "plt.xlabel('False Positive Rate')\n",
    "plt.ylabel('True Positive Rate')\n",
    "plt.title('ROC-кривая')\n",
    "plt.show()"
   ]
  },
  {
   "cell_type": "markdown",
   "metadata": {},
   "source": [
    "Изменение погора на лучшей модели показали улучшение результатов.\n",
    "\n",
    "Перейдем к формированию сбалансированных выборок"
   ]
  },
  {
   "cell_type": "markdown",
   "metadata": {},
   "source": [
    "### Исследование и обучение моделей на сбалансированной выборке"
   ]
  },
  {
   "cell_type": "markdown",
   "metadata": {},
   "source": [
    "Как мы выяснили ранее в нашей выборке отрицательны ответов ≈80% , положитительных ≈ 20%.\n",
    "\n",
    "Нам необходмо увеличить количество положительных ответов в 4 раза для достижения баланса.\n",
    "\n",
    "1. Разделим обучающую выборку на отрицательные и положительные объекты;\n",
    "2. Скопируем несколько раз положительные объекты;\n",
    "3. С учётом полученных данных создадим новую обучающую выборку;\n",
    "4. Перемешаем данные: идущие друг за другом одинаковые вопросы не помогут обучению.\n",
    "5. Обучим новые модели"
   ]
  },
  {
   "cell_type": "markdown",
   "metadata": {},
   "source": [
    "Cоздадим функцию для увеличения представленной класса в выборке"
   ]
  },
  {
   "cell_type": "code",
   "execution_count": 43,
   "metadata": {},
   "outputs": [],
   "source": [
    "def upsample(features, target, repeat, upsampled_сlass):\n",
    "    features_zeros = features[target == 0]\n",
    "    features_ones = features[target == 1]\n",
    "    target_zeros = target[target == 0]\n",
    "    target_ones = target[target == 1]\n",
    "    \n",
    "    if upsampled_сlass == 0:\n",
    "        features_upsampled = pd.concat([features_zeros]* repeat + [features_ones] )\n",
    "        target_upsampled = pd.concat([target_zeros]* repeat + [target_ones] )\n",
    "        features_upsampled, target_upsampled = shuffle(\n",
    "        features_upsampled, target_upsampled, random_state=12345)\n",
    "        \n",
    "    elif upsampled_сlass == 1:\n",
    "        features_upsampled = pd.concat([features_zeros] + [features_ones] * repeat)\n",
    "        target_upsampled = pd.concat([target_zeros] + [target_ones] * repeat)\n",
    "        features_upsampled, target_upsampled = shuffle(\n",
    "        features_upsampled, target_upsampled, random_state=12345)\n",
    "    else:\n",
    "        features_upsampled = 0\n",
    "        target_upsampled = 0 \n",
    "        \n",
    "    return features_upsampled, target_upsampled    "
   ]
  },
  {
   "cell_type": "markdown",
   "metadata": {},
   "source": [
    "Функция принимаем значение признаков (features[]), целевого признака (target[]), repeat(int / float), класс который будет увеличен (upsampled_сlass (0 or 1))"
   ]
  },
  {
   "cell_type": "markdown",
   "metadata": {},
   "source": [
    "Протестируем функцию (верное значение)"
   ]
  },
  {
   "cell_type": "code",
   "execution_count": 44,
   "metadata": {},
   "outputs": [
    {
     "name": "stdout",
     "output_type": "stream",
     "text": [
      "0    0.939857\n",
      "1    0.060143\n",
      "Name: Exited, dtype: float64\n",
      "(16943,)\n"
     ]
    }
   ],
   "source": [
    "features_train_upsampled, target_train_upsampled = upsample(features_train, target_train, 4, 0)\n",
    "print(target_train_upsampled.value_counts(normalize = 1))\n",
    "print(target_train_upsampled.shape)"
   ]
  },
  {
   "cell_type": "code",
   "execution_count": 45,
   "metadata": {},
   "outputs": [
    {
     "data": {
      "text/plain": [
       "0"
      ]
     },
     "execution_count": 45,
     "metadata": {},
     "output_type": "execute_result"
    }
   ],
   "source": [
    "features_train_upsampled, target_train_upsampled = upsample(features_train, target_train, 4, 3)\n",
    "features_train_upsampled"
   ]
  },
  {
   "cell_type": "markdown",
   "metadata": {},
   "source": [
    "Применим функцию upsample. Увеличим количество положительных ответов в 4 раза"
   ]
  },
  {
   "cell_type": "code",
   "execution_count": 46,
   "metadata": {},
   "outputs": [
    {
     "name": "stdout",
     "output_type": "stream",
     "text": [
      "1    0.505895\n",
      "0    0.494105\n",
      "Name: Exited, dtype: float64\n",
      "(8057,)\n"
     ]
    }
   ],
   "source": [
    "features_train_upsampled, target_train_upsampled = upsample(features_train, target_train, 4, 1)\n",
    "print(target_train_upsampled.value_counts(normalize = 1))\n",
    "print(target_train_upsampled.shape)"
   ]
  },
  {
   "cell_type": "code",
   "execution_count": 47,
   "metadata": {
    "scrolled": true
   },
   "outputs": [
    {
     "data": {
      "text/plain": [
       "<AxesSubplot:ylabel='Frequency'>"
      ]
     },
     "execution_count": 47,
     "metadata": {},
     "output_type": "execute_result"
    },
    {
     "data": {
      "image/png": "[encoded data removed]",
      "text/plain": [
       "<Figure size 72x72 with 1 Axes>"
      ]
     },
     "metadata": {
      "needs_background": "light"
     },
     "output_type": "display_data"
    }
   ],
   "source": [
    "target_train_upsampled.plot(kind ='hist', bins=2, figsize=(1,1))"
   ]
  },
  {
   "cell_type": "markdown",
   "metadata": {},
   "source": [
    "Исследуем еще один метод борьбы с дисбалансом"
   ]
  },
  {
   "cell_type": "code",
   "execution_count": 48,
   "metadata": {},
   "outputs": [],
   "source": [
    "def downsample(features, target, fraction, downsampled_сlass):\n",
    "    features_zeros = features[target == 0]\n",
    "    features_ones = features[target == 1]\n",
    "    target_zeros = target[target == 0]\n",
    "    target_ones = target[target == 1]\n",
    "    \n",
    "    if downsampled_сlass == 0:\n",
    "        features_downsampled = pd.concat([features_zeros.sample(frac = fraction, random_state=12345)] + [features_ones] )\n",
    "        target_downsampled = pd.concat([target_zeros.sample(frac = fraction, random_state=12345)] + [target_ones] )\n",
    "        features_downsampled, target_downsampled = shuffle(\n",
    "        features_downsampled, target_downsampled, random_state=12345)\n",
    "        \n",
    "    elif downsampled_сlass == 1:\n",
    "        features_downsampled = pd.concat([features_zeros] + [features_ones.sample(frac = fraction, random_state=12345)])\n",
    "        target_downsampled = pd.concat([target_zeros] + [target_ones.sample(frac = fraction, random_state=12345)])\n",
    "        features_downsampled, target_downsampled = shuffle(\n",
    "        features_downsampled, target_downsampled, random_state=12345)\n",
    "    else:\n",
    "        features_downsampled = 0\n",
    "        target_downsampled = 0 \n",
    "        \n",
    "    return features_downsampled, target_downsampled "
   ]
  },
  {
   "cell_type": "markdown",
   "metadata": {},
   "source": [
    "Функция принимаем значение признаков (features[]), целевого признака (target[]), )frac = fraction, класс который будет уменьшен (downsampled_сlass (0 or 1))"
   ]
  },
  {
   "cell_type": "markdown",
   "metadata": {},
   "source": [
    "Применим функцию downsample с параметром 0.25"
   ]
  },
  {
   "cell_type": "code",
   "execution_count": 49,
   "metadata": {},
   "outputs": [
    {
     "name": "stdout",
     "output_type": "stream",
     "text": [
      "1    0.505958\n",
      "0    0.494042\n",
      "Name: Exited, dtype: float64\n",
      "(2014,)\n"
     ]
    }
   ],
   "source": [
    "features_train_downsampled, target_train_downsampled = downsample(features_train, target_train, 0.25, 0)\n",
    "print(target_train_downsampled.value_counts(normalize = 1))\n",
    "print(target_train_downsampled.shape)"
   ]
  },
  {
   "cell_type": "code",
   "execution_count": 50,
   "metadata": {},
   "outputs": [
    {
     "data": {
      "text/plain": [
       "<AxesSubplot:ylabel='Frequency'>"
      ]
     },
     "execution_count": 50,
     "metadata": {},
     "output_type": "execute_result"
    },
    {
     "data": {
      "image/png": "[encoded data removed]",
      "text/plain": [
       "<Figure size 72x72 with 1 Axes>"
      ]
     },
     "metadata": {
      "needs_background": "light"
     },
     "output_type": "display_data"
    }
   ],
   "source": [
    "target_train_downsampled.plot(kind ='hist', bins=2, figsize=(1,1))"
   ]
  },
  {
   "cell_type": "markdown",
   "metadata": {},
   "source": [
    "### Обучение моделей на сбаланированных выборках"
   ]
  },
  {
   "cell_type": "markdown",
   "metadata": {},
   "source": [
    "Точность моделей на сбалансированной выборке"
   ]
  },
  {
   "cell_type": "code",
   "execution_count": 51,
   "metadata": {},
   "outputs": [
    {
     "name": "stdout",
     "output_type": "stream",
     "text": [
      "Точность разных моделей:\n",
      "Дерево решений 0.7868\n",
      "Случайный лес  0.8476\n",
      "Логистческая регрессия 0.7052\n"
     ]
    }
   ],
   "source": [
    "all_models_accuracy(features_train_upsampled, target_train_upsampled, features_valid, target_valid)"
   ]
  },
  {
   "cell_type": "markdown",
   "metadata": {},
   "source": [
    "Точность моделей изменились незначительно, но проверим изменилось ли качество ответов."
   ]
  },
  {
   "cell_type": "markdown",
   "metadata": {},
   "source": [
    "**Решающее дерево**"
   ]
  },
  {
   "cell_type": "code",
   "execution_count": 52,
   "metadata": {},
   "outputs": [
    {
     "name": "stdout",
     "output_type": "stream",
     "text": [
      "Полнота 0.48722986247544203\n",
      "Точность 0.47692307692307695\n",
      "F1-мера 0.48202137998056366\n",
      "AUC-ROC 0.6753075480132107\n",
      "R2: -0.3148559480333408\n",
      "MAE: 0.2132\n",
      "CPU times: user 75.7 ms, sys: 33.5 ms, total: 109 ms\n",
      "Wall time: 127 ms\n"
     ]
    }
   ],
   "source": [
    "%%time\n",
    "\n",
    "model_DTC_upsampled = DecisionTreeClassifier(random_state=123)\n",
    "model_DTC_upsampled.fit(features_train_upsampled, target_train_upsampled)\n",
    "DTC_prediction_upsampled = model_DTC_upsampled.predict(features_valid)\n",
    "rec_prec_f1(target_valid, DTC_prediction_upsampled)"
   ]
  },
  {
   "cell_type": "code",
   "execution_count": 53,
   "metadata": {},
   "outputs": [
    {
     "name": "stdout",
     "output_type": "stream",
     "text": [
      "Полнота 0.7190569744597249\n",
      "Точность 0.38977635782747605\n",
      "F1-мера 0.505524861878453\n",
      "AUC-ROC 0.7156309483046993\n",
      "R2: -0.7662980465138312\n",
      "MAE: 0.2864\n",
      "CPU times: user 25.5 ms, sys: 305 µs, total: 25.8 ms\n",
      "Wall time: 22.7 ms\n"
     ]
    }
   ],
   "source": [
    "%%time\n",
    "\n",
    "model_DTC_downsampled = DecisionTreeClassifier(random_state=123)\n",
    "model_DTC_downsampled.fit(features_train_downsampled, target_train_downsampled)\n",
    "DTC_prediction_downsampled = model_DTC_downsampled.predict(features_valid)\n",
    "rec_prec_f1(target_valid, DTC_prediction_downsampled)"
   ]
  },
  {
   "cell_type": "markdown",
   "metadata": {},
   "source": [
    "**Случайный лес**"
   ]
  },
  {
   "cell_type": "code",
   "execution_count": 54,
   "metadata": {},
   "outputs": [
    {
     "name": "stdout",
     "output_type": "stream",
     "text": [
      "Полнота 0.5402750491159135\n",
      "Точность 0.6658595641646489\n",
      "F1-мера 0.596529284164859\n",
      "AUC-ROC 0.7354815727749331\n",
      "R2: 0.08231442276097034\n",
      "MAE: 0.1488\n",
      "CPU times: user 875 ms, sys: 7.31 ms, total: 882 ms\n",
      "Wall time: 904 ms\n"
     ]
    }
   ],
   "source": [
    "%%time\n",
    "\n",
    "model_RFC_upsampled = RandomForestClassifier(random_state=12345, n_estimators = 100, max_depth = 20, class_weight = 'balanced')\n",
    "model_RFC_upsampled.fit(features_train_upsampled, target_train_upsampled)\n",
    "RFC_prediction_upsampled = model_RFC_upsampled.predict(features_valid)\n",
    "rec_prec_f1(target_valid, RFC_prediction_upsampled)"
   ]
  },
  {
   "cell_type": "code",
   "execution_count": 55,
   "metadata": {},
   "outputs": [
    {
     "name": "stdout",
     "output_type": "stream",
     "text": [
      "Полнота 0.7485265225933202\n",
      "Точность 0.4618181818181818\n",
      "F1-мера 0.5712143928035981\n",
      "AUC-ROC 0.7627615033860624\n",
      "R2: -0.4110649198406584\n",
      "MAE: 0.2288\n",
      "CPU times: user 333 ms, sys: 10.3 ms, total: 344 ms\n",
      "Wall time: 351 ms\n"
     ]
    }
   ],
   "source": [
    "%%time\n",
    "\n",
    "model_RFC_downsampled = RandomForestClassifier(random_state=12345, n_estimators = 100, max_depth = 20, class_weight = 'balanced')\n",
    "model_RFC_downsampled.fit(features_train_downsampled, target_train_downsampled)\n",
    "RFC_prediction_downsampled = model_RFC_downsampled.predict(features_valid)\n",
    "rec_prec_f1(target_valid, RFC_prediction_downsampled)"
   ]
  },
  {
   "cell_type": "markdown",
   "metadata": {},
   "source": [
    "**Логистическая регрессия**"
   ]
  },
  {
   "cell_type": "code",
   "execution_count": 56,
   "metadata": {
    "scrolled": true
   },
   "outputs": [
    {
     "name": "stdout",
     "output_type": "stream",
     "text": [
      "Полнота 0.6954813359528488\n",
      "Точность 0.3782051282051282\n",
      "F1-мера 0.4899653979238755\n",
      "AUC-ROC 0.701582958282803\n",
      "R2: -0.8181028774870023\n",
      "MAE: 0.2948\n",
      "CPU times: user 39.3 ms, sys: 48.5 ms, total: 87.7 ms\n",
      "Wall time: 71.9 ms\n"
     ]
    }
   ],
   "source": [
    "%%time\n",
    "\n",
    "model_LgR_upsampled = LogisticRegression(solver = 'liblinear')\n",
    "model_LgR_upsampled.fit(features_train_upsampled, target_train_upsampled)\n",
    "LgR_prediction_upsampled = model_LgR_upsampled.predict(features_valid)\n",
    "rec_prec_f1(target_valid, LgR_prediction_upsampled)"
   ]
  },
  {
   "cell_type": "code",
   "execution_count": 57,
   "metadata": {
    "scrolled": true
   },
   "outputs": [
    {
     "name": "stdout",
     "output_type": "stream",
     "text": [
      "Полнота 0.68762278978389\n",
      "Точность 0.3800217155266015\n",
      "F1-мера 0.48951048951048953\n",
      "AUC-ROC 0.7004161161375502\n",
      "R2: -0.8008346004959452\n",
      "MAE: 0.292\n",
      "CPU times: user 31.3 ms, sys: 41 ms, total: 72.3 ms\n",
      "Wall time: 16.2 ms\n"
     ]
    }
   ],
   "source": [
    "%%time\n",
    "\n",
    "model_LgR_downsampled = LogisticRegression(solver = 'liblinear')\n",
    "model_LgR_downsampled.fit(features_train_downsampled, target_train_downsampled)\n",
    "LgR_prediction_downsampled = model_LgR_downsampled.predict(features_valid)\n",
    "rec_prec_f1(target_valid, LgR_prediction_downsampled)"
   ]
  },
  {
   "cell_type": "markdown",
   "metadata": {},
   "source": [
    "Показаели всех моделей улучшились. Лучшие результаты показывает алгоритм случайный лес (RandomForestClassifier)на сбалансированной выборке upsampled. На валидационной выборке RandomForestClassifier показывает резульаты F1 меры = 0.59. Хотя скорость немного ниже, чем у других моделей.\n"
   ]
  },
  {
   "cell_type": "markdown",
   "metadata": {},
   "source": [
    "### Вывод по результатам исследования"
   ]
  },
  {
   "cell_type": "markdown",
   "metadata": {},
   "source": [
    "В первоначальные данных наблюдался значительный дисбаланс (80% ответов целевого признака были негативными и только 20% позитивными), из-за чего обученная на этих данных модель не проходила проверку на адекватность. Все модели на первоначальных данных характеризовались высокой степенью ошибок и низким качеством взвешенной величины (F1) — модели показывали низкие результаты точности и полноты.\n",
    "\n",
    "Мы устранили дисбаланс классов в обучающей выборки методом upsampling — увеличили количество значений позитивного класса в 4 раза. Так мы достигли баланса классов в обучеющей выборки: 1 = 0.50569, 0 = 0.49431.\n",
    "\n",
    "На новых данных все модели показали результат выше, чем на несбалансированной выборке. Лучшие показатели были у модели случайного леса:\n",
    "\n",
    "- Полнота 0.5402750491159135\n",
    "- Точность 0.6658595641646489\n",
    "- F1-мера 0.596529284164859\n",
    "- AUC-ROC 0.7354815727749331\n",
    "- R2: 0.08231442276097034\n",
    "- MAE: 0.1488\n",
    "- CPU times: user 887 ms, sys: 7.24 ms, total: 894 ms\n",
    "- Wall time: 913 ms"
   ]
  },
  {
   "cell_type": "markdown",
   "metadata": {},
   "source": [
    "## Тестирование модели"
   ]
  },
  {
   "cell_type": "code",
   "execution_count": 58,
   "metadata": {},
   "outputs": [
    {
     "name": "stdout",
     "output_type": "stream",
     "text": [
      "Полнота 0.5717092337917485\n",
      "Точность 0.6495535714285714\n",
      "F1-мера 0.6081504702194357\n",
      "AUC-ROC 0.7464271934905503\n",
      "R2: 0.07491373262194612\n",
      "MAE: 0.15\n",
      "CPU times: user 54.6 ms, sys: 3.8 ms, total: 58.4 ms\n",
      "Wall time: 56.5 ms\n"
     ]
    }
   ],
   "source": [
    "%%time\n",
    "\n",
    "model_RFC_upsampled\n",
    "model_RFC_prediction = model_RFC_upsampled.predict(features_test)\n",
    "rec_prec_f1(target_test, model_RFC_prediction)"
   ]
  },
  {
   "cell_type": "code",
   "execution_count": 59,
   "metadata": {
    "scrolled": true
   },
   "outputs": [
    {
     "data": {
      "image/png": "[encoded data removed]",
      "text/plain": [
       "<Figure size 432x288 with 1 Axes>"
      ]
     },
     "metadata": {
      "needs_background": "light"
     },
     "output_type": "display_data"
    }
   ],
   "source": [
    "model_probabilities_one = model_RFC.predict_proba(features_test)[:, 1]\n",
    "\n",
    "fpr, tpr, thresholds = roc_curve(target_test, model_probabilities_one) \n",
    "\n",
    "plt.figure()\n",
    "plt.plot(fpr, tpr)\n",
    "plt.plot([0, 1], [0, 1], linestyle='--')\n",
    "plt.xlim([0.0, 1.0])\n",
    "plt.ylim([0.0, 1.0])\n",
    "plt.xlabel('False Positive Rate')\n",
    "plt.ylabel('True Positive Rate')\n",
    "plt.title('ROC-кривая')\n",
    "plt.show()"
   ]
  },
  {
   "cell_type": "markdown",
   "metadata": {},
   "source": [
    "Тестирование лучшей модели показывает адекватные результаты."
   ]
  },
  {
   "cell_type": "markdown",
   "metadata": {},
   "source": [
    "## Общий вывод"
   ]
  },
  {
   "cell_type": "markdown",
   "metadata": {},
   "source": [
    "Лучшая модель RandomForestRegressor - на тестовой выборке достигла заданой метрики (F1 > 0.59), что составило F1 = 0.608 и показывает адекватные результаты.\n",
    "Модель характеризуется высоким показателем полноты = 0.571 (min = 0, max = 1), поэтому она с достаточной вероятностью предскажит уход клиента из банка.\n",
    "Показатель точности не высокий = 0.649 (min = 0, max = 1) — модель верно предсказывает немногим больше половины ухода клиентов.\n",
    "С точки зрения бизнеса полученная модель поможет маркетологам лучше определять килентов, которые могут уйти в ближайшее время. Важно, что модель покрывает большое количество клиентов.\n",
    "\n",
    "Для улучшения модели следует использовать данные, отражающие отношения клиента с банком в динамике."
   ]
  },
  {
   "cell_type": "markdown",
   "metadata": {},
   "source": [
    "## Чек-лист готовности проекта"
   ]
  },
  {
   "cell_type": "markdown",
   "metadata": {},
   "source": [
    "Поставьте 'x' в выполненных пунктах. Далее нажмите Shift+Enter."
   ]
  },
  {
   "cell_type": "markdown",
   "metadata": {},
   "source": [
    "- [x]  Jupyter Notebook открыт\n",
    "- [x]  Весь код выполняется без ошибок\n",
    "- [x]  Ячейки с кодом расположены в порядке исполнения\n",
    "- [x]  Выполнен шаг 1: данные подготовлены\n",
    "- [x]  Выполнен шаг 2: задача исследована\n",
    "    - [x]  Исследован баланс классов\n",
    "    - [x]  Изучены модели без учёта дисбаланса\n",
    "    - [x]  Написаны выводы по результатам исследования\n",
    "- [x]  Выполнен шаг 3: учтён дисбаланс\n",
    "    - [x]  Применено несколько способов борьбы с дисбалансом\n",
    "    - [x]  Написаны выводы по результатам исследования\n",
    "- [x]  Выполнен шаг 4: проведено тестирование\n",
    "- [x]  Удалось достичь *F1*-меры не менее 0.59\n",
    "- [x]  Исследована метрика *AUC-ROC*"
   ]
  },
  {
   "cell_type": "code",
   "execution_count": null,
   "metadata": {},
   "outputs": [],
   "source": []
  }
 ],
 "metadata": {
  "ExecuteTimeLog": [
   {
    "duration": 1552,
    "start_time": "2022-06-01T01:58:10.218Z"
   },
   {
    "duration": 160,
    "start_time": "2022-06-01T01:58:15.231Z"
   },
   {
    "duration": 13,
    "start_time": "2022-06-01T02:02:08.275Z"
   },
   {
    "duration": 19,
    "start_time": "2022-06-01T02:04:52.851Z"
   },
   {
    "duration": 11,
    "start_time": "2022-06-01T02:07:27.776Z"
   },
   {
    "duration": 13,
    "start_time": "2022-06-01T02:18:09.742Z"
   },
   {
    "duration": 6,
    "start_time": "2022-06-01T02:18:14.356Z"
   },
   {
    "duration": 17,
    "start_time": "2022-06-01T02:20:36.321Z"
   },
   {
    "duration": 3,
    "start_time": "2022-06-01T02:21:24.468Z"
   },
   {
    "duration": 22,
    "start_time": "2022-06-01T02:22:26.450Z"
   },
   {
    "duration": 4,
    "start_time": "2022-06-01T02:22:59.054Z"
   },
   {
    "duration": 4,
    "start_time": "2022-06-01T02:24:20.659Z"
   },
   {
    "duration": 6,
    "start_time": "2022-06-01T02:36:07.886Z"
   },
   {
    "duration": 13,
    "start_time": "2022-06-01T02:37:54.541Z"
   },
   {
    "duration": 4,
    "start_time": "2022-06-01T02:37:58.456Z"
   },
   {
    "duration": 7,
    "start_time": "2022-06-01T02:39:02.783Z"
   },
   {
    "duration": 9,
    "start_time": "2022-06-01T02:39:44.814Z"
   },
   {
    "duration": 10,
    "start_time": "2022-06-01T02:40:29.289Z"
   },
   {
    "duration": 9,
    "start_time": "2022-06-01T02:41:58.009Z"
   },
   {
    "duration": 123,
    "start_time": "2022-06-01T02:43:48.567Z"
   },
   {
    "duration": 11,
    "start_time": "2022-06-01T02:44:08.082Z"
   },
   {
    "duration": 9,
    "start_time": "2022-06-01T02:44:44.401Z"
   },
   {
    "duration": 9,
    "start_time": "2022-06-01T02:47:05.796Z"
   },
   {
    "duration": 36,
    "start_time": "2022-06-01T02:52:20.699Z"
   },
   {
    "duration": 8,
    "start_time": "2022-06-01T02:52:46.599Z"
   },
   {
    "duration": 55,
    "start_time": "2022-06-01T02:54:16.298Z"
   },
   {
    "duration": 26,
    "start_time": "2022-06-01T02:59:10.315Z"
   },
   {
    "duration": 28,
    "start_time": "2022-06-01T03:01:38.651Z"
   },
   {
    "duration": 18,
    "start_time": "2022-06-01T03:03:31.677Z"
   },
   {
    "duration": 19,
    "start_time": "2022-06-01T03:04:17.986Z"
   },
   {
    "duration": 40,
    "start_time": "2022-06-01T03:09:22.689Z"
   },
   {
    "duration": 696,
    "start_time": "2022-06-01T03:11:58.148Z"
   },
   {
    "duration": 768,
    "start_time": "2022-06-01T03:13:48.563Z"
   },
   {
    "duration": 322,
    "start_time": "2022-06-01T03:16:48.776Z"
   },
   {
    "duration": 6,
    "start_time": "2022-06-01T03:19:13.998Z"
   },
   {
    "duration": 736,
    "start_time": "2022-06-01T03:24:57.496Z"
   },
   {
    "duration": 762,
    "start_time": "2022-06-01T03:26:31.874Z"
   },
   {
    "duration": 25,
    "start_time": "2022-06-01T03:28:14.595Z"
   },
   {
    "duration": 6,
    "start_time": "2022-06-01T03:30:19.007Z"
   },
   {
    "duration": 5,
    "start_time": "2022-06-01T03:30:41.742Z"
   },
   {
    "duration": 5,
    "start_time": "2022-06-01T03:34:05.298Z"
   },
   {
    "duration": 29,
    "start_time": "2022-06-01T03:35:49.028Z"
   },
   {
    "duration": 36,
    "start_time": "2022-06-01T03:38:05.041Z"
   },
   {
    "duration": 4,
    "start_time": "2022-06-01T03:59:16.516Z"
   },
   {
    "duration": 11,
    "start_time": "2022-06-01T04:00:09.072Z"
   },
   {
    "duration": 650,
    "start_time": "2022-06-01T04:02:30.709Z"
   },
   {
    "duration": 3,
    "start_time": "2022-06-01T04:05:27.514Z"
   },
   {
    "duration": 11,
    "start_time": "2022-06-01T04:06:28.029Z"
   },
   {
    "duration": 111,
    "start_time": "2022-06-01T04:15:07.126Z"
   },
   {
    "duration": 11,
    "start_time": "2022-06-01T04:21:55.124Z"
   },
   {
    "duration": 13,
    "start_time": "2022-06-01T04:22:31.597Z"
   },
   {
    "duration": 26,
    "start_time": "2022-06-01T04:25:43.215Z"
   },
   {
    "duration": 403,
    "start_time": "2022-06-01T04:27:17.697Z"
   },
   {
    "duration": 317,
    "start_time": "2022-06-01T04:31:49.297Z"
   },
   {
    "duration": 10,
    "start_time": "2022-06-01T04:44:25.034Z"
   },
   {
    "duration": 5,
    "start_time": "2022-06-01T04:44:58.922Z"
   },
   {
    "duration": 15,
    "start_time": "2022-06-01T04:45:08.601Z"
   },
   {
    "duration": 8,
    "start_time": "2022-06-01T04:45:32.426Z"
   },
   {
    "duration": 11,
    "start_time": "2022-06-01T04:47:02.177Z"
   },
   {
    "duration": 85,
    "start_time": "2022-06-01T04:49:22.203Z"
   },
   {
    "duration": 19,
    "start_time": "2022-06-01T04:51:17.467Z"
   },
   {
    "duration": 1027,
    "start_time": "2022-06-01T04:51:48.000Z"
   },
   {
    "duration": 43,
    "start_time": "2022-06-01T04:53:31.464Z"
   },
   {
    "duration": 1016,
    "start_time": "2022-06-01T04:54:22.078Z"
   },
   {
    "duration": 43,
    "start_time": "2022-06-01T04:55:22.890Z"
   },
   {
    "duration": 55,
    "start_time": "2022-06-01T05:08:12.185Z"
   },
   {
    "duration": 108,
    "start_time": "2022-06-01T05:08:50.501Z"
   },
   {
    "duration": 152,
    "start_time": "2022-06-01T05:10:35.052Z"
   },
   {
    "duration": 1203,
    "start_time": "2022-06-01T05:23:10.619Z"
   },
   {
    "duration": 125,
    "start_time": "2022-06-01T05:23:11.828Z"
   },
   {
    "duration": 13,
    "start_time": "2022-06-01T05:23:11.955Z"
   },
   {
    "duration": 26,
    "start_time": "2022-06-01T05:23:11.971Z"
   },
   {
    "duration": 30,
    "start_time": "2022-06-01T05:23:11.999Z"
   },
   {
    "duration": 6,
    "start_time": "2022-06-01T05:23:12.031Z"
   },
   {
    "duration": 29,
    "start_time": "2022-06-01T05:23:12.039Z"
   },
   {
    "duration": 13,
    "start_time": "2022-06-01T05:23:12.070Z"
   },
   {
    "duration": 17,
    "start_time": "2022-06-01T05:23:12.085Z"
   },
   {
    "duration": 37,
    "start_time": "2022-06-01T05:23:12.105Z"
   },
   {
    "duration": 4,
    "start_time": "2022-06-01T05:23:12.144Z"
   },
   {
    "duration": 18,
    "start_time": "2022-06-01T05:23:12.151Z"
   },
   {
    "duration": 21,
    "start_time": "2022-06-01T05:23:12.172Z"
   },
   {
    "duration": 25,
    "start_time": "2022-06-01T05:23:12.195Z"
   },
   {
    "duration": 15,
    "start_time": "2022-06-01T05:23:12.438Z"
   },
   {
    "duration": 17,
    "start_time": "2022-06-01T05:23:12.456Z"
   },
   {
    "duration": 48,
    "start_time": "2022-06-01T05:23:12.475Z"
   },
   {
    "duration": 19,
    "start_time": "2022-06-01T05:23:12.526Z"
   },
   {
    "duration": 22,
    "start_time": "2022-06-01T05:23:12.547Z"
   },
   {
    "duration": 782,
    "start_time": "2022-06-01T05:23:12.844Z"
   },
   {
    "duration": 94,
    "start_time": "2022-06-01T05:23:13.634Z"
   },
   {
    "duration": 6,
    "start_time": "2022-06-01T05:23:13.730Z"
   },
   {
    "duration": 792,
    "start_time": "2022-06-01T05:23:13.737Z"
   },
   {
    "duration": 6,
    "start_time": "2022-06-01T05:23:14.537Z"
   },
   {
    "duration": 84,
    "start_time": "2022-06-01T05:23:14.546Z"
   },
   {
    "duration": 50,
    "start_time": "2022-06-01T05:23:14.633Z"
   },
   {
    "duration": 7,
    "start_time": "2022-06-01T05:23:14.685Z"
   },
   {
    "duration": 17,
    "start_time": "2022-06-01T05:23:14.694Z"
   },
   {
    "duration": 717,
    "start_time": "2022-06-01T05:23:14.726Z"
   },
   {
    "duration": 11,
    "start_time": "2022-06-01T05:23:15.445Z"
   },
   {
    "duration": 81,
    "start_time": "2022-06-01T05:23:15.458Z"
   },
   {
    "duration": 97,
    "start_time": "2022-06-01T05:23:15.541Z"
   },
   {
    "duration": 90,
    "start_time": "2022-06-01T05:23:15.641Z"
   },
   {
    "duration": 241,
    "start_time": "2022-06-01T05:23:15.733Z"
   },
   {
    "duration": 413,
    "start_time": "2022-06-01T05:23:15.976Z"
   },
   {
    "duration": 7,
    "start_time": "2022-06-01T05:23:16.391Z"
   },
   {
    "duration": 29,
    "start_time": "2022-06-01T05:23:16.400Z"
   },
   {
    "duration": 12,
    "start_time": "2022-06-01T05:23:16.433Z"
   },
   {
    "duration": 26,
    "start_time": "2022-06-01T05:23:16.448Z"
   },
   {
    "duration": 116,
    "start_time": "2022-06-01T05:23:16.477Z"
   },
   {
    "duration": 1042,
    "start_time": "2022-06-01T05:23:16.595Z"
   },
   {
    "duration": 143,
    "start_time": "2022-06-01T05:23:17.639Z"
   },
   {
    "duration": 914,
    "start_time": "2022-06-01T05:23:17.828Z"
   },
   {
    "duration": 86,
    "start_time": "2022-06-01T05:23:18.743Z"
   },
   {
    "duration": 148,
    "start_time": "2022-06-01T05:23:18.831Z"
   },
   {
    "duration": 179,
    "start_time": "2022-06-01T05:23:18.980Z"
   },
   {
    "duration": 785,
    "start_time": "2022-06-01T05:28:15.844Z"
   },
   {
    "duration": 1160,
    "start_time": "2022-06-01T05:28:34.364Z"
   },
   {
    "duration": 126,
    "start_time": "2022-06-01T05:28:35.527Z"
   },
   {
    "duration": 15,
    "start_time": "2022-06-01T05:28:35.655Z"
   },
   {
    "duration": 18,
    "start_time": "2022-06-01T05:28:35.673Z"
   },
   {
    "duration": 31,
    "start_time": "2022-06-01T05:28:35.693Z"
   },
   {
    "duration": 39,
    "start_time": "2022-06-01T05:28:35.727Z"
   },
   {
    "duration": 20,
    "start_time": "2022-06-01T05:28:35.768Z"
   },
   {
    "duration": 28,
    "start_time": "2022-06-01T05:28:35.790Z"
   },
   {
    "duration": 20,
    "start_time": "2022-06-01T05:28:35.821Z"
   },
   {
    "duration": 42,
    "start_time": "2022-06-01T05:28:35.845Z"
   },
   {
    "duration": 25,
    "start_time": "2022-06-01T05:28:35.888Z"
   },
   {
    "duration": 24,
    "start_time": "2022-06-01T05:28:35.915Z"
   },
   {
    "duration": 34,
    "start_time": "2022-06-01T05:28:35.942Z"
   },
   {
    "duration": 19,
    "start_time": "2022-06-01T05:28:35.978Z"
   },
   {
    "duration": 31,
    "start_time": "2022-06-01T05:28:35.999Z"
   },
   {
    "duration": 37,
    "start_time": "2022-06-01T05:28:36.031Z"
   },
   {
    "duration": 40,
    "start_time": "2022-06-01T05:28:36.070Z"
   },
   {
    "duration": 19,
    "start_time": "2022-06-01T05:28:36.112Z"
   },
   {
    "duration": 33,
    "start_time": "2022-06-01T05:28:36.132Z"
   },
   {
    "duration": 861,
    "start_time": "2022-06-01T05:28:36.166Z"
   },
   {
    "duration": 8,
    "start_time": "2022-06-01T05:28:37.029Z"
   },
   {
    "duration": 33,
    "start_time": "2022-06-01T05:28:37.038Z"
   },
   {
    "duration": 755,
    "start_time": "2022-06-01T05:28:37.073Z"
   },
   {
    "duration": 9,
    "start_time": "2022-06-01T05:28:37.830Z"
   },
   {
    "duration": 97,
    "start_time": "2022-06-01T05:28:37.842Z"
   },
   {
    "duration": 38,
    "start_time": "2022-06-01T05:28:37.941Z"
   },
   {
    "duration": 3,
    "start_time": "2022-06-01T05:28:37.981Z"
   },
   {
    "duration": 12,
    "start_time": "2022-06-01T05:28:37.987Z"
   },
   {
    "duration": 683,
    "start_time": "2022-06-01T05:28:38.001Z"
   },
   {
    "duration": 11,
    "start_time": "2022-06-01T05:28:38.686Z"
   },
   {
    "duration": 131,
    "start_time": "2022-06-01T05:28:38.698Z"
   },
   {
    "duration": 97,
    "start_time": "2022-06-01T05:28:38.830Z"
   },
   {
    "duration": 11,
    "start_time": "2022-06-01T05:28:38.929Z"
   },
   {
    "duration": 314,
    "start_time": "2022-06-01T05:28:38.942Z"
   },
   {
    "duration": 272,
    "start_time": "2022-06-01T05:28:39.258Z"
   },
   {
    "duration": 5,
    "start_time": "2022-06-01T05:28:39.532Z"
   },
   {
    "duration": 22,
    "start_time": "2022-06-01T05:28:39.539Z"
   },
   {
    "duration": 7,
    "start_time": "2022-06-01T05:28:39.563Z"
   },
   {
    "duration": 17,
    "start_time": "2022-06-01T05:28:39.572Z"
   },
   {
    "duration": 146,
    "start_time": "2022-06-01T05:28:39.592Z"
   },
   {
    "duration": 896,
    "start_time": "2022-06-01T05:28:39.740Z"
   },
   {
    "duration": 220,
    "start_time": "2022-06-01T05:28:40.639Z"
   },
   {
    "duration": 954,
    "start_time": "2022-06-01T05:28:40.861Z"
   },
   {
    "duration": 118,
    "start_time": "2022-06-01T05:28:41.817Z"
   },
   {
    "duration": 149,
    "start_time": "2022-06-01T05:28:41.937Z"
   },
   {
    "duration": 193,
    "start_time": "2022-06-01T05:28:42.087Z"
   },
   {
    "duration": 1224,
    "start_time": "2022-06-01T05:30:14.007Z"
   },
   {
    "duration": 130,
    "start_time": "2022-06-01T05:30:15.233Z"
   },
   {
    "duration": 14,
    "start_time": "2022-06-01T05:30:15.365Z"
   },
   {
    "duration": 13,
    "start_time": "2022-06-01T05:30:15.382Z"
   },
   {
    "duration": 31,
    "start_time": "2022-06-01T05:30:15.396Z"
   },
   {
    "duration": 7,
    "start_time": "2022-06-01T05:30:15.429Z"
   },
   {
    "duration": 22,
    "start_time": "2022-06-01T05:30:15.437Z"
   },
   {
    "duration": 9,
    "start_time": "2022-06-01T05:30:15.461Z"
   },
   {
    "duration": 10,
    "start_time": "2022-06-01T05:30:15.472Z"
   },
   {
    "duration": 19,
    "start_time": "2022-06-01T05:30:15.485Z"
   },
   {
    "duration": 22,
    "start_time": "2022-06-01T05:30:15.505Z"
   },
   {
    "duration": 6,
    "start_time": "2022-06-01T05:30:15.529Z"
   },
   {
    "duration": 15,
    "start_time": "2022-06-01T05:30:15.538Z"
   },
   {
    "duration": 10,
    "start_time": "2022-06-01T05:30:15.555Z"
   },
   {
    "duration": 16,
    "start_time": "2022-06-01T05:30:15.567Z"
   },
   {
    "duration": 41,
    "start_time": "2022-06-01T05:30:15.585Z"
   },
   {
    "duration": 26,
    "start_time": "2022-06-01T05:30:15.629Z"
   },
   {
    "duration": 23,
    "start_time": "2022-06-01T05:30:15.657Z"
   },
   {
    "duration": 50,
    "start_time": "2022-06-01T05:30:15.682Z"
   },
   {
    "duration": 764,
    "start_time": "2022-06-01T05:30:15.734Z"
   },
   {
    "duration": 9,
    "start_time": "2022-06-01T05:30:16.530Z"
   },
   {
    "duration": 100,
    "start_time": "2022-06-01T05:30:16.543Z"
   },
   {
    "duration": 733,
    "start_time": "2022-06-01T05:30:16.645Z"
   },
   {
    "duration": 62,
    "start_time": "2022-06-01T05:30:17.381Z"
   },
   {
    "duration": 9,
    "start_time": "2022-06-01T05:30:17.528Z"
   },
   {
    "duration": 36,
    "start_time": "2022-06-01T05:30:17.539Z"
   },
   {
    "duration": 4,
    "start_time": "2022-06-01T05:30:17.576Z"
   },
   {
    "duration": 11,
    "start_time": "2022-06-01T05:30:17.583Z"
   },
   {
    "duration": 696,
    "start_time": "2022-06-01T05:30:17.596Z"
   },
   {
    "duration": 13,
    "start_time": "2022-06-01T05:30:18.293Z"
   },
   {
    "duration": 130,
    "start_time": "2022-06-01T05:30:18.308Z"
   },
   {
    "duration": 95,
    "start_time": "2022-06-01T05:30:18.440Z"
   },
   {
    "duration": 14,
    "start_time": "2022-06-01T05:30:18.536Z"
   },
   {
    "duration": 294,
    "start_time": "2022-06-01T05:30:18.552Z"
   },
   {
    "duration": 304,
    "start_time": "2022-06-01T05:30:18.849Z"
   },
   {
    "duration": 5,
    "start_time": "2022-06-01T05:30:19.155Z"
   },
   {
    "duration": 34,
    "start_time": "2022-06-01T05:30:19.162Z"
   },
   {
    "duration": 7,
    "start_time": "2022-06-01T05:30:19.198Z"
   },
   {
    "duration": 21,
    "start_time": "2022-06-01T05:30:19.206Z"
   },
   {
    "duration": 101,
    "start_time": "2022-06-01T05:30:19.228Z"
   },
   {
    "duration": 995,
    "start_time": "2022-06-01T05:30:19.331Z"
   },
   {
    "duration": 136,
    "start_time": "2022-06-01T05:30:20.328Z"
   },
   {
    "duration": 969,
    "start_time": "2022-06-01T05:30:20.468Z"
   },
   {
    "duration": 190,
    "start_time": "2022-06-01T05:30:21.439Z"
   },
   {
    "duration": 83,
    "start_time": "2022-06-01T05:30:21.631Z"
   },
   {
    "duration": 180,
    "start_time": "2022-06-01T05:30:21.728Z"
   },
   {
    "duration": 5,
    "start_time": "2022-06-01T05:43:44.620Z"
   },
   {
    "duration": 128,
    "start_time": "2022-06-01T05:43:49.350Z"
   },
   {
    "duration": 1361,
    "start_time": "2022-06-01T05:45:07.050Z"
   },
   {
    "duration": 139,
    "start_time": "2022-06-01T05:45:08.414Z"
   },
   {
    "duration": 19,
    "start_time": "2022-06-01T05:45:08.555Z"
   },
   {
    "duration": 19,
    "start_time": "2022-06-01T05:45:08.577Z"
   },
   {
    "duration": 29,
    "start_time": "2022-06-01T05:45:08.599Z"
   },
   {
    "duration": 21,
    "start_time": "2022-06-01T05:45:08.630Z"
   },
   {
    "duration": 15,
    "start_time": "2022-06-01T05:45:08.653Z"
   },
   {
    "duration": 7,
    "start_time": "2022-06-01T05:45:08.671Z"
   },
   {
    "duration": 12,
    "start_time": "2022-06-01T05:45:08.679Z"
   },
   {
    "duration": 22,
    "start_time": "2022-06-01T05:45:08.694Z"
   },
   {
    "duration": 12,
    "start_time": "2022-06-01T05:45:08.717Z"
   },
   {
    "duration": 32,
    "start_time": "2022-06-01T05:45:08.731Z"
   },
   {
    "duration": 11,
    "start_time": "2022-06-01T05:45:08.765Z"
   },
   {
    "duration": 8,
    "start_time": "2022-06-01T05:45:08.778Z"
   },
   {
    "duration": 16,
    "start_time": "2022-06-01T05:45:08.788Z"
   },
   {
    "duration": 23,
    "start_time": "2022-06-01T05:45:08.806Z"
   },
   {
    "duration": 36,
    "start_time": "2022-06-01T05:45:08.831Z"
   },
   {
    "duration": 30,
    "start_time": "2022-06-01T05:45:08.870Z"
   },
   {
    "duration": 50,
    "start_time": "2022-06-01T05:45:08.902Z"
   },
   {
    "duration": 973,
    "start_time": "2022-06-01T05:45:08.954Z"
   },
   {
    "duration": 24,
    "start_time": "2022-06-01T05:45:09.938Z"
   },
   {
    "duration": 7,
    "start_time": "2022-06-01T05:45:09.964Z"
   },
   {
    "duration": 975,
    "start_time": "2022-06-01T05:45:09.973Z"
   },
   {
    "duration": 77,
    "start_time": "2022-06-01T05:45:10.955Z"
   },
   {
    "duration": 33,
    "start_time": "2022-06-01T05:45:11.035Z"
   },
   {
    "duration": 42,
    "start_time": "2022-06-01T05:45:11.070Z"
   },
   {
    "duration": 21,
    "start_time": "2022-06-01T05:45:11.114Z"
   },
   {
    "duration": 167,
    "start_time": "2022-06-01T05:45:11.140Z"
   },
   {
    "duration": 0,
    "start_time": "2022-06-01T05:45:11.309Z"
   },
   {
    "duration": 0,
    "start_time": "2022-06-01T05:45:11.310Z"
   },
   {
    "duration": 0,
    "start_time": "2022-06-01T05:45:11.311Z"
   },
   {
    "duration": 0,
    "start_time": "2022-06-01T05:45:11.312Z"
   },
   {
    "duration": 0,
    "start_time": "2022-06-01T05:45:11.313Z"
   },
   {
    "duration": 0,
    "start_time": "2022-06-01T05:45:11.315Z"
   },
   {
    "duration": 0,
    "start_time": "2022-06-01T05:45:11.316Z"
   },
   {
    "duration": 0,
    "start_time": "2022-06-01T05:45:11.336Z"
   },
   {
    "duration": 0,
    "start_time": "2022-06-01T05:45:11.337Z"
   },
   {
    "duration": 0,
    "start_time": "2022-06-01T05:45:11.338Z"
   },
   {
    "duration": 0,
    "start_time": "2022-06-01T05:45:11.339Z"
   },
   {
    "duration": 0,
    "start_time": "2022-06-01T05:45:11.341Z"
   },
   {
    "duration": 0,
    "start_time": "2022-06-01T05:45:11.342Z"
   },
   {
    "duration": 0,
    "start_time": "2022-06-01T05:45:11.343Z"
   },
   {
    "duration": 0,
    "start_time": "2022-06-01T05:45:11.345Z"
   },
   {
    "duration": 0,
    "start_time": "2022-06-01T05:45:11.346Z"
   },
   {
    "duration": 0,
    "start_time": "2022-06-01T05:45:11.347Z"
   },
   {
    "duration": 0,
    "start_time": "2022-06-01T05:45:11.349Z"
   },
   {
    "duration": 4,
    "start_time": "2022-06-01T05:45:51.652Z"
   },
   {
    "duration": 14,
    "start_time": "2022-06-01T05:46:01.352Z"
   },
   {
    "duration": 1277,
    "start_time": "2022-06-01T05:46:51.709Z"
   },
   {
    "duration": 133,
    "start_time": "2022-06-01T05:46:52.989Z"
   },
   {
    "duration": 21,
    "start_time": "2022-06-01T05:46:53.124Z"
   },
   {
    "duration": 37,
    "start_time": "2022-06-01T05:46:53.148Z"
   },
   {
    "duration": 10,
    "start_time": "2022-06-01T05:46:53.187Z"
   },
   {
    "duration": 5,
    "start_time": "2022-06-01T05:46:53.199Z"
   },
   {
    "duration": 21,
    "start_time": "2022-06-01T05:46:53.206Z"
   },
   {
    "duration": 43,
    "start_time": "2022-06-01T05:46:53.229Z"
   },
   {
    "duration": 9,
    "start_time": "2022-06-01T05:46:53.273Z"
   },
   {
    "duration": 27,
    "start_time": "2022-06-01T05:46:53.285Z"
   },
   {
    "duration": 4,
    "start_time": "2022-06-01T05:46:53.314Z"
   },
   {
    "duration": 8,
    "start_time": "2022-06-01T05:46:53.320Z"
   },
   {
    "duration": 35,
    "start_time": "2022-06-01T05:46:53.330Z"
   },
   {
    "duration": 10,
    "start_time": "2022-06-01T05:46:53.367Z"
   },
   {
    "duration": 19,
    "start_time": "2022-06-01T05:46:53.379Z"
   },
   {
    "duration": 12,
    "start_time": "2022-06-01T05:46:53.399Z"
   },
   {
    "duration": 34,
    "start_time": "2022-06-01T05:46:53.412Z"
   },
   {
    "duration": 24,
    "start_time": "2022-06-01T05:46:53.448Z"
   },
   {
    "duration": 20,
    "start_time": "2022-06-01T05:46:53.473Z"
   },
   {
    "duration": 842,
    "start_time": "2022-06-01T05:46:53.494Z"
   },
   {
    "duration": 11,
    "start_time": "2022-06-01T05:46:54.339Z"
   },
   {
    "duration": 112,
    "start_time": "2022-06-01T05:46:54.352Z"
   },
   {
    "duration": 872,
    "start_time": "2022-06-01T05:46:54.467Z"
   },
   {
    "duration": 13,
    "start_time": "2022-06-01T05:46:55.342Z"
   },
   {
    "duration": 36,
    "start_time": "2022-06-01T05:46:55.427Z"
   },
   {
    "duration": 83,
    "start_time": "2022-06-01T05:46:55.466Z"
   },
   {
    "duration": 6,
    "start_time": "2022-06-01T05:46:55.551Z"
   },
   {
    "duration": 18,
    "start_time": "2022-06-01T05:46:55.561Z"
   },
   {
    "duration": 797,
    "start_time": "2022-06-01T05:46:55.581Z"
   },
   {
    "duration": 14,
    "start_time": "2022-06-01T05:46:56.379Z"
   },
   {
    "duration": 78,
    "start_time": "2022-06-01T05:46:56.395Z"
   },
   {
    "duration": 98,
    "start_time": "2022-06-01T05:46:56.531Z"
   },
   {
    "duration": 104,
    "start_time": "2022-06-01T05:46:56.631Z"
   },
   {
    "duration": 236,
    "start_time": "2022-06-01T05:46:56.737Z"
   },
   {
    "duration": 375,
    "start_time": "2022-06-01T05:46:56.975Z"
   },
   {
    "duration": 5,
    "start_time": "2022-06-01T05:46:57.352Z"
   },
   {
    "duration": 29,
    "start_time": "2022-06-01T05:46:57.359Z"
   },
   {
    "duration": 9,
    "start_time": "2022-06-01T05:46:57.390Z"
   },
   {
    "duration": 31,
    "start_time": "2022-06-01T05:46:57.401Z"
   },
   {
    "duration": 93,
    "start_time": "2022-06-01T05:46:57.436Z"
   },
   {
    "duration": 1248,
    "start_time": "2022-06-01T05:46:57.531Z"
   },
   {
    "duration": 163,
    "start_time": "2022-06-01T05:46:58.838Z"
   },
   {
    "duration": 1091,
    "start_time": "2022-06-01T05:46:59.003Z"
   },
   {
    "duration": 136,
    "start_time": "2022-06-01T05:47:00.096Z"
   },
   {
    "duration": 142,
    "start_time": "2022-06-01T05:47:00.234Z"
   },
   {
    "duration": 216,
    "start_time": "2022-06-01T05:47:00.378Z"
   },
   {
    "duration": 71,
    "start_time": "2022-06-01T05:49:49.048Z"
   },
   {
    "duration": 63,
    "start_time": "2022-06-01T06:16:58.405Z"
   },
   {
    "duration": 124,
    "start_time": "2022-06-01T06:17:28.150Z"
   },
   {
    "duration": 123,
    "start_time": "2022-06-01T06:17:44.122Z"
   },
   {
    "duration": 200,
    "start_time": "2022-06-01T06:23:32.394Z"
   },
   {
    "duration": 79,
    "start_time": "2022-06-01T06:23:55.199Z"
   },
   {
    "duration": 74,
    "start_time": "2022-06-01T06:24:00.985Z"
   },
   {
    "duration": 1236,
    "start_time": "2022-06-01T06:25:25.944Z"
   },
   {
    "duration": 173,
    "start_time": "2022-06-01T06:25:27.184Z"
   },
   {
    "duration": 20,
    "start_time": "2022-06-01T06:25:27.359Z"
   },
   {
    "duration": 19,
    "start_time": "2022-06-01T06:25:27.382Z"
   },
   {
    "duration": 37,
    "start_time": "2022-06-01T06:25:27.405Z"
   },
   {
    "duration": 6,
    "start_time": "2022-06-01T06:25:27.443Z"
   },
   {
    "duration": 17,
    "start_time": "2022-06-01T06:25:27.451Z"
   },
   {
    "duration": 5,
    "start_time": "2022-06-01T06:25:27.470Z"
   },
   {
    "duration": 11,
    "start_time": "2022-06-01T06:25:27.477Z"
   },
   {
    "duration": 55,
    "start_time": "2022-06-01T06:25:27.490Z"
   },
   {
    "duration": 4,
    "start_time": "2022-06-01T06:25:27.547Z"
   },
   {
    "duration": 19,
    "start_time": "2022-06-01T06:25:27.554Z"
   },
   {
    "duration": 14,
    "start_time": "2022-06-01T06:25:27.575Z"
   },
   {
    "duration": 6,
    "start_time": "2022-06-01T06:25:27.592Z"
   },
   {
    "duration": 33,
    "start_time": "2022-06-01T06:25:27.599Z"
   },
   {
    "duration": 10,
    "start_time": "2022-06-01T06:25:27.634Z"
   },
   {
    "duration": 56,
    "start_time": "2022-06-01T06:25:27.646Z"
   },
   {
    "duration": 28,
    "start_time": "2022-06-01T06:25:27.703Z"
   },
   {
    "duration": 19,
    "start_time": "2022-06-01T06:25:27.733Z"
   },
   {
    "duration": 881,
    "start_time": "2022-06-01T06:25:27.754Z"
   },
   {
    "duration": 92,
    "start_time": "2022-06-01T06:25:28.637Z"
   },
   {
    "duration": 7,
    "start_time": "2022-06-01T06:25:28.731Z"
   },
   {
    "duration": 889,
    "start_time": "2022-06-01T06:25:28.740Z"
   },
   {
    "duration": 8,
    "start_time": "2022-06-01T06:25:29.631Z"
   },
   {
    "duration": 17,
    "start_time": "2022-06-01T06:25:29.640Z"
   },
   {
    "duration": 48,
    "start_time": "2022-06-01T06:25:29.660Z"
   },
   {
    "duration": 4,
    "start_time": "2022-06-01T06:25:29.710Z"
   },
   {
    "duration": 17,
    "start_time": "2022-06-01T06:25:29.728Z"
   },
   {
    "duration": 708,
    "start_time": "2022-06-01T06:25:29.748Z"
   },
   {
    "duration": 15,
    "start_time": "2022-06-01T06:25:30.458Z"
   },
   {
    "duration": 156,
    "start_time": "2022-06-01T06:25:30.477Z"
   },
   {
    "duration": 15,
    "start_time": "2022-06-01T06:25:30.635Z"
   },
   {
    "duration": 207,
    "start_time": "2022-06-01T06:25:30.728Z"
   },
   {
    "duration": 0,
    "start_time": "2022-06-01T06:25:30.938Z"
   },
   {
    "duration": 0,
    "start_time": "2022-06-01T06:25:30.939Z"
   },
   {
    "duration": 0,
    "start_time": "2022-06-01T06:25:30.941Z"
   },
   {
    "duration": 0,
    "start_time": "2022-06-01T06:25:30.943Z"
   },
   {
    "duration": 0,
    "start_time": "2022-06-01T06:25:30.945Z"
   },
   {
    "duration": 0,
    "start_time": "2022-06-01T06:25:30.946Z"
   },
   {
    "duration": 0,
    "start_time": "2022-06-01T06:25:30.948Z"
   },
   {
    "duration": 0,
    "start_time": "2022-06-01T06:25:30.950Z"
   },
   {
    "duration": 0,
    "start_time": "2022-06-01T06:25:30.951Z"
   },
   {
    "duration": 0,
    "start_time": "2022-06-01T06:25:30.953Z"
   },
   {
    "duration": 0,
    "start_time": "2022-06-01T06:25:30.955Z"
   },
   {
    "duration": 0,
    "start_time": "2022-06-01T06:25:30.956Z"
   },
   {
    "duration": 0,
    "start_time": "2022-06-01T06:25:30.958Z"
   },
   {
    "duration": 75,
    "start_time": "2022-06-01T06:26:26.079Z"
   },
   {
    "duration": 1271,
    "start_time": "2022-06-01T06:26:34.400Z"
   },
   {
    "duration": 134,
    "start_time": "2022-06-01T06:26:35.673Z"
   },
   {
    "duration": 12,
    "start_time": "2022-06-01T06:26:35.808Z"
   },
   {
    "duration": 38,
    "start_time": "2022-06-01T06:26:35.828Z"
   },
   {
    "duration": 24,
    "start_time": "2022-06-01T06:26:35.867Z"
   },
   {
    "duration": 15,
    "start_time": "2022-06-01T06:26:35.892Z"
   },
   {
    "duration": 25,
    "start_time": "2022-06-01T06:26:35.908Z"
   },
   {
    "duration": 45,
    "start_time": "2022-06-01T06:26:35.935Z"
   },
   {
    "duration": 24,
    "start_time": "2022-06-01T06:26:35.982Z"
   },
   {
    "duration": 78,
    "start_time": "2022-06-01T06:26:36.010Z"
   },
   {
    "duration": 5,
    "start_time": "2022-06-01T06:26:36.090Z"
   },
   {
    "duration": 51,
    "start_time": "2022-06-01T06:26:36.097Z"
   },
   {
    "duration": 20,
    "start_time": "2022-06-01T06:26:36.150Z"
   },
   {
    "duration": 20,
    "start_time": "2022-06-01T06:26:36.172Z"
   },
   {
    "duration": 32,
    "start_time": "2022-06-01T06:26:36.194Z"
   },
   {
    "duration": 31,
    "start_time": "2022-06-01T06:26:36.229Z"
   },
   {
    "duration": 72,
    "start_time": "2022-06-01T06:26:36.262Z"
   },
   {
    "duration": 34,
    "start_time": "2022-06-01T06:26:36.336Z"
   },
   {
    "duration": 41,
    "start_time": "2022-06-01T06:26:36.372Z"
   },
   {
    "duration": 916,
    "start_time": "2022-06-01T06:26:36.415Z"
   },
   {
    "duration": 24,
    "start_time": "2022-06-01T06:26:37.333Z"
   },
   {
    "duration": 27,
    "start_time": "2022-06-01T06:26:37.431Z"
   },
   {
    "duration": 776,
    "start_time": "2022-06-01T06:26:37.460Z"
   },
   {
    "duration": 7,
    "start_time": "2022-06-01T06:26:38.239Z"
   },
   {
    "duration": 109,
    "start_time": "2022-06-01T06:26:38.247Z"
   },
   {
    "duration": 70,
    "start_time": "2022-06-01T06:26:38.358Z"
   },
   {
    "duration": 5,
    "start_time": "2022-06-01T06:26:38.430Z"
   },
   {
    "duration": 24,
    "start_time": "2022-06-01T06:26:38.439Z"
   },
   {
    "duration": 746,
    "start_time": "2022-06-01T06:26:38.464Z"
   },
   {
    "duration": 19,
    "start_time": "2022-06-01T06:26:39.211Z"
   },
   {
    "duration": 109,
    "start_time": "2022-06-01T06:26:39.233Z"
   },
   {
    "duration": 102,
    "start_time": "2022-06-01T06:26:39.343Z"
   },
   {
    "duration": 53,
    "start_time": "2022-06-01T06:26:39.447Z"
   },
   {
    "duration": 151,
    "start_time": "2022-06-01T06:26:39.501Z"
   },
   {
    "duration": 274,
    "start_time": "2022-06-01T06:26:39.653Z"
   },
   {
    "duration": 8,
    "start_time": "2022-06-01T06:26:39.929Z"
   },
   {
    "duration": 31,
    "start_time": "2022-06-01T06:26:39.940Z"
   },
   {
    "duration": 8,
    "start_time": "2022-06-01T06:26:39.973Z"
   },
   {
    "duration": 12,
    "start_time": "2022-06-01T06:26:39.983Z"
   },
   {
    "duration": 91,
    "start_time": "2022-06-01T06:26:39.996Z"
   },
   {
    "duration": 1064,
    "start_time": "2022-06-01T06:26:40.089Z"
   },
   {
    "duration": 183,
    "start_time": "2022-06-01T06:26:41.156Z"
   },
   {
    "duration": 1013,
    "start_time": "2022-06-01T06:26:41.341Z"
   },
   {
    "duration": 92,
    "start_time": "2022-06-01T06:26:42.355Z"
   },
   {
    "duration": 110,
    "start_time": "2022-06-01T06:26:42.530Z"
   },
   {
    "duration": 174,
    "start_time": "2022-06-01T06:26:42.642Z"
   },
   {
    "duration": 1112,
    "start_time": "2022-06-01T06:36:15.149Z"
   },
   {
    "duration": 959,
    "start_time": "2022-06-01T06:37:25.547Z"
   },
   {
    "duration": 1425,
    "start_time": "2022-06-02T14:21:29.705Z"
   },
   {
    "duration": 106,
    "start_time": "2022-06-02T14:21:31.132Z"
   },
   {
    "duration": 14,
    "start_time": "2022-06-02T14:21:31.240Z"
   },
   {
    "duration": 14,
    "start_time": "2022-06-02T14:21:31.256Z"
   },
   {
    "duration": 15,
    "start_time": "2022-06-02T14:21:31.272Z"
   },
   {
    "duration": 15,
    "start_time": "2022-06-02T14:21:31.288Z"
   },
   {
    "duration": 21,
    "start_time": "2022-06-02T14:21:31.305Z"
   },
   {
    "duration": 19,
    "start_time": "2022-06-02T14:21:31.328Z"
   },
   {
    "duration": 17,
    "start_time": "2022-06-02T14:21:31.349Z"
   },
   {
    "duration": 31,
    "start_time": "2022-06-02T14:21:31.369Z"
   },
   {
    "duration": 4,
    "start_time": "2022-06-02T14:21:31.401Z"
   },
   {
    "duration": 23,
    "start_time": "2022-06-02T14:21:31.407Z"
   },
   {
    "duration": 11,
    "start_time": "2022-06-02T14:21:31.432Z"
   },
   {
    "duration": 9,
    "start_time": "2022-06-02T14:21:31.445Z"
   },
   {
    "duration": 15,
    "start_time": "2022-06-02T14:21:31.456Z"
   },
   {
    "duration": 8,
    "start_time": "2022-06-02T14:21:31.473Z"
   },
   {
    "duration": 57,
    "start_time": "2022-06-02T14:21:31.482Z"
   },
   {
    "duration": 18,
    "start_time": "2022-06-02T14:21:31.540Z"
   },
   {
    "duration": 18,
    "start_time": "2022-06-02T14:21:31.560Z"
   },
   {
    "duration": 790,
    "start_time": "2022-06-02T14:21:31.581Z"
   },
   {
    "duration": 96,
    "start_time": "2022-06-02T14:21:32.373Z"
   },
   {
    "duration": 106,
    "start_time": "2022-06-02T14:21:32.473Z"
   },
   {
    "duration": 784,
    "start_time": "2022-06-02T14:21:32.582Z"
   },
   {
    "duration": 96,
    "start_time": "2022-06-02T14:21:33.369Z"
   },
   {
    "duration": 9,
    "start_time": "2022-06-02T14:21:33.467Z"
   },
   {
    "duration": 46,
    "start_time": "2022-06-02T14:21:33.478Z"
   },
   {
    "duration": 3,
    "start_time": "2022-06-02T14:21:33.526Z"
   },
   {
    "duration": 14,
    "start_time": "2022-06-02T14:21:33.532Z"
   },
   {
    "duration": 712,
    "start_time": "2022-06-02T14:21:33.548Z"
   },
   {
    "duration": 11,
    "start_time": "2022-06-02T14:21:34.264Z"
   },
   {
    "duration": 89,
    "start_time": "2022-06-02T14:21:34.276Z"
   },
   {
    "duration": 101,
    "start_time": "2022-06-02T14:21:34.367Z"
   },
   {
    "duration": 56,
    "start_time": "2022-06-02T14:21:34.470Z"
   },
   {
    "duration": 150,
    "start_time": "2022-06-02T14:21:34.528Z"
   },
   {
    "duration": 5,
    "start_time": "2022-06-02T14:21:34.680Z"
   },
   {
    "duration": 24,
    "start_time": "2022-06-02T14:21:34.686Z"
   },
   {
    "duration": 7,
    "start_time": "2022-06-02T14:21:34.712Z"
   },
   {
    "duration": 13,
    "start_time": "2022-06-02T14:21:34.720Z"
   },
   {
    "duration": 99,
    "start_time": "2022-06-02T14:21:34.735Z"
   },
   {
    "duration": 985,
    "start_time": "2022-06-02T14:21:34.836Z"
   },
   {
    "duration": 176,
    "start_time": "2022-06-02T14:21:35.823Z"
   },
   {
    "duration": 987,
    "start_time": "2022-06-02T14:21:36.000Z"
   },
   {
    "duration": 78,
    "start_time": "2022-06-02T14:21:36.989Z"
   },
   {
    "duration": 158,
    "start_time": "2022-06-02T14:21:37.069Z"
   },
   {
    "duration": 184,
    "start_time": "2022-06-02T14:21:37.229Z"
   },
   {
    "duration": 65,
    "start_time": "2022-06-02T15:13:04.165Z"
   },
   {
    "duration": 63,
    "start_time": "2022-06-04T11:29:35.806Z"
   },
   {
    "duration": 1359,
    "start_time": "2022-06-04T11:29:44.875Z"
   },
   {
    "duration": 175,
    "start_time": "2022-06-04T11:29:46.237Z"
   },
   {
    "duration": 13,
    "start_time": "2022-06-04T11:29:46.414Z"
   },
   {
    "duration": 27,
    "start_time": "2022-06-04T11:29:46.429Z"
   },
   {
    "duration": 16,
    "start_time": "2022-06-04T11:29:46.457Z"
   },
   {
    "duration": 16,
    "start_time": "2022-06-04T11:29:46.475Z"
   },
   {
    "duration": 26,
    "start_time": "2022-06-04T11:29:46.493Z"
   },
   {
    "duration": 16,
    "start_time": "2022-06-04T11:29:46.521Z"
   },
   {
    "duration": 23,
    "start_time": "2022-06-04T11:29:46.539Z"
   },
   {
    "duration": 25,
    "start_time": "2022-06-04T11:29:46.567Z"
   },
   {
    "duration": 5,
    "start_time": "2022-06-04T11:29:46.594Z"
   },
   {
    "duration": 26,
    "start_time": "2022-06-04T11:29:46.600Z"
   },
   {
    "duration": 15,
    "start_time": "2022-06-04T11:29:46.628Z"
   },
   {
    "duration": 17,
    "start_time": "2022-06-04T11:29:46.645Z"
   },
   {
    "duration": 27,
    "start_time": "2022-06-04T11:29:46.663Z"
   },
   {
    "duration": 21,
    "start_time": "2022-06-04T11:29:46.692Z"
   },
   {
    "duration": 35,
    "start_time": "2022-06-04T11:29:46.715Z"
   },
   {
    "duration": 28,
    "start_time": "2022-06-04T11:29:46.751Z"
   },
   {
    "duration": 21,
    "start_time": "2022-06-04T11:29:46.780Z"
   },
   {
    "duration": 780,
    "start_time": "2022-06-04T11:29:46.802Z"
   },
   {
    "duration": 9,
    "start_time": "2022-06-04T11:29:47.585Z"
   },
   {
    "duration": 12,
    "start_time": "2022-06-04T11:29:47.665Z"
   },
   {
    "duration": 892,
    "start_time": "2022-06-04T11:29:47.681Z"
   },
   {
    "duration": 7,
    "start_time": "2022-06-04T11:29:48.575Z"
   },
   {
    "duration": 101,
    "start_time": "2022-06-04T11:29:48.583Z"
   },
   {
    "duration": 119,
    "start_time": "2022-06-04T11:29:48.686Z"
   },
   {
    "duration": 0,
    "start_time": "2022-06-04T11:29:48.808Z"
   },
   {
    "duration": 0,
    "start_time": "2022-06-04T11:29:48.809Z"
   },
   {
    "duration": 0,
    "start_time": "2022-06-04T11:29:48.811Z"
   },
   {
    "duration": 0,
    "start_time": "2022-06-04T11:29:48.813Z"
   },
   {
    "duration": 0,
    "start_time": "2022-06-04T11:29:48.814Z"
   },
   {
    "duration": 0,
    "start_time": "2022-06-04T11:29:48.815Z"
   },
   {
    "duration": 0,
    "start_time": "2022-06-04T11:29:48.817Z"
   },
   {
    "duration": 0,
    "start_time": "2022-06-04T11:29:48.818Z"
   },
   {
    "duration": 0,
    "start_time": "2022-06-04T11:29:48.820Z"
   },
   {
    "duration": 0,
    "start_time": "2022-06-04T11:29:48.821Z"
   },
   {
    "duration": 0,
    "start_time": "2022-06-04T11:29:48.822Z"
   },
   {
    "duration": 0,
    "start_time": "2022-06-04T11:29:48.824Z"
   },
   {
    "duration": 0,
    "start_time": "2022-06-04T11:29:48.825Z"
   },
   {
    "duration": 0,
    "start_time": "2022-06-04T11:29:48.827Z"
   },
   {
    "duration": 0,
    "start_time": "2022-06-04T11:29:48.828Z"
   },
   {
    "duration": 0,
    "start_time": "2022-06-04T11:29:48.830Z"
   },
   {
    "duration": 0,
    "start_time": "2022-06-04T11:29:48.831Z"
   },
   {
    "duration": 0,
    "start_time": "2022-06-04T11:29:48.866Z"
   },
   {
    "duration": 0,
    "start_time": "2022-06-04T11:29:48.867Z"
   },
   {
    "duration": 43,
    "start_time": "2022-06-04T11:30:24.851Z"
   },
   {
    "duration": 794,
    "start_time": "2022-06-04T11:30:58.695Z"
   },
   {
    "duration": 25,
    "start_time": "2022-06-04T11:33:42.998Z"
   },
   {
    "duration": 10,
    "start_time": "2022-06-04T11:33:51.479Z"
   },
   {
    "duration": 3,
    "start_time": "2022-06-04T11:34:03.154Z"
   },
   {
    "duration": 13,
    "start_time": "2022-06-04T11:34:05.404Z"
   },
   {
    "duration": 12,
    "start_time": "2022-06-04T11:34:16.846Z"
   },
   {
    "duration": 22,
    "start_time": "2022-06-04T11:34:25.526Z"
   },
   {
    "duration": 12,
    "start_time": "2022-06-04T11:34:40.794Z"
   },
   {
    "duration": 30,
    "start_time": "2022-06-04T11:36:06.716Z"
   },
   {
    "duration": 4,
    "start_time": "2022-06-04T11:38:41.941Z"
   },
   {
    "duration": 14,
    "start_time": "2022-06-04T11:38:47.231Z"
   },
   {
    "duration": 7,
    "start_time": "2022-06-04T11:38:51.441Z"
   },
   {
    "duration": 11,
    "start_time": "2022-06-04T11:38:58.327Z"
   },
   {
    "duration": 108,
    "start_time": "2022-06-04T11:39:02.302Z"
   },
   {
    "duration": 1103,
    "start_time": "2022-06-04T11:39:08.317Z"
   },
   {
    "duration": 57,
    "start_time": "2022-06-04T11:39:19.229Z"
   },
   {
    "duration": 1003,
    "start_time": "2022-06-04T11:39:27.098Z"
   },
   {
    "duration": 64,
    "start_time": "2022-06-04T11:39:36.919Z"
   },
   {
    "duration": 59,
    "start_time": "2022-06-04T11:39:59.702Z"
   },
   {
    "duration": 60,
    "start_time": "2022-06-04T12:22:28.494Z"
   },
   {
    "duration": 166,
    "start_time": "2022-06-04T12:45:29.635Z"
   },
   {
    "duration": 5,
    "start_time": "2022-06-04T13:47:11.013Z"
   },
   {
    "duration": 14,
    "start_time": "2022-06-04T13:47:18.149Z"
   },
   {
    "duration": 14,
    "start_time": "2022-06-04T13:48:03.868Z"
   },
   {
    "duration": 30,
    "start_time": "2022-06-04T14:00:04.593Z"
   },
   {
    "duration": 177,
    "start_time": "2022-06-04T14:00:47.662Z"
   },
   {
    "duration": 24,
    "start_time": "2022-06-04T14:02:56.836Z"
   },
   {
    "duration": 9,
    "start_time": "2022-06-04T14:03:34.450Z"
   },
   {
    "duration": 2271,
    "start_time": "2022-06-04T14:05:26.456Z"
   },
   {
    "duration": 153,
    "start_time": "2022-06-04T14:05:28.731Z"
   },
   {
    "duration": 13,
    "start_time": "2022-06-04T14:05:28.886Z"
   },
   {
    "duration": 28,
    "start_time": "2022-06-04T14:05:28.902Z"
   },
   {
    "duration": 35,
    "start_time": "2022-06-04T14:05:28.932Z"
   },
   {
    "duration": 24,
    "start_time": "2022-06-04T14:05:28.968Z"
   },
   {
    "duration": 32,
    "start_time": "2022-06-04T14:05:28.994Z"
   },
   {
    "duration": 16,
    "start_time": "2022-06-04T14:05:29.028Z"
   },
   {
    "duration": 35,
    "start_time": "2022-06-04T14:05:29.045Z"
   },
   {
    "duration": 38,
    "start_time": "2022-06-04T14:05:29.083Z"
   },
   {
    "duration": 12,
    "start_time": "2022-06-04T14:05:29.124Z"
   },
   {
    "duration": 15,
    "start_time": "2022-06-04T14:05:29.138Z"
   },
   {
    "duration": 22,
    "start_time": "2022-06-04T14:05:29.156Z"
   },
   {
    "duration": 14,
    "start_time": "2022-06-04T14:05:29.181Z"
   },
   {
    "duration": 21,
    "start_time": "2022-06-04T14:05:29.197Z"
   },
   {
    "duration": 27,
    "start_time": "2022-06-04T14:05:29.220Z"
   },
   {
    "duration": 39,
    "start_time": "2022-06-04T14:05:29.249Z"
   },
   {
    "duration": 28,
    "start_time": "2022-06-04T14:05:29.290Z"
   },
   {
    "duration": 31,
    "start_time": "2022-06-04T14:05:29.319Z"
   },
   {
    "duration": 804,
    "start_time": "2022-06-04T14:05:29.366Z"
   },
   {
    "duration": 94,
    "start_time": "2022-06-04T14:05:30.172Z"
   },
   {
    "duration": 27,
    "start_time": "2022-06-04T14:05:30.268Z"
   },
   {
    "duration": 770,
    "start_time": "2022-06-04T14:05:30.297Z"
   },
   {
    "duration": 98,
    "start_time": "2022-06-04T14:05:31.069Z"
   },
   {
    "duration": 19,
    "start_time": "2022-06-04T14:05:31.169Z"
   },
   {
    "duration": 63,
    "start_time": "2022-06-04T14:05:31.190Z"
   },
   {
    "duration": 3,
    "start_time": "2022-06-04T14:05:31.255Z"
   },
   {
    "duration": 26,
    "start_time": "2022-06-04T14:05:31.262Z"
   },
   {
    "duration": 675,
    "start_time": "2022-06-04T14:05:31.290Z"
   },
   {
    "duration": 12,
    "start_time": "2022-06-04T14:05:31.969Z"
   },
   {
    "duration": 83,
    "start_time": "2022-06-04T14:05:31.983Z"
   },
   {
    "duration": 105,
    "start_time": "2022-06-04T14:05:32.068Z"
   },
   {
    "duration": 58,
    "start_time": "2022-06-04T14:05:32.174Z"
   },
   {
    "duration": 172,
    "start_time": "2022-06-04T14:05:32.234Z"
   },
   {
    "duration": 6,
    "start_time": "2022-06-04T14:05:32.408Z"
   },
   {
    "duration": 21,
    "start_time": "2022-06-04T14:05:32.416Z"
   },
   {
    "duration": 7,
    "start_time": "2022-06-04T14:05:32.439Z"
   },
   {
    "duration": 19,
    "start_time": "2022-06-04T14:05:32.448Z"
   },
   {
    "duration": 87,
    "start_time": "2022-06-04T14:05:32.469Z"
   },
   {
    "duration": 1008,
    "start_time": "2022-06-04T14:05:32.558Z"
   },
   {
    "duration": 140,
    "start_time": "2022-06-04T14:05:33.569Z"
   },
   {
    "duration": 997,
    "start_time": "2022-06-04T14:05:33.711Z"
   },
   {
    "duration": 58,
    "start_time": "2022-06-04T14:05:34.709Z"
   },
   {
    "duration": 206,
    "start_time": "2022-06-04T14:05:34.768Z"
   },
   {
    "duration": 0,
    "start_time": "2022-06-04T14:05:34.976Z"
   },
   {
    "duration": 0,
    "start_time": "2022-06-04T14:05:34.977Z"
   },
   {
    "duration": 0,
    "start_time": "2022-06-04T14:05:34.978Z"
   },
   {
    "duration": 57,
    "start_time": "2022-06-04T14:07:41.748Z"
   },
   {
    "duration": 28,
    "start_time": "2022-06-04T14:16:18.615Z"
   },
   {
    "duration": 30,
    "start_time": "2022-06-04T14:46:34.514Z"
   },
   {
    "duration": 1119,
    "start_time": "2022-06-04T14:47:34.821Z"
   },
   {
    "duration": 156,
    "start_time": "2022-06-04T14:47:35.943Z"
   },
   {
    "duration": 13,
    "start_time": "2022-06-04T14:47:36.100Z"
   },
   {
    "duration": 20,
    "start_time": "2022-06-04T14:47:36.114Z"
   },
   {
    "duration": 11,
    "start_time": "2022-06-04T14:47:36.136Z"
   },
   {
    "duration": 6,
    "start_time": "2022-06-04T14:47:36.149Z"
   },
   {
    "duration": 17,
    "start_time": "2022-06-04T14:47:36.157Z"
   },
   {
    "duration": 19,
    "start_time": "2022-06-04T14:47:36.175Z"
   },
   {
    "duration": 12,
    "start_time": "2022-06-04T14:47:36.196Z"
   },
   {
    "duration": 28,
    "start_time": "2022-06-04T14:47:36.209Z"
   },
   {
    "duration": 3,
    "start_time": "2022-06-04T14:47:36.239Z"
   },
   {
    "duration": 10,
    "start_time": "2022-06-04T14:47:36.243Z"
   },
   {
    "duration": 13,
    "start_time": "2022-06-04T14:47:36.254Z"
   },
   {
    "duration": 4,
    "start_time": "2022-06-04T14:47:36.270Z"
   },
   {
    "duration": 10,
    "start_time": "2022-06-04T14:47:36.275Z"
   },
   {
    "duration": 7,
    "start_time": "2022-06-04T14:47:36.287Z"
   },
   {
    "duration": 34,
    "start_time": "2022-06-04T14:47:36.296Z"
   },
   {
    "duration": 36,
    "start_time": "2022-06-04T14:47:36.331Z"
   },
   {
    "duration": 17,
    "start_time": "2022-06-04T14:47:36.368Z"
   },
   {
    "duration": 778,
    "start_time": "2022-06-04T14:47:36.387Z"
   },
   {
    "duration": 9,
    "start_time": "2022-06-04T14:47:37.167Z"
   },
   {
    "duration": 8,
    "start_time": "2022-06-04T14:47:37.265Z"
   },
   {
    "duration": 796,
    "start_time": "2022-06-04T14:47:37.274Z"
   },
   {
    "duration": 96,
    "start_time": "2022-06-04T14:47:38.073Z"
   },
   {
    "duration": 9,
    "start_time": "2022-06-04T14:47:38.171Z"
   },
   {
    "duration": 37,
    "start_time": "2022-06-04T14:47:38.182Z"
   },
   {
    "duration": 4,
    "start_time": "2022-06-04T14:47:38.220Z"
   },
   {
    "duration": 50,
    "start_time": "2022-06-04T14:47:38.225Z"
   },
   {
    "duration": 688,
    "start_time": "2022-06-04T14:47:38.276Z"
   },
   {
    "duration": 14,
    "start_time": "2022-06-04T14:47:38.966Z"
   },
   {
    "duration": 83,
    "start_time": "2022-06-04T14:47:38.982Z"
   },
   {
    "duration": 99,
    "start_time": "2022-06-04T14:47:39.067Z"
   },
   {
    "duration": 54,
    "start_time": "2022-06-04T14:47:39.168Z"
   },
   {
    "duration": 137,
    "start_time": "2022-06-04T14:47:39.224Z"
   },
   {
    "duration": 4,
    "start_time": "2022-06-04T14:47:39.364Z"
   },
   {
    "duration": 22,
    "start_time": "2022-06-04T14:47:39.370Z"
   },
   {
    "duration": 6,
    "start_time": "2022-06-04T14:47:39.394Z"
   },
   {
    "duration": 10,
    "start_time": "2022-06-04T14:47:39.402Z"
   },
   {
    "duration": 95,
    "start_time": "2022-06-04T14:47:39.414Z"
   },
   {
    "duration": 970,
    "start_time": "2022-06-04T14:47:39.510Z"
   },
   {
    "duration": 216,
    "start_time": "2022-06-04T14:47:40.485Z"
   },
   {
    "duration": 935,
    "start_time": "2022-06-04T14:47:40.702Z"
   },
   {
    "duration": 129,
    "start_time": "2022-06-04T14:47:41.638Z"
   },
   {
    "duration": 333,
    "start_time": "2022-06-04T14:47:41.769Z"
   },
   {
    "duration": 0,
    "start_time": "2022-06-04T14:47:42.104Z"
   },
   {
    "duration": 0,
    "start_time": "2022-06-04T14:47:42.105Z"
   },
   {
    "duration": 0,
    "start_time": "2022-06-04T14:47:42.106Z"
   },
   {
    "duration": 20,
    "start_time": "2022-06-04T14:49:46.828Z"
   },
   {
    "duration": 27,
    "start_time": "2022-06-04T14:52:22.497Z"
   },
   {
    "duration": 25,
    "start_time": "2022-06-04T14:52:30.951Z"
   },
   {
    "duration": 29,
    "start_time": "2022-06-04T14:55:00.734Z"
   },
   {
    "duration": 26,
    "start_time": "2022-06-04T14:55:16.430Z"
   },
   {
    "duration": 28,
    "start_time": "2022-06-04T14:55:37.420Z"
   },
   {
    "duration": 20,
    "start_time": "2022-06-04T14:55:54.518Z"
   },
   {
    "duration": 10,
    "start_time": "2022-06-04T14:56:01.620Z"
   },
   {
    "duration": 70,
    "start_time": "2022-06-04T14:56:16.521Z"
   },
   {
    "duration": 28,
    "start_time": "2022-06-04T14:58:26.070Z"
   },
   {
    "duration": 22,
    "start_time": "2022-06-04T14:59:09.298Z"
   },
   {
    "duration": 25,
    "start_time": "2022-06-04T15:17:38.110Z"
   },
   {
    "duration": 5,
    "start_time": "2022-06-04T15:18:26.610Z"
   },
   {
    "duration": 12,
    "start_time": "2022-06-04T15:20:01.997Z"
   },
   {
    "duration": 18,
    "start_time": "2022-06-04T15:20:43.121Z"
   },
   {
    "duration": 5,
    "start_time": "2022-06-04T15:21:49.885Z"
   },
   {
    "duration": 5,
    "start_time": "2022-06-04T15:22:27.777Z"
   },
   {
    "duration": 17,
    "start_time": "2022-06-04T15:22:32.185Z"
   },
   {
    "duration": 76,
    "start_time": "2022-06-04T15:23:33.005Z"
   },
   {
    "duration": 11,
    "start_time": "2022-06-04T15:24:17.632Z"
   },
   {
    "duration": 13,
    "start_time": "2022-06-04T15:24:26.885Z"
   },
   {
    "duration": 11,
    "start_time": "2022-06-04T15:24:34.085Z"
   },
   {
    "duration": 12,
    "start_time": "2022-06-04T15:24:42.119Z"
   },
   {
    "duration": 13,
    "start_time": "2022-06-04T15:25:04.201Z"
   },
   {
    "duration": 12,
    "start_time": "2022-06-04T15:25:19.197Z"
   },
   {
    "duration": 12,
    "start_time": "2022-06-04T15:25:28.816Z"
   },
   {
    "duration": 12,
    "start_time": "2022-06-04T15:25:36.329Z"
   },
   {
    "duration": 11,
    "start_time": "2022-06-04T15:25:56.633Z"
   },
   {
    "duration": 12,
    "start_time": "2022-06-04T15:26:03.089Z"
   },
   {
    "duration": 11,
    "start_time": "2022-06-04T15:26:12.901Z"
   },
   {
    "duration": 12,
    "start_time": "2022-06-04T15:26:20.117Z"
   },
   {
    "duration": 11,
    "start_time": "2022-06-04T15:26:27.885Z"
   },
   {
    "duration": 13,
    "start_time": "2022-06-04T15:26:36.573Z"
   },
   {
    "duration": 14,
    "start_time": "2022-06-04T15:26:42.869Z"
   },
   {
    "duration": 75,
    "start_time": "2022-06-04T15:26:52.288Z"
   },
   {
    "duration": 6,
    "start_time": "2022-06-04T15:31:04.211Z"
   },
   {
    "duration": 14,
    "start_time": "2022-06-04T15:31:08.189Z"
   },
   {
    "duration": 93,
    "start_time": "2022-06-04T15:31:11.281Z"
   },
   {
    "duration": 75,
    "start_time": "2022-06-04T15:36:33.073Z"
   },
   {
    "duration": 27,
    "start_time": "2022-06-04T15:38:51.733Z"
   },
   {
    "duration": 499,
    "start_time": "2022-06-04T15:52:57.158Z"
   },
   {
    "duration": 210,
    "start_time": "2022-06-04T15:54:17.270Z"
   },
   {
    "duration": 78,
    "start_time": "2022-06-04T15:55:25.970Z"
   },
   {
    "duration": 63,
    "start_time": "2022-06-04T15:56:26.595Z"
   },
   {
    "duration": 392,
    "start_time": "2022-06-04T16:03:06.402Z"
   },
   {
    "duration": 1002,
    "start_time": "2022-06-04T16:03:52.510Z"
   },
   {
    "duration": 73,
    "start_time": "2022-06-04T16:04:13.593Z"
   },
   {
    "duration": 1032,
    "start_time": "2022-06-04T16:09:37.889Z"
   },
   {
    "duration": 71,
    "start_time": "2022-06-04T16:09:56.581Z"
   },
   {
    "duration": 377,
    "start_time": "2022-06-04T16:11:08.168Z"
   },
   {
    "duration": 61,
    "start_time": "2022-06-04T16:11:54.577Z"
   },
   {
    "duration": 85,
    "start_time": "2022-06-04T16:12:19.028Z"
   },
   {
    "duration": 1260,
    "start_time": "2022-06-04T16:14:23.683Z"
   },
   {
    "duration": 138,
    "start_time": "2022-06-04T16:14:24.946Z"
   },
   {
    "duration": 12,
    "start_time": "2022-06-04T16:14:25.086Z"
   },
   {
    "duration": 12,
    "start_time": "2022-06-04T16:14:25.099Z"
   },
   {
    "duration": 17,
    "start_time": "2022-06-04T16:14:25.113Z"
   },
   {
    "duration": 5,
    "start_time": "2022-06-04T16:14:25.132Z"
   },
   {
    "duration": 39,
    "start_time": "2022-06-04T16:14:25.138Z"
   },
   {
    "duration": 14,
    "start_time": "2022-06-04T16:14:25.179Z"
   },
   {
    "duration": 8,
    "start_time": "2022-06-04T16:14:25.195Z"
   },
   {
    "duration": 20,
    "start_time": "2022-06-04T16:14:25.204Z"
   },
   {
    "duration": 4,
    "start_time": "2022-06-04T16:14:25.225Z"
   },
   {
    "duration": 10,
    "start_time": "2022-06-04T16:14:25.230Z"
   },
   {
    "duration": 25,
    "start_time": "2022-06-04T16:14:25.241Z"
   },
   {
    "duration": 5,
    "start_time": "2022-06-04T16:14:25.272Z"
   },
   {
    "duration": 13,
    "start_time": "2022-06-04T16:14:25.279Z"
   },
   {
    "duration": 7,
    "start_time": "2022-06-04T16:14:25.294Z"
   },
   {
    "duration": 24,
    "start_time": "2022-06-04T16:14:25.303Z"
   },
   {
    "duration": 48,
    "start_time": "2022-06-04T16:14:25.328Z"
   },
   {
    "duration": 20,
    "start_time": "2022-06-04T16:14:25.381Z"
   },
   {
    "duration": 681,
    "start_time": "2022-06-04T16:14:25.403Z"
   },
   {
    "duration": 86,
    "start_time": "2022-06-04T16:14:26.086Z"
   },
   {
    "duration": 111,
    "start_time": "2022-06-04T16:14:26.174Z"
   },
   {
    "duration": 680,
    "start_time": "2022-06-04T16:14:26.286Z"
   },
   {
    "duration": 8,
    "start_time": "2022-06-04T16:14:26.968Z"
   },
   {
    "duration": 96,
    "start_time": "2022-06-04T16:14:26.978Z"
   },
   {
    "duration": 40,
    "start_time": "2022-06-04T16:14:27.077Z"
   },
   {
    "duration": 4,
    "start_time": "2022-06-04T16:14:27.118Z"
   },
   {
    "duration": 15,
    "start_time": "2022-06-04T16:14:27.123Z"
   },
   {
    "duration": 647,
    "start_time": "2022-06-04T16:14:27.139Z"
   },
   {
    "duration": 10,
    "start_time": "2022-06-04T16:14:27.788Z"
   },
   {
    "duration": 74,
    "start_time": "2022-06-04T16:14:27.800Z"
   },
   {
    "duration": 96,
    "start_time": "2022-06-04T16:14:27.876Z"
   },
   {
    "duration": 64,
    "start_time": "2022-06-04T16:14:27.974Z"
   },
   {
    "duration": 162,
    "start_time": "2022-06-04T16:14:28.040Z"
   },
   {
    "duration": 5,
    "start_time": "2022-06-04T16:14:28.204Z"
   },
   {
    "duration": 19,
    "start_time": "2022-06-04T16:14:28.210Z"
   },
   {
    "duration": 6,
    "start_time": "2022-06-04T16:14:28.231Z"
   },
   {
    "duration": 26,
    "start_time": "2022-06-04T16:14:28.239Z"
   },
   {
    "duration": 81,
    "start_time": "2022-06-04T16:14:28.267Z"
   },
   {
    "duration": 17,
    "start_time": "2022-06-04T16:14:28.349Z"
   },
   {
    "duration": 20,
    "start_time": "2022-06-04T16:14:28.369Z"
   },
   {
    "duration": 98,
    "start_time": "2022-06-04T16:14:28.390Z"
   },
   {
    "duration": 918,
    "start_time": "2022-06-04T16:14:28.489Z"
   },
   {
    "duration": 133,
    "start_time": "2022-06-04T16:14:29.466Z"
   },
   {
    "duration": 21,
    "start_time": "2022-06-04T16:14:29.601Z"
   },
   {
    "duration": 917,
    "start_time": "2022-06-04T16:14:29.624Z"
   },
   {
    "duration": 390,
    "start_time": "2022-06-04T16:14:30.542Z"
   },
   {
    "duration": 53,
    "start_time": "2022-06-04T16:14:30.933Z"
   },
   {
    "duration": 194,
    "start_time": "2022-06-04T16:14:31.073Z"
   },
   {
    "duration": 166,
    "start_time": "2022-06-04T16:14:31.268Z"
   },
   {
    "duration": 202,
    "start_time": "2022-06-04T16:14:31.436Z"
   },
   {
    "duration": 1308,
    "start_time": "2022-06-04T16:36:42.455Z"
   },
   {
    "duration": 136,
    "start_time": "2022-06-04T16:36:43.768Z"
   },
   {
    "duration": 27,
    "start_time": "2022-06-04T16:36:43.907Z"
   },
   {
    "duration": 35,
    "start_time": "2022-06-04T16:36:43.937Z"
   },
   {
    "duration": 12,
    "start_time": "2022-06-04T16:36:43.974Z"
   },
   {
    "duration": 13,
    "start_time": "2022-06-04T16:36:43.988Z"
   },
   {
    "duration": 24,
    "start_time": "2022-06-04T16:36:44.004Z"
   },
   {
    "duration": 8,
    "start_time": "2022-06-04T16:36:44.031Z"
   },
   {
    "duration": 7,
    "start_time": "2022-06-04T16:36:44.065Z"
   },
   {
    "duration": 26,
    "start_time": "2022-06-04T16:36:44.075Z"
   },
   {
    "duration": 5,
    "start_time": "2022-06-04T16:36:44.104Z"
   },
   {
    "duration": 24,
    "start_time": "2022-06-04T16:36:44.111Z"
   },
   {
    "duration": 30,
    "start_time": "2022-06-04T16:36:44.137Z"
   },
   {
    "duration": 24,
    "start_time": "2022-06-04T16:36:44.170Z"
   },
   {
    "duration": 17,
    "start_time": "2022-06-04T16:36:44.197Z"
   },
   {
    "duration": 17,
    "start_time": "2022-06-04T16:36:44.217Z"
   },
   {
    "duration": 52,
    "start_time": "2022-06-04T16:36:44.237Z"
   },
   {
    "duration": 24,
    "start_time": "2022-06-04T16:36:44.291Z"
   },
   {
    "duration": 57,
    "start_time": "2022-06-04T16:36:44.317Z"
   },
   {
    "duration": 751,
    "start_time": "2022-06-04T16:36:44.377Z"
   },
   {
    "duration": 10,
    "start_time": "2022-06-04T16:36:45.169Z"
   },
   {
    "duration": 87,
    "start_time": "2022-06-04T16:36:45.182Z"
   },
   {
    "duration": 696,
    "start_time": "2022-06-04T16:36:45.271Z"
   },
   {
    "duration": 12,
    "start_time": "2022-06-04T16:36:45.972Z"
   },
   {
    "duration": 6,
    "start_time": "2022-06-04T16:36:46.065Z"
   },
   {
    "duration": 44,
    "start_time": "2022-06-04T16:36:46.074Z"
   },
   {
    "duration": 48,
    "start_time": "2022-06-04T16:36:46.121Z"
   },
   {
    "duration": 20,
    "start_time": "2022-06-04T16:36:46.176Z"
   },
   {
    "duration": 676,
    "start_time": "2022-06-04T16:36:46.198Z"
   },
   {
    "duration": 13,
    "start_time": "2022-06-04T16:36:46.876Z"
   },
   {
    "duration": 78,
    "start_time": "2022-06-04T16:36:46.891Z"
   },
   {
    "duration": 94,
    "start_time": "2022-06-04T16:36:46.971Z"
   },
   {
    "duration": 79,
    "start_time": "2022-06-04T16:36:47.067Z"
   },
   {
    "duration": 160,
    "start_time": "2022-06-04T16:36:47.148Z"
   },
   {
    "duration": 6,
    "start_time": "2022-06-04T16:36:47.310Z"
   },
   {
    "duration": 29,
    "start_time": "2022-06-04T16:36:47.319Z"
   },
   {
    "duration": 20,
    "start_time": "2022-06-04T16:36:47.351Z"
   },
   {
    "duration": 18,
    "start_time": "2022-06-04T16:36:47.374Z"
   },
   {
    "duration": 120,
    "start_time": "2022-06-04T16:36:47.394Z"
   },
   {
    "duration": 7,
    "start_time": "2022-06-04T16:36:47.516Z"
   },
   {
    "duration": 22,
    "start_time": "2022-06-04T16:36:47.524Z"
   },
   {
    "duration": 121,
    "start_time": "2022-06-04T16:36:47.548Z"
   },
   {
    "duration": 1000,
    "start_time": "2022-06-04T16:36:47.671Z"
   },
   {
    "duration": 133,
    "start_time": "2022-06-04T16:36:48.676Z"
   },
   {
    "duration": 30,
    "start_time": "2022-06-04T16:36:48.811Z"
   },
   {
    "duration": 962,
    "start_time": "2022-06-04T16:36:48.865Z"
   },
   {
    "duration": 384,
    "start_time": "2022-06-04T16:36:49.829Z"
   },
   {
    "duration": 165,
    "start_time": "2022-06-04T16:36:50.215Z"
   },
   {
    "duration": 192,
    "start_time": "2022-06-04T16:36:50.383Z"
   },
   {
    "duration": 144,
    "start_time": "2022-06-04T16:36:50.578Z"
   },
   {
    "duration": 224,
    "start_time": "2022-06-04T16:36:50.724Z"
   },
   {
    "duration": 1497,
    "start_time": "2022-06-05T06:40:54.181Z"
   },
   {
    "duration": 205,
    "start_time": "2022-06-05T06:40:55.684Z"
   },
   {
    "duration": 18,
    "start_time": "2022-06-05T06:40:55.891Z"
   },
   {
    "duration": 19,
    "start_time": "2022-06-05T06:40:55.911Z"
   },
   {
    "duration": 30,
    "start_time": "2022-06-05T06:40:55.932Z"
   },
   {
    "duration": 10,
    "start_time": "2022-06-05T06:40:55.964Z"
   },
   {
    "duration": 35,
    "start_time": "2022-06-05T06:40:55.976Z"
   },
   {
    "duration": 7,
    "start_time": "2022-06-05T06:40:56.013Z"
   },
   {
    "duration": 8,
    "start_time": "2022-06-05T06:40:56.021Z"
   },
   {
    "duration": 32,
    "start_time": "2022-06-05T06:40:56.031Z"
   },
   {
    "duration": 5,
    "start_time": "2022-06-05T06:40:56.065Z"
   },
   {
    "duration": 18,
    "start_time": "2022-06-05T06:40:56.071Z"
   },
   {
    "duration": 12,
    "start_time": "2022-06-05T06:40:56.091Z"
   },
   {
    "duration": 10,
    "start_time": "2022-06-05T06:40:56.104Z"
   },
   {
    "duration": 14,
    "start_time": "2022-06-05T06:40:56.116Z"
   },
   {
    "duration": 32,
    "start_time": "2022-06-05T06:40:56.132Z"
   },
   {
    "duration": 31,
    "start_time": "2022-06-05T06:40:56.166Z"
   },
   {
    "duration": 28,
    "start_time": "2022-06-05T06:40:56.199Z"
   },
   {
    "duration": 50,
    "start_time": "2022-06-05T06:40:56.230Z"
   },
   {
    "duration": 777,
    "start_time": "2022-06-05T06:40:56.282Z"
   },
   {
    "duration": 15,
    "start_time": "2022-06-05T06:40:57.062Z"
   },
   {
    "duration": 110,
    "start_time": "2022-06-05T06:40:57.081Z"
   },
   {
    "duration": 777,
    "start_time": "2022-06-05T06:40:57.193Z"
   },
   {
    "duration": 88,
    "start_time": "2022-06-05T06:40:57.978Z"
   },
   {
    "duration": 40,
    "start_time": "2022-06-05T06:40:58.068Z"
   },
   {
    "duration": 66,
    "start_time": "2022-06-05T06:40:58.111Z"
   },
   {
    "duration": 4,
    "start_time": "2022-06-05T06:40:58.179Z"
   },
   {
    "duration": 29,
    "start_time": "2022-06-05T06:40:58.188Z"
   },
   {
    "duration": 700,
    "start_time": "2022-06-05T06:40:58.219Z"
   },
   {
    "duration": 12,
    "start_time": "2022-06-05T06:40:58.921Z"
   },
   {
    "duration": 146,
    "start_time": "2022-06-05T06:40:58.935Z"
   },
   {
    "duration": 0,
    "start_time": "2022-06-05T06:40:59.084Z"
   },
   {
    "duration": 0,
    "start_time": "2022-06-05T06:40:59.085Z"
   },
   {
    "duration": 0,
    "start_time": "2022-06-05T06:40:59.087Z"
   },
   {
    "duration": 0,
    "start_time": "2022-06-05T06:40:59.089Z"
   },
   {
    "duration": 0,
    "start_time": "2022-06-05T06:40:59.090Z"
   },
   {
    "duration": 0,
    "start_time": "2022-06-05T06:40:59.091Z"
   },
   {
    "duration": 0,
    "start_time": "2022-06-05T06:40:59.092Z"
   },
   {
    "duration": 0,
    "start_time": "2022-06-05T06:40:59.094Z"
   },
   {
    "duration": 0,
    "start_time": "2022-06-05T06:40:59.096Z"
   },
   {
    "duration": 0,
    "start_time": "2022-06-05T06:40:59.097Z"
   },
   {
    "duration": 0,
    "start_time": "2022-06-05T06:40:59.099Z"
   },
   {
    "duration": 0,
    "start_time": "2022-06-05T06:40:59.100Z"
   },
   {
    "duration": 0,
    "start_time": "2022-06-05T06:40:59.102Z"
   },
   {
    "duration": 0,
    "start_time": "2022-06-05T06:40:59.104Z"
   },
   {
    "duration": 0,
    "start_time": "2022-06-05T06:40:59.106Z"
   },
   {
    "duration": 0,
    "start_time": "2022-06-05T06:40:59.107Z"
   },
   {
    "duration": 0,
    "start_time": "2022-06-05T06:40:59.109Z"
   },
   {
    "duration": 0,
    "start_time": "2022-06-05T06:40:59.111Z"
   },
   {
    "duration": 0,
    "start_time": "2022-06-05T06:40:59.112Z"
   },
   {
    "duration": 0,
    "start_time": "2022-06-05T06:40:59.113Z"
   },
   {
    "duration": 0,
    "start_time": "2022-06-05T06:40:59.159Z"
   },
   {
    "duration": 1236,
    "start_time": "2022-06-05T06:45:09.333Z"
   },
   {
    "duration": 131,
    "start_time": "2022-06-05T06:45:10.572Z"
   },
   {
    "duration": 17,
    "start_time": "2022-06-05T06:45:10.705Z"
   },
   {
    "duration": 17,
    "start_time": "2022-06-05T06:45:10.725Z"
   },
   {
    "duration": 18,
    "start_time": "2022-06-05T06:45:10.768Z"
   },
   {
    "duration": 11,
    "start_time": "2022-06-05T06:45:10.788Z"
   },
   {
    "duration": 36,
    "start_time": "2022-06-05T06:45:10.801Z"
   },
   {
    "duration": 9,
    "start_time": "2022-06-05T06:45:10.839Z"
   },
   {
    "duration": 29,
    "start_time": "2022-06-05T06:45:10.849Z"
   },
   {
    "duration": 22,
    "start_time": "2022-06-05T06:45:10.881Z"
   },
   {
    "duration": 5,
    "start_time": "2022-06-05T06:45:10.904Z"
   },
   {
    "duration": 26,
    "start_time": "2022-06-05T06:45:10.911Z"
   },
   {
    "duration": 13,
    "start_time": "2022-06-05T06:45:10.939Z"
   },
   {
    "duration": 30,
    "start_time": "2022-06-05T06:45:10.954Z"
   },
   {
    "duration": 20,
    "start_time": "2022-06-05T06:45:10.986Z"
   },
   {
    "duration": 10,
    "start_time": "2022-06-05T06:45:11.009Z"
   },
   {
    "duration": 29,
    "start_time": "2022-06-05T06:45:11.021Z"
   },
   {
    "duration": 29,
    "start_time": "2022-06-05T06:45:11.052Z"
   },
   {
    "duration": 37,
    "start_time": "2022-06-05T06:45:11.083Z"
   },
   {
    "duration": 744,
    "start_time": "2022-06-05T06:45:11.122Z"
   },
   {
    "duration": 9,
    "start_time": "2022-06-05T06:45:11.869Z"
   },
   {
    "duration": 104,
    "start_time": "2022-06-05T06:45:11.880Z"
   },
   {
    "duration": 716,
    "start_time": "2022-06-05T06:45:11.987Z"
   },
   {
    "duration": 63,
    "start_time": "2022-06-05T06:45:12.706Z"
   },
   {
    "duration": 123,
    "start_time": "2022-06-05T06:45:12.771Z"
   },
   {
    "duration": 34,
    "start_time": "2022-06-05T06:45:12.896Z"
   },
   {
    "duration": 6,
    "start_time": "2022-06-05T06:45:12.932Z"
   },
   {
    "duration": 15,
    "start_time": "2022-06-05T06:45:12.943Z"
   },
   {
    "duration": 763,
    "start_time": "2022-06-05T06:45:12.961Z"
   },
   {
    "duration": 19,
    "start_time": "2022-06-05T06:45:13.726Z"
   },
   {
    "duration": 26,
    "start_time": "2022-06-05T06:45:13.747Z"
   },
   {
    "duration": 2937,
    "start_time": "2022-06-05T06:45:13.775Z"
   },
   {
    "duration": 32,
    "start_time": "2022-06-05T06:45:16.714Z"
   },
   {
    "duration": 352,
    "start_time": "2022-06-05T06:45:16.748Z"
   },
   {
    "duration": 1441,
    "start_time": "2022-06-05T06:45:17.102Z"
   },
   {
    "duration": 127,
    "start_time": "2022-06-05T06:45:18.545Z"
   },
   {
    "duration": 101,
    "start_time": "2022-06-05T06:45:18.677Z"
   },
   {
    "duration": 75,
    "start_time": "2022-06-05T06:45:18.781Z"
   },
   {
    "duration": 157,
    "start_time": "2022-06-05T06:45:18.860Z"
   },
   {
    "duration": 6,
    "start_time": "2022-06-05T06:45:19.018Z"
   },
   {
    "duration": 17,
    "start_time": "2022-06-05T06:45:19.025Z"
   },
   {
    "duration": 21,
    "start_time": "2022-06-05T06:45:19.044Z"
   },
   {
    "duration": 33,
    "start_time": "2022-06-05T06:45:19.067Z"
   },
   {
    "duration": 95,
    "start_time": "2022-06-05T06:45:19.103Z"
   },
   {
    "duration": 6,
    "start_time": "2022-06-05T06:45:19.200Z"
   },
   {
    "duration": 14,
    "start_time": "2022-06-05T06:45:19.208Z"
   },
   {
    "duration": 101,
    "start_time": "2022-06-05T06:45:19.223Z"
   },
   {
    "duration": 964,
    "start_time": "2022-06-05T06:45:19.327Z"
   },
   {
    "duration": 151,
    "start_time": "2022-06-05T06:45:20.363Z"
   },
   {
    "duration": 27,
    "start_time": "2022-06-05T06:45:20.516Z"
   },
   {
    "duration": 948,
    "start_time": "2022-06-05T06:45:20.546Z"
   },
   {
    "duration": 402,
    "start_time": "2022-06-05T06:45:21.495Z"
   },
   {
    "duration": 176,
    "start_time": "2022-06-05T06:45:21.899Z"
   },
   {
    "duration": 105,
    "start_time": "2022-06-05T06:45:22.078Z"
   },
   {
    "duration": 147,
    "start_time": "2022-06-05T06:45:22.189Z"
   },
   {
    "duration": 216,
    "start_time": "2022-06-05T06:45:22.338Z"
   },
   {
    "duration": 35,
    "start_time": "2022-06-05T06:50:18.993Z"
   },
   {
    "duration": 77,
    "start_time": "2022-06-05T06:50:24.682Z"
   },
   {
    "duration": 12,
    "start_time": "2022-06-05T06:52:09.145Z"
   },
   {
    "duration": 337,
    "start_time": "2022-06-05T06:52:49.983Z"
   },
   {
    "duration": 1501,
    "start_time": "2022-06-05T06:54:02.346Z"
   },
   {
    "duration": 844,
    "start_time": "2022-06-05T06:54:20.120Z"
   },
   {
    "duration": 1530,
    "start_time": "2022-06-05T06:54:40.115Z"
   },
   {
    "duration": 1491,
    "start_time": "2022-06-05T06:58:07.922Z"
   },
   {
    "duration": 185,
    "start_time": "2022-06-05T07:00:26.617Z"
   },
   {
    "duration": 348,
    "start_time": "2022-06-05T07:00:32.150Z"
   },
   {
    "duration": 1537,
    "start_time": "2022-06-05T07:00:38.836Z"
   },
   {
    "duration": 26,
    "start_time": "2022-06-05T07:05:48.606Z"
   },
   {
    "duration": 134,
    "start_time": "2022-06-05T07:11:06.555Z"
   },
   {
    "duration": 9,
    "start_time": "2022-06-05T07:11:20.117Z"
   },
   {
    "duration": 6,
    "start_time": "2022-06-05T07:11:34.819Z"
   },
   {
    "duration": 66,
    "start_time": "2022-06-05T07:11:47.376Z"
   },
   {
    "duration": 16,
    "start_time": "2022-06-05T07:11:54.401Z"
   },
   {
    "duration": 18,
    "start_time": "2022-06-05T07:12:34.758Z"
   },
   {
    "duration": 10,
    "start_time": "2022-06-05T07:22:59.279Z"
   },
   {
    "duration": 1309,
    "start_time": "2022-06-05T07:23:07.088Z"
   },
   {
    "duration": 149,
    "start_time": "2022-06-05T07:23:08.401Z"
   },
   {
    "duration": 19,
    "start_time": "2022-06-05T07:23:08.559Z"
   },
   {
    "duration": 15,
    "start_time": "2022-06-05T07:23:08.580Z"
   },
   {
    "duration": 11,
    "start_time": "2022-06-05T07:23:08.597Z"
   },
   {
    "duration": 6,
    "start_time": "2022-06-05T07:23:08.609Z"
   },
   {
    "duration": 44,
    "start_time": "2022-06-05T07:23:08.616Z"
   },
   {
    "duration": 5,
    "start_time": "2022-06-05T07:23:08.662Z"
   },
   {
    "duration": 19,
    "start_time": "2022-06-05T07:23:08.668Z"
   },
   {
    "duration": 28,
    "start_time": "2022-06-05T07:23:08.689Z"
   },
   {
    "duration": 4,
    "start_time": "2022-06-05T07:23:08.719Z"
   },
   {
    "duration": 7,
    "start_time": "2022-06-05T07:23:08.725Z"
   },
   {
    "duration": 41,
    "start_time": "2022-06-05T07:23:08.733Z"
   },
   {
    "duration": 24,
    "start_time": "2022-06-05T07:23:08.779Z"
   },
   {
    "duration": 13,
    "start_time": "2022-06-05T07:23:08.805Z"
   },
   {
    "duration": 10,
    "start_time": "2022-06-05T07:23:08.820Z"
   },
   {
    "duration": 53,
    "start_time": "2022-06-05T07:23:08.832Z"
   },
   {
    "duration": 20,
    "start_time": "2022-06-05T07:23:08.887Z"
   },
   {
    "duration": 20,
    "start_time": "2022-06-05T07:23:08.909Z"
   },
   {
    "duration": 720,
    "start_time": "2022-06-05T07:23:08.958Z"
   },
   {
    "duration": 10,
    "start_time": "2022-06-05T07:23:09.679Z"
   },
   {
    "duration": 175,
    "start_time": "2022-06-05T07:23:09.690Z"
   },
   {
    "duration": 693,
    "start_time": "2022-06-05T07:23:09.867Z"
   },
   {
    "duration": 6,
    "start_time": "2022-06-05T07:23:10.562Z"
   },
   {
    "duration": 126,
    "start_time": "2022-06-05T07:23:10.570Z"
   },
   {
    "duration": 67,
    "start_time": "2022-06-05T07:23:10.698Z"
   },
   {
    "duration": 5,
    "start_time": "2022-06-05T07:23:10.767Z"
   },
   {
    "duration": 32,
    "start_time": "2022-06-05T07:23:10.773Z"
   },
   {
    "duration": 690,
    "start_time": "2022-06-05T07:23:10.807Z"
   },
   {
    "duration": 13,
    "start_time": "2022-06-05T07:23:11.498Z"
   },
   {
    "duration": 72,
    "start_time": "2022-06-05T07:23:11.513Z"
   },
   {
    "duration": 2857,
    "start_time": "2022-06-05T07:23:11.660Z"
   },
   {
    "duration": 61,
    "start_time": "2022-06-05T07:23:14.519Z"
   },
   {
    "duration": 375,
    "start_time": "2022-06-05T07:23:14.582Z"
   },
   {
    "duration": 1539,
    "start_time": "2022-06-05T07:23:14.960Z"
   },
   {
    "duration": 3,
    "start_time": "2022-06-05T07:23:16.501Z"
   },
   {
    "duration": 9,
    "start_time": "2022-06-05T07:23:16.506Z"
   },
   {
    "duration": 107482,
    "start_time": "2022-06-05T07:23:16.516Z"
   },
   {
    "duration": 0,
    "start_time": "2022-06-05T07:25:04.001Z"
   },
   {
    "duration": 0,
    "start_time": "2022-06-05T07:25:04.002Z"
   },
   {
    "duration": 0,
    "start_time": "2022-06-05T07:25:04.004Z"
   },
   {
    "duration": 0,
    "start_time": "2022-06-05T07:25:04.005Z"
   },
   {
    "duration": 0,
    "start_time": "2022-06-05T07:25:04.009Z"
   },
   {
    "duration": 0,
    "start_time": "2022-06-05T07:25:04.010Z"
   },
   {
    "duration": 0,
    "start_time": "2022-06-05T07:25:04.011Z"
   },
   {
    "duration": 0,
    "start_time": "2022-06-05T07:25:04.012Z"
   },
   {
    "duration": 0,
    "start_time": "2022-06-05T07:25:04.014Z"
   },
   {
    "duration": 0,
    "start_time": "2022-06-05T07:25:04.015Z"
   },
   {
    "duration": 0,
    "start_time": "2022-06-05T07:25:04.017Z"
   },
   {
    "duration": 1,
    "start_time": "2022-06-05T07:25:04.018Z"
   },
   {
    "duration": 0,
    "start_time": "2022-06-05T07:25:04.020Z"
   },
   {
    "duration": 0,
    "start_time": "2022-06-05T07:25:04.022Z"
   },
   {
    "duration": 0,
    "start_time": "2022-06-05T07:25:04.023Z"
   },
   {
    "duration": 0,
    "start_time": "2022-06-05T07:25:04.024Z"
   },
   {
    "duration": 0,
    "start_time": "2022-06-05T07:25:04.026Z"
   },
   {
    "duration": 0,
    "start_time": "2022-06-05T07:25:04.027Z"
   },
   {
    "duration": 0,
    "start_time": "2022-06-05T07:25:04.028Z"
   },
   {
    "duration": 0,
    "start_time": "2022-06-05T07:25:04.030Z"
   },
   {
    "duration": 0,
    "start_time": "2022-06-05T07:25:04.031Z"
   },
   {
    "duration": 0,
    "start_time": "2022-06-05T07:25:04.032Z"
   },
   {
    "duration": 2,
    "start_time": "2022-06-05T07:27:24.492Z"
   },
   {
    "duration": 3,
    "start_time": "2022-06-05T07:27:28.485Z"
   },
   {
    "duration": 77,
    "start_time": "2022-06-05T11:21:33.780Z"
   },
   {
    "duration": 1717,
    "start_time": "2022-06-05T11:21:50.653Z"
   },
   {
    "duration": 204,
    "start_time": "2022-06-05T11:21:52.374Z"
   },
   {
    "duration": 16,
    "start_time": "2022-06-05T11:21:52.580Z"
   },
   {
    "duration": 13,
    "start_time": "2022-06-05T11:21:52.598Z"
   },
   {
    "duration": 18,
    "start_time": "2022-06-05T11:21:52.613Z"
   },
   {
    "duration": 27,
    "start_time": "2022-06-05T11:21:52.632Z"
   },
   {
    "duration": 18,
    "start_time": "2022-06-05T11:21:52.661Z"
   },
   {
    "duration": 8,
    "start_time": "2022-06-05T11:21:52.681Z"
   },
   {
    "duration": 15,
    "start_time": "2022-06-05T11:21:52.691Z"
   },
   {
    "duration": 26,
    "start_time": "2022-06-05T11:21:52.709Z"
   },
   {
    "duration": 5,
    "start_time": "2022-06-05T11:21:52.737Z"
   },
   {
    "duration": 30,
    "start_time": "2022-06-05T11:21:52.744Z"
   },
   {
    "duration": 13,
    "start_time": "2022-06-05T11:21:52.776Z"
   },
   {
    "duration": 8,
    "start_time": "2022-06-05T11:21:52.791Z"
   },
   {
    "duration": 17,
    "start_time": "2022-06-05T11:21:52.801Z"
   },
   {
    "duration": 25,
    "start_time": "2022-06-05T11:21:52.820Z"
   },
   {
    "duration": 77,
    "start_time": "2022-06-05T11:21:52.852Z"
   },
   {
    "duration": 43,
    "start_time": "2022-06-05T11:21:52.936Z"
   },
   {
    "duration": 34,
    "start_time": "2022-06-05T11:21:52.981Z"
   },
   {
    "duration": 719,
    "start_time": "2022-06-05T11:21:53.018Z"
   },
   {
    "duration": 10,
    "start_time": "2022-06-05T11:21:53.742Z"
   },
   {
    "duration": 78,
    "start_time": "2022-06-05T11:21:53.758Z"
   },
   {
    "duration": 715,
    "start_time": "2022-06-05T11:21:53.838Z"
   },
   {
    "duration": 8,
    "start_time": "2022-06-05T11:21:54.558Z"
   },
   {
    "duration": 121,
    "start_time": "2022-06-05T11:21:54.632Z"
   },
   {
    "duration": 39,
    "start_time": "2022-06-05T11:21:54.755Z"
   },
   {
    "duration": 5,
    "start_time": "2022-06-05T11:21:54.795Z"
   },
   {
    "duration": 17,
    "start_time": "2022-06-05T11:21:54.805Z"
   },
   {
    "duration": 638,
    "start_time": "2022-06-05T11:21:54.824Z"
   },
   {
    "duration": 13,
    "start_time": "2022-06-05T11:21:55.465Z"
   },
   {
    "duration": 70,
    "start_time": "2022-06-05T11:21:55.479Z"
   },
   {
    "duration": 2914,
    "start_time": "2022-06-05T11:21:55.551Z"
   },
   {
    "duration": 39,
    "start_time": "2022-06-05T11:21:58.467Z"
   },
   {
    "duration": 316,
    "start_time": "2022-06-05T11:21:58.508Z"
   },
   {
    "duration": 1410,
    "start_time": "2022-06-05T11:21:58.827Z"
   },
   {
    "duration": 4,
    "start_time": "2022-06-05T11:22:00.244Z"
   },
   {
    "duration": 34,
    "start_time": "2022-06-05T11:22:00.250Z"
   },
   {
    "duration": 907790,
    "start_time": "2022-06-05T11:22:00.286Z"
   },
   {
    "duration": 0,
    "start_time": "2022-06-05T11:37:08.077Z"
   },
   {
    "duration": 0,
    "start_time": "2022-06-05T11:37:08.079Z"
   },
   {
    "duration": 0,
    "start_time": "2022-06-05T11:37:08.080Z"
   },
   {
    "duration": 0,
    "start_time": "2022-06-05T11:37:08.081Z"
   },
   {
    "duration": 0,
    "start_time": "2022-06-05T11:37:08.082Z"
   },
   {
    "duration": 0,
    "start_time": "2022-06-05T11:37:08.083Z"
   },
   {
    "duration": 0,
    "start_time": "2022-06-05T11:37:08.084Z"
   },
   {
    "duration": 0,
    "start_time": "2022-06-05T11:37:08.086Z"
   },
   {
    "duration": 0,
    "start_time": "2022-06-05T11:37:08.087Z"
   },
   {
    "duration": 0,
    "start_time": "2022-06-05T11:37:08.088Z"
   },
   {
    "duration": 0,
    "start_time": "2022-06-05T11:37:08.089Z"
   },
   {
    "duration": 0,
    "start_time": "2022-06-05T11:37:08.090Z"
   },
   {
    "duration": 0,
    "start_time": "2022-06-05T11:37:08.091Z"
   },
   {
    "duration": 0,
    "start_time": "2022-06-05T11:37:08.092Z"
   },
   {
    "duration": 0,
    "start_time": "2022-06-05T11:37:08.093Z"
   },
   {
    "duration": 0,
    "start_time": "2022-06-05T11:37:08.094Z"
   },
   {
    "duration": 0,
    "start_time": "2022-06-05T11:37:08.095Z"
   },
   {
    "duration": 0,
    "start_time": "2022-06-05T11:37:08.096Z"
   },
   {
    "duration": 0,
    "start_time": "2022-06-05T11:37:08.097Z"
   },
   {
    "duration": 0,
    "start_time": "2022-06-05T11:37:08.098Z"
   },
   {
    "duration": 0,
    "start_time": "2022-06-05T11:37:08.099Z"
   },
   {
    "duration": 0,
    "start_time": "2022-06-05T11:37:08.100Z"
   },
   {
    "duration": 1221,
    "start_time": "2022-06-05T11:37:20.056Z"
   },
   {
    "duration": 126,
    "start_time": "2022-06-05T11:37:21.281Z"
   },
   {
    "duration": 25,
    "start_time": "2022-06-05T11:37:21.409Z"
   },
   {
    "duration": 21,
    "start_time": "2022-06-05T11:37:21.440Z"
   },
   {
    "duration": 18,
    "start_time": "2022-06-05T11:37:21.463Z"
   },
   {
    "duration": 6,
    "start_time": "2022-06-05T11:37:21.482Z"
   },
   {
    "duration": 16,
    "start_time": "2022-06-05T11:37:21.490Z"
   },
   {
    "duration": 6,
    "start_time": "2022-06-05T11:37:21.508Z"
   },
   {
    "duration": 21,
    "start_time": "2022-06-05T11:37:21.515Z"
   },
   {
    "duration": 53,
    "start_time": "2022-06-05T11:37:21.538Z"
   },
   {
    "duration": 4,
    "start_time": "2022-06-05T11:37:21.593Z"
   },
   {
    "duration": 13,
    "start_time": "2022-06-05T11:37:21.599Z"
   },
   {
    "duration": 14,
    "start_time": "2022-06-05T11:37:21.614Z"
   },
   {
    "duration": 37,
    "start_time": "2022-06-05T11:37:21.631Z"
   },
   {
    "duration": 16,
    "start_time": "2022-06-05T11:37:21.670Z"
   },
   {
    "duration": 10,
    "start_time": "2022-06-05T11:37:21.688Z"
   },
   {
    "duration": 25,
    "start_time": "2022-06-05T11:37:21.699Z"
   },
   {
    "duration": 35,
    "start_time": "2022-06-05T11:37:21.725Z"
   },
   {
    "duration": 29,
    "start_time": "2022-06-05T11:37:21.765Z"
   },
   {
    "duration": 674,
    "start_time": "2022-06-05T11:37:21.796Z"
   },
   {
    "duration": 62,
    "start_time": "2022-06-05T11:37:22.472Z"
   },
   {
    "duration": 139,
    "start_time": "2022-06-05T11:37:22.535Z"
   },
   {
    "duration": 696,
    "start_time": "2022-06-05T11:37:22.676Z"
   },
   {
    "duration": 70,
    "start_time": "2022-06-05T11:37:23.375Z"
   },
   {
    "duration": 123,
    "start_time": "2022-06-05T11:37:23.447Z"
   },
   {
    "duration": 50,
    "start_time": "2022-06-05T11:37:23.571Z"
   },
   {
    "duration": 5,
    "start_time": "2022-06-05T11:37:23.623Z"
   },
   {
    "duration": 58,
    "start_time": "2022-06-05T11:37:23.630Z"
   },
   {
    "duration": 662,
    "start_time": "2022-06-05T11:37:23.689Z"
   },
   {
    "duration": 17,
    "start_time": "2022-06-05T11:37:24.358Z"
   },
   {
    "duration": 68,
    "start_time": "2022-06-05T11:37:24.377Z"
   },
   {
    "duration": 2817,
    "start_time": "2022-06-05T11:37:24.446Z"
   },
   {
    "duration": 41,
    "start_time": "2022-06-05T11:37:27.265Z"
   },
   {
    "duration": 321,
    "start_time": "2022-06-05T11:37:27.308Z"
   },
   {
    "duration": 1446,
    "start_time": "2022-06-05T11:37:27.631Z"
   },
   {
    "duration": 3,
    "start_time": "2022-06-05T11:37:29.078Z"
   },
   {
    "duration": 12,
    "start_time": "2022-06-05T11:37:29.082Z"
   },
   {
    "duration": 6,
    "start_time": "2022-06-05T11:37:29.096Z"
   },
   {
    "duration": 56,
    "start_time": "2022-06-05T11:37:29.104Z"
   },
   {
    "duration": 97,
    "start_time": "2022-06-05T11:37:29.162Z"
   },
   {
    "duration": 112,
    "start_time": "2022-06-05T11:37:29.268Z"
   },
   {
    "duration": 136,
    "start_time": "2022-06-05T11:37:29.382Z"
   },
   {
    "duration": 13,
    "start_time": "2022-06-05T11:37:29.520Z"
   },
   {
    "duration": 37,
    "start_time": "2022-06-05T11:37:29.542Z"
   },
   {
    "duration": 8,
    "start_time": "2022-06-05T11:37:29.581Z"
   },
   {
    "duration": 12,
    "start_time": "2022-06-05T11:37:29.591Z"
   },
   {
    "duration": 91,
    "start_time": "2022-06-05T11:37:29.605Z"
   },
   {
    "duration": 5,
    "start_time": "2022-06-05T11:37:29.699Z"
   },
   {
    "duration": 25,
    "start_time": "2022-06-05T11:37:29.706Z"
   },
   {
    "duration": 77,
    "start_time": "2022-06-05T11:37:29.738Z"
   },
   {
    "duration": 936,
    "start_time": "2022-06-05T11:37:29.817Z"
   },
   {
    "duration": 205,
    "start_time": "2022-06-05T11:37:30.755Z"
   },
   {
    "duration": 35,
    "start_time": "2022-06-05T11:37:30.965Z"
   },
   {
    "duration": 874,
    "start_time": "2022-06-05T11:37:31.001Z"
   },
   {
    "duration": 388,
    "start_time": "2022-06-05T11:37:31.878Z"
   },
   {
    "duration": 74,
    "start_time": "2022-06-05T11:37:32.269Z"
   },
   {
    "duration": 220,
    "start_time": "2022-06-05T11:37:32.345Z"
   },
   {
    "duration": 135,
    "start_time": "2022-06-05T11:37:32.573Z"
   },
   {
    "duration": 197,
    "start_time": "2022-06-05T11:37:32.710Z"
   },
   {
    "duration": 64,
    "start_time": "2022-06-05T12:32:32.471Z"
   },
   {
    "duration": 0,
    "start_time": "2022-06-05T12:32:32.537Z"
   },
   {
    "duration": 0,
    "start_time": "2022-06-05T12:32:32.538Z"
   },
   {
    "duration": 0,
    "start_time": "2022-06-05T12:32:32.539Z"
   },
   {
    "duration": 0,
    "start_time": "2022-06-05T12:32:32.540Z"
   },
   {
    "duration": 0,
    "start_time": "2022-06-05T12:32:32.541Z"
   },
   {
    "duration": 0,
    "start_time": "2022-06-05T12:32:32.542Z"
   },
   {
    "duration": 0,
    "start_time": "2022-06-05T12:32:32.543Z"
   },
   {
    "duration": 0,
    "start_time": "2022-06-05T12:32:32.544Z"
   },
   {
    "duration": 0,
    "start_time": "2022-06-05T12:32:32.545Z"
   },
   {
    "duration": 0,
    "start_time": "2022-06-05T12:32:32.546Z"
   },
   {
    "duration": 0,
    "start_time": "2022-06-05T12:32:32.547Z"
   },
   {
    "duration": 6,
    "start_time": "2022-06-05T12:32:32.560Z"
   },
   {
    "duration": 0,
    "start_time": "2022-06-05T12:32:32.567Z"
   },
   {
    "duration": 0,
    "start_time": "2022-06-05T12:32:32.568Z"
   },
   {
    "duration": 0,
    "start_time": "2022-06-05T12:32:32.569Z"
   },
   {
    "duration": 0,
    "start_time": "2022-06-05T12:32:32.571Z"
   },
   {
    "duration": 91,
    "start_time": "2022-06-05T12:32:32.593Z"
   },
   {
    "duration": 34,
    "start_time": "2022-06-05T12:32:32.686Z"
   },
   {
    "duration": 35,
    "start_time": "2022-06-05T12:32:32.722Z"
   },
   {
    "duration": 7,
    "start_time": "2022-06-05T12:32:32.759Z"
   },
   {
    "duration": 1327,
    "start_time": "2022-06-05T12:32:56.203Z"
   },
   {
    "duration": 232,
    "start_time": "2022-06-05T12:32:57.533Z"
   },
   {
    "duration": 14,
    "start_time": "2022-06-05T12:32:57.767Z"
   },
   {
    "duration": 15,
    "start_time": "2022-06-05T12:32:57.783Z"
   },
   {
    "duration": 17,
    "start_time": "2022-06-05T12:32:57.800Z"
   },
   {
    "duration": 26,
    "start_time": "2022-06-05T12:32:57.819Z"
   },
   {
    "duration": 20,
    "start_time": "2022-06-05T12:32:57.847Z"
   },
   {
    "duration": 11,
    "start_time": "2022-06-05T12:32:57.869Z"
   },
   {
    "duration": 16,
    "start_time": "2022-06-05T12:32:57.882Z"
   },
   {
    "duration": 35,
    "start_time": "2022-06-05T12:32:57.901Z"
   },
   {
    "duration": 5,
    "start_time": "2022-06-05T12:32:57.942Z"
   },
   {
    "duration": 13,
    "start_time": "2022-06-05T12:32:57.949Z"
   },
   {
    "duration": 23,
    "start_time": "2022-06-05T12:32:57.964Z"
   },
   {
    "duration": 15,
    "start_time": "2022-06-05T12:32:57.990Z"
   },
   {
    "duration": 18,
    "start_time": "2022-06-05T12:32:58.007Z"
   },
   {
    "duration": 23,
    "start_time": "2022-06-05T12:32:58.027Z"
   },
   {
    "duration": 39,
    "start_time": "2022-06-05T12:32:58.053Z"
   },
   {
    "duration": 30,
    "start_time": "2022-06-05T12:32:58.093Z"
   },
   {
    "duration": 19,
    "start_time": "2022-06-05T12:32:58.142Z"
   },
   {
    "duration": 778,
    "start_time": "2022-06-05T12:32:58.163Z"
   },
   {
    "duration": 9,
    "start_time": "2022-06-05T12:32:58.944Z"
   },
   {
    "duration": 6,
    "start_time": "2022-06-05T12:32:58.955Z"
   },
   {
    "duration": 706,
    "start_time": "2022-06-05T12:32:59.042Z"
   },
   {
    "duration": 94,
    "start_time": "2022-06-05T12:32:59.750Z"
   },
   {
    "duration": 104,
    "start_time": "2022-06-05T12:32:59.846Z"
   },
   {
    "duration": 33,
    "start_time": "2022-06-05T12:32:59.951Z"
   },
   {
    "duration": 4,
    "start_time": "2022-06-05T12:32:59.985Z"
   },
   {
    "duration": 12,
    "start_time": "2022-06-05T12:32:59.992Z"
   },
   {
    "duration": 692,
    "start_time": "2022-06-05T12:33:00.005Z"
   },
   {
    "duration": 12,
    "start_time": "2022-06-05T12:33:00.699Z"
   },
   {
    "duration": 35,
    "start_time": "2022-06-05T12:33:00.712Z"
   },
   {
    "duration": 586,
    "start_time": "2022-06-05T12:33:00.841Z"
   },
   {
    "duration": 0,
    "start_time": "2022-06-05T12:33:01.429Z"
   },
   {
    "duration": 0,
    "start_time": "2022-06-05T12:33:01.431Z"
   },
   {
    "duration": 0,
    "start_time": "2022-06-05T12:33:01.432Z"
   },
   {
    "duration": 0,
    "start_time": "2022-06-05T12:33:01.442Z"
   },
   {
    "duration": 0,
    "start_time": "2022-06-05T12:33:01.443Z"
   },
   {
    "duration": 0,
    "start_time": "2022-06-05T12:33:01.445Z"
   },
   {
    "duration": 1,
    "start_time": "2022-06-05T12:33:01.446Z"
   },
   {
    "duration": 0,
    "start_time": "2022-06-05T12:33:01.448Z"
   },
   {
    "duration": 0,
    "start_time": "2022-06-05T12:33:01.450Z"
   },
   {
    "duration": 0,
    "start_time": "2022-06-05T12:33:01.451Z"
   },
   {
    "duration": 0,
    "start_time": "2022-06-05T12:33:01.453Z"
   },
   {
    "duration": 0,
    "start_time": "2022-06-05T12:33:01.454Z"
   },
   {
    "duration": 0,
    "start_time": "2022-06-05T12:33:01.455Z"
   },
   {
    "duration": 0,
    "start_time": "2022-06-05T12:33:01.456Z"
   },
   {
    "duration": 0,
    "start_time": "2022-06-05T12:33:01.457Z"
   },
   {
    "duration": 0,
    "start_time": "2022-06-05T12:33:01.458Z"
   },
   {
    "duration": 0,
    "start_time": "2022-06-05T12:33:01.460Z"
   },
   {
    "duration": 0,
    "start_time": "2022-06-05T12:33:01.460Z"
   },
   {
    "duration": 0,
    "start_time": "2022-06-05T12:33:01.461Z"
   },
   {
    "duration": 0,
    "start_time": "2022-06-05T12:33:01.462Z"
   },
   {
    "duration": 0,
    "start_time": "2022-06-05T12:33:01.464Z"
   },
   {
    "duration": 0,
    "start_time": "2022-06-05T12:33:01.465Z"
   },
   {
    "duration": 0,
    "start_time": "2022-06-05T12:33:01.467Z"
   },
   {
    "duration": 0,
    "start_time": "2022-06-05T12:33:01.468Z"
   },
   {
    "duration": 0,
    "start_time": "2022-06-05T12:33:01.469Z"
   },
   {
    "duration": 0,
    "start_time": "2022-06-05T12:33:01.470Z"
   },
   {
    "duration": 0,
    "start_time": "2022-06-05T12:33:01.471Z"
   },
   {
    "duration": 0,
    "start_time": "2022-06-05T12:33:01.472Z"
   },
   {
    "duration": 1303,
    "start_time": "2022-06-05T12:33:34.307Z"
   },
   {
    "duration": 116,
    "start_time": "2022-06-05T12:33:35.613Z"
   },
   {
    "duration": 16,
    "start_time": "2022-06-05T12:33:35.730Z"
   },
   {
    "duration": 16,
    "start_time": "2022-06-05T12:33:35.748Z"
   },
   {
    "duration": 17,
    "start_time": "2022-06-05T12:33:35.766Z"
   },
   {
    "duration": 9,
    "start_time": "2022-06-05T12:33:35.785Z"
   },
   {
    "duration": 30,
    "start_time": "2022-06-05T12:33:35.795Z"
   },
   {
    "duration": 14,
    "start_time": "2022-06-05T12:33:35.827Z"
   },
   {
    "duration": 19,
    "start_time": "2022-06-05T12:33:35.843Z"
   },
   {
    "duration": 34,
    "start_time": "2022-06-05T12:33:35.865Z"
   },
   {
    "duration": 10,
    "start_time": "2022-06-05T12:33:35.901Z"
   },
   {
    "duration": 15,
    "start_time": "2022-06-05T12:33:35.913Z"
   },
   {
    "duration": 36,
    "start_time": "2022-06-05T12:33:35.929Z"
   },
   {
    "duration": 13,
    "start_time": "2022-06-05T12:33:35.967Z"
   },
   {
    "duration": 28,
    "start_time": "2022-06-05T12:33:35.982Z"
   },
   {
    "duration": 21,
    "start_time": "2022-06-05T12:33:36.012Z"
   },
   {
    "duration": 38,
    "start_time": "2022-06-05T12:33:36.035Z"
   },
   {
    "duration": 21,
    "start_time": "2022-06-05T12:33:36.075Z"
   },
   {
    "duration": 19,
    "start_time": "2022-06-05T12:33:36.098Z"
   },
   {
    "duration": 727,
    "start_time": "2022-06-05T12:33:36.119Z"
   },
   {
    "duration": 100,
    "start_time": "2022-06-05T12:33:36.848Z"
   },
   {
    "duration": 104,
    "start_time": "2022-06-05T12:33:36.950Z"
   },
   {
    "duration": 687,
    "start_time": "2022-06-05T12:33:37.056Z"
   },
   {
    "duration": 105,
    "start_time": "2022-06-05T12:33:37.744Z"
   },
   {
    "duration": 103,
    "start_time": "2022-06-05T12:33:37.851Z"
   },
   {
    "duration": 41,
    "start_time": "2022-06-05T12:33:37.956Z"
   },
   {
    "duration": 4,
    "start_time": "2022-06-05T12:33:37.999Z"
   },
   {
    "duration": 16,
    "start_time": "2022-06-05T12:33:38.009Z"
   },
   {
    "duration": 667,
    "start_time": "2022-06-05T12:33:38.042Z"
   },
   {
    "duration": 12,
    "start_time": "2022-06-05T12:33:38.710Z"
   },
   {
    "duration": 26,
    "start_time": "2022-06-05T12:33:38.723Z"
   },
   {
    "duration": 2763,
    "start_time": "2022-06-05T12:33:38.750Z"
   },
   {
    "duration": 48,
    "start_time": "2022-06-05T12:33:41.515Z"
   },
   {
    "duration": 319,
    "start_time": "2022-06-05T12:33:41.564Z"
   },
   {
    "duration": 1420,
    "start_time": "2022-06-05T12:33:41.885Z"
   },
   {
    "duration": 2,
    "start_time": "2022-06-05T12:33:43.306Z"
   },
   {
    "duration": 6,
    "start_time": "2022-06-05T12:33:43.309Z"
   },
   {
    "duration": 7,
    "start_time": "2022-06-05T12:33:43.316Z"
   },
   {
    "duration": 81851,
    "start_time": "2022-06-05T12:33:43.324Z"
   },
   {
    "duration": 0,
    "start_time": "2022-06-05T12:35:05.176Z"
   },
   {
    "duration": 0,
    "start_time": "2022-06-05T12:35:05.177Z"
   },
   {
    "duration": 0,
    "start_time": "2022-06-05T12:35:05.178Z"
   },
   {
    "duration": 0,
    "start_time": "2022-06-05T12:35:05.179Z"
   },
   {
    "duration": 0,
    "start_time": "2022-06-05T12:35:05.180Z"
   },
   {
    "duration": 0,
    "start_time": "2022-06-05T12:35:05.181Z"
   },
   {
    "duration": 0,
    "start_time": "2022-06-05T12:35:05.182Z"
   },
   {
    "duration": 0,
    "start_time": "2022-06-05T12:35:05.182Z"
   },
   {
    "duration": 0,
    "start_time": "2022-06-05T12:35:05.183Z"
   },
   {
    "duration": 0,
    "start_time": "2022-06-05T12:35:05.184Z"
   },
   {
    "duration": 0,
    "start_time": "2022-06-05T12:35:05.185Z"
   },
   {
    "duration": 0,
    "start_time": "2022-06-05T12:35:05.186Z"
   },
   {
    "duration": 0,
    "start_time": "2022-06-05T12:35:05.187Z"
   },
   {
    "duration": 0,
    "start_time": "2022-06-05T12:35:05.188Z"
   },
   {
    "duration": 0,
    "start_time": "2022-06-05T12:35:05.189Z"
   },
   {
    "duration": 0,
    "start_time": "2022-06-05T12:35:05.189Z"
   },
   {
    "duration": 0,
    "start_time": "2022-06-05T12:35:05.190Z"
   },
   {
    "duration": 0,
    "start_time": "2022-06-05T12:35:05.191Z"
   },
   {
    "duration": 0,
    "start_time": "2022-06-05T12:35:05.192Z"
   },
   {
    "duration": 0,
    "start_time": "2022-06-05T12:35:05.193Z"
   },
   {
    "duration": 0,
    "start_time": "2022-06-05T12:35:05.194Z"
   },
   {
    "duration": 4,
    "start_time": "2022-06-05T12:35:43.588Z"
   },
   {
    "duration": 4,
    "start_time": "2022-06-05T12:35:54.656Z"
   },
   {
    "duration": 3,
    "start_time": "2022-06-05T12:37:10.559Z"
   },
   {
    "duration": 1518,
    "start_time": "2022-08-31T15:02:50.583Z"
   },
   {
    "duration": 90,
    "start_time": "2022-08-31T15:02:52.103Z"
   },
   {
    "duration": 10,
    "start_time": "2022-08-31T15:02:52.195Z"
   },
   {
    "duration": 10,
    "start_time": "2022-08-31T15:02:52.207Z"
   },
   {
    "duration": 11,
    "start_time": "2022-08-31T15:02:52.219Z"
   },
   {
    "duration": 5,
    "start_time": "2022-08-31T15:02:52.231Z"
   },
   {
    "duration": 16,
    "start_time": "2022-08-31T15:02:52.238Z"
   },
   {
    "duration": 5,
    "start_time": "2022-08-31T15:02:52.256Z"
   },
   {
    "duration": 5,
    "start_time": "2022-08-31T15:02:52.262Z"
   },
   {
    "duration": 17,
    "start_time": "2022-08-31T15:02:52.298Z"
   },
   {
    "duration": 3,
    "start_time": "2022-08-31T15:02:52.317Z"
   },
   {
    "duration": 13,
    "start_time": "2022-08-31T15:02:52.321Z"
   },
   {
    "duration": 9,
    "start_time": "2022-08-31T15:02:52.336Z"
   },
   {
    "duration": 5,
    "start_time": "2022-08-31T15:02:52.346Z"
   },
   {
    "duration": 10,
    "start_time": "2022-08-31T15:02:52.353Z"
   },
   {
    "duration": 10,
    "start_time": "2022-08-31T15:02:52.364Z"
   },
   {
    "duration": 21,
    "start_time": "2022-08-31T15:02:52.398Z"
   },
   {
    "duration": 15,
    "start_time": "2022-08-31T15:02:52.420Z"
   },
   {
    "duration": 15,
    "start_time": "2022-08-31T15:02:52.437Z"
   },
   {
    "duration": 666,
    "start_time": "2022-08-31T15:02:52.453Z"
   },
   {
    "duration": 78,
    "start_time": "2022-08-31T15:02:53.121Z"
   },
   {
    "duration": 8,
    "start_time": "2022-08-31T15:02:53.201Z"
   },
   {
    "duration": 707,
    "start_time": "2022-08-31T15:02:53.299Z"
   },
   {
    "duration": 4,
    "start_time": "2022-08-31T15:02:54.098Z"
   },
   {
    "duration": 20,
    "start_time": "2022-08-31T15:02:54.104Z"
   },
   {
    "duration": 37,
    "start_time": "2022-08-31T15:02:54.126Z"
   },
   {
    "duration": 3,
    "start_time": "2022-08-31T15:02:54.164Z"
   },
   {
    "duration": 18,
    "start_time": "2022-08-31T15:02:54.170Z"
   },
   {
    "duration": 634,
    "start_time": "2022-08-31T15:02:54.189Z"
   },
   {
    "duration": 9,
    "start_time": "2022-08-31T15:02:54.825Z"
   },
   {
    "duration": 12,
    "start_time": "2022-08-31T15:02:54.836Z"
   },
   {
    "duration": 2716,
    "start_time": "2022-08-31T15:02:54.900Z"
   },
   {
    "duration": 33,
    "start_time": "2022-08-31T15:02:57.617Z"
   },
   {
    "duration": 317,
    "start_time": "2022-08-31T15:02:57.651Z"
   },
   {
    "duration": 1459,
    "start_time": "2022-08-31T15:02:57.969Z"
   },
   {
    "duration": 3,
    "start_time": "2022-08-31T15:02:59.429Z"
   },
   {
    "duration": 11,
    "start_time": "2022-08-31T15:02:59.433Z"
   },
   {
    "duration": 1300,
    "start_time": "2022-08-31T15:08:30.996Z"
   },
   {
    "duration": 55,
    "start_time": "2022-08-31T15:08:32.297Z"
   },
   {
    "duration": 11,
    "start_time": "2022-08-31T15:08:32.354Z"
   },
   {
    "duration": 11,
    "start_time": "2022-08-31T15:08:32.367Z"
   },
   {
    "duration": 10,
    "start_time": "2022-08-31T15:08:32.379Z"
   },
   {
    "duration": 10,
    "start_time": "2022-08-31T15:08:32.390Z"
   },
   {
    "duration": 17,
    "start_time": "2022-08-31T15:08:32.401Z"
   },
   {
    "duration": 7,
    "start_time": "2022-08-31T15:08:32.419Z"
   },
   {
    "duration": 19,
    "start_time": "2022-08-31T15:08:32.427Z"
   },
   {
    "duration": 28,
    "start_time": "2022-08-31T15:08:32.448Z"
   },
   {
    "duration": 3,
    "start_time": "2022-08-31T15:08:32.477Z"
   },
   {
    "duration": 7,
    "start_time": "2022-08-31T15:08:32.481Z"
   },
   {
    "duration": 19,
    "start_time": "2022-08-31T15:08:32.489Z"
   },
   {
    "duration": 9,
    "start_time": "2022-08-31T15:08:32.511Z"
   },
   {
    "duration": 12,
    "start_time": "2022-08-31T15:08:32.521Z"
   },
   {
    "duration": 9,
    "start_time": "2022-08-31T15:08:32.534Z"
   },
   {
    "duration": 31,
    "start_time": "2022-08-31T15:08:32.544Z"
   },
   {
    "duration": 29,
    "start_time": "2022-08-31T15:08:32.576Z"
   },
   {
    "duration": 18,
    "start_time": "2022-08-31T15:08:32.607Z"
   },
   {
    "duration": 689,
    "start_time": "2022-08-31T15:08:32.626Z"
   },
   {
    "duration": 89,
    "start_time": "2022-08-31T15:08:33.317Z"
   },
   {
    "duration": 99,
    "start_time": "2022-08-31T15:08:33.408Z"
   },
   {
    "duration": 696,
    "start_time": "2022-08-31T15:08:33.509Z"
   },
   {
    "duration": 5,
    "start_time": "2022-08-31T15:08:34.207Z"
   },
   {
    "duration": 190,
    "start_time": "2022-08-31T15:08:34.213Z"
   },
   {
    "duration": 48,
    "start_time": "2022-08-31T15:08:34.407Z"
   },
   {
    "duration": 4,
    "start_time": "2022-08-31T15:08:34.457Z"
   },
   {
    "duration": 12,
    "start_time": "2022-08-31T15:08:34.466Z"
   },
   {
    "duration": 711,
    "start_time": "2022-08-31T15:08:34.480Z"
   },
   {
    "duration": 16,
    "start_time": "2022-08-31T15:08:35.193Z"
   },
   {
    "duration": 188,
    "start_time": "2022-08-31T15:08:35.210Z"
   },
   {
    "duration": 2790,
    "start_time": "2022-08-31T15:08:35.400Z"
   },
   {
    "duration": 40,
    "start_time": "2022-08-31T15:08:38.191Z"
   },
   {
    "duration": 328,
    "start_time": "2022-08-31T15:08:38.233Z"
   },
   {
    "duration": 1519,
    "start_time": "2022-08-31T15:08:38.562Z"
   },
   {
    "duration": 2,
    "start_time": "2022-08-31T15:08:40.083Z"
   },
   {
    "duration": 7,
    "start_time": "2022-08-31T15:08:40.086Z"
   },
   {
    "duration": 3,
    "start_time": "2022-08-31T15:08:40.098Z"
   },
   {
    "duration": 31,
    "start_time": "2022-08-31T15:08:40.102Z"
   },
   {
    "duration": 171,
    "start_time": "2022-08-31T15:08:40.134Z"
   },
   {
    "duration": 66,
    "start_time": "2022-08-31T15:08:40.307Z"
   },
   {
    "duration": 140,
    "start_time": "2022-08-31T15:08:40.374Z"
   },
   {
    "duration": 5,
    "start_time": "2022-08-31T15:08:40.516Z"
   },
   {
    "duration": 17,
    "start_time": "2022-08-31T15:08:40.523Z"
   },
   {
    "duration": 6,
    "start_time": "2022-08-31T15:08:40.542Z"
   },
   {
    "duration": 11,
    "start_time": "2022-08-31T15:08:40.549Z"
   },
   {
    "duration": 99,
    "start_time": "2022-08-31T15:08:40.562Z"
   },
   {
    "duration": 6,
    "start_time": "2022-08-31T15:08:40.662Z"
   },
   {
    "duration": 15,
    "start_time": "2022-08-31T15:08:40.669Z"
   },
   {
    "duration": 74,
    "start_time": "2022-08-31T15:08:40.699Z"
   },
   {
    "duration": 1027,
    "start_time": "2022-08-31T15:08:40.774Z"
   },
   {
    "duration": 131,
    "start_time": "2022-08-31T15:08:41.802Z"
   },
   {
    "duration": 26,
    "start_time": "2022-08-31T15:08:41.935Z"
   },
   {
    "duration": 907,
    "start_time": "2022-08-31T15:08:41.963Z"
   },
   {
    "duration": 354,
    "start_time": "2022-08-31T15:08:42.872Z"
   },
   {
    "duration": 75,
    "start_time": "2022-08-31T15:08:43.227Z"
   },
   {
    "duration": 112,
    "start_time": "2022-08-31T15:08:43.304Z"
   },
   {
    "duration": 158,
    "start_time": "2022-08-31T15:08:43.499Z"
   },
   {
    "duration": 160,
    "start_time": "2022-08-31T15:08:43.658Z"
   }
  ],
  "kernelspec": {
   "display_name": "Python 3 (ipykernel)",
   "language": "python",
   "name": "python3"
  },
  "language_info": {
   "codemirror_mode": {
    "name": "ipython",
    "version": 3
   },
   "file_extension": ".py",
   "mimetype": "text/x-python",
   "name": "python",
   "nbconvert_exporter": "python",
   "pygments_lexer": "ipython3",
   "version": "3.9.12"
  },
  "toc": {
   "base_numbering": 1,
   "nav_menu": {},
   "number_sections": true,
   "sideBar": true,
   "skip_h1_title": true,
   "title_cell": "Содержание",
   "title_sidebar": "Отток клиентов",
   "toc_cell": true,
   "toc_position": {},
   "toc_section_display": true,
   "toc_window_display": true
  }
 },
 "nbformat": 4,
 "nbformat_minor": 2
}
